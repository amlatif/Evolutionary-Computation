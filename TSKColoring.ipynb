{
 "cells": [
  {
   "cell_type": "code",
   "execution_count": 1,
   "id": "8835cdca-c88c-4191-8d2c-22ea1ca92111",
   "metadata": {},
   "outputs": [],
   "source": [
    "import random"
   ]
  },
  {
   "cell_type": "code",
   "execution_count": 11,
   "id": "b8a44af7-0c2f-497b-ae07-4be72e238b45",
   "metadata": {},
   "outputs": [],
   "source": [
    "# Define the graph as an adjacency list\n",
    "graph = {\n",
    "    0: [1, 2],\n",
    "    1: [0, 2, 3],\n",
    "    2: [0, 1, 3],\n",
    "    3: [1, 2]\n",
    "}"
   ]
  },
  {
   "cell_type": "code",
   "execution_count": 2,
   "id": "8d1fbf71-06a3-4873-8bcc-e03a0fece384",
   "metadata": {},
   "outputs": [],
   "source": [
    "def is_valid_coloring(graph, coloring):\n",
    "    \"\"\"\n",
    "    Check if the current coloring is valid.\n",
    "    Parameters:\n",
    "        graph: Adjacency list representation of the graph.\n",
    "        coloring: List of colors assigned to each vertex.\n",
    "    Returns:\n",
    "        True if the coloring is valid, False otherwise.\n",
    "    \"\"\"\n",
    "    for vertex in range(len(graph)):\n",
    "        for neighbor in graph[vertex]:\n",
    "            if coloring[vertex] == coloring[neighbor]:  # Adjacent vertices have the same color\n",
    "                return False\n",
    "    return True"
   ]
  },
  {
   "cell_type": "code",
   "execution_count": 13,
   "id": "b322fe3d-8a50-45c0-8df7-b2d7d6c21f82",
   "metadata": {},
   "outputs": [
    {
     "data": {
      "text/plain": [
       "False"
      ]
     },
     "execution_count": 13,
     "metadata": {},
     "output_type": "execute_result"
    }
   ],
   "source": [
    "coloring = [0,3,0,2]\n",
    "is_valid_coloring(graph, coloring)"
   ]
  },
  {
   "cell_type": "code",
   "execution_count": 14,
   "id": "3068bec6-c731-4a98-8900-034f6609804d",
   "metadata": {},
   "outputs": [
    {
     "data": {
      "text/plain": [
       "True"
      ]
     },
     "execution_count": 14,
     "metadata": {},
     "output_type": "execute_result"
    }
   ],
   "source": [
    "coloring = [0,3,2,0]\n",
    "is_valid_coloring(graph, coloring)"
   ]
  },
  {
   "cell_type": "code",
   "execution_count": 15,
   "id": "5cc1a6d0-8626-47d1-8eb5-0706794ee001",
   "metadata": {},
   "outputs": [],
   "source": [
    "def calculate_num_colors(coloring):\n",
    "    \"\"\"Calculate the number of unique colors used in the coloring.\"\"\"\n",
    "    return len(set(coloring))"
   ]
  },
  {
   "cell_type": "code",
   "execution_count": 16,
   "id": "d8cc453c-4f22-463e-80a1-ea84df72aae9",
   "metadata": {},
   "outputs": [
    {
     "data": {
      "text/plain": [
       "3"
      ]
     },
     "execution_count": 16,
     "metadata": {},
     "output_type": "execute_result"
    }
   ],
   "source": [
    "calculate_num_colors(coloring)"
   ]
  },
  {
   "cell_type": "code",
   "execution_count": 4,
   "id": "76d767df-e2f2-41fc-8f5d-25db5207ed68",
   "metadata": {},
   "outputs": [],
   "source": [
    "def generate_neighbors(graph, coloring):\n",
    "    \"\"\"\n",
    "    Generate neighboring solutions by changing the color of one vertex.\n",
    "    Parameters:\n",
    "        graph: Adjacency list representation of the graph.\n",
    "        coloring: Current coloring (list of colors).\n",
    "    Returns:\n",
    "        neighbors: List of neighboring colorings.\n",
    "    \"\"\"\n",
    "    neighbors = []\n",
    "    num_vertices = len(graph)\n",
    "    num_colors = max(coloring) + 1  # Number of colors currently used\n",
    "    for vertex in range(num_vertices):\n",
    "        for color in range(num_colors + 1):  # Try all possible colors (including a new color)\n",
    "            if color != coloring[vertex]:  # Change the color of the vertex\n",
    "                neighbor = coloring.copy()\n",
    "                neighbor[vertex] = color\n",
    "                neighbors.append(neighbor)\n",
    "    return neighbors"
   ]
  },
  {
   "cell_type": "code",
   "execution_count": 18,
   "id": "12aa24d3-260c-48f3-84a4-c4582bb4c0aa",
   "metadata": {},
   "outputs": [
    {
     "name": "stdout",
     "output_type": "stream",
     "text": [
      "[0, 3, 2, 0]\n"
     ]
    },
    {
     "data": {
      "text/plain": [
       "[[1, 3, 2, 0],\n",
       " [2, 3, 2, 0],\n",
       " [3, 3, 2, 0],\n",
       " [4, 3, 2, 0],\n",
       " [0, 0, 2, 0],\n",
       " [0, 1, 2, 0],\n",
       " [0, 2, 2, 0],\n",
       " [0, 4, 2, 0],\n",
       " [0, 3, 0, 0],\n",
       " [0, 3, 1, 0],\n",
       " [0, 3, 3, 0],\n",
       " [0, 3, 4, 0],\n",
       " [0, 3, 2, 1],\n",
       " [0, 3, 2, 2],\n",
       " [0, 3, 2, 3],\n",
       " [0, 3, 2, 4]]"
      ]
     },
     "execution_count": 18,
     "metadata": {},
     "output_type": "execute_result"
    }
   ],
   "source": [
    "print(coloring)\n",
    "generate_neighbors(graph, coloring)"
   ]
  },
  {
   "cell_type": "code",
   "execution_count": 19,
   "id": "bd17f30a-2d49-4b87-a940-0a037a0788ef",
   "metadata": {},
   "outputs": [],
   "source": [
    "def tabu_search_graph_coloring(graph, initial_coloring, max_iterations, tabu_list_size):\n",
    "    \"\"\"\n",
    "    Tabu Search Algorithm for the Graph Coloring Problem.\n",
    "\n",
    "    Parameters:\n",
    "        graph: Adjacency list representation of the graph.\n",
    "        initial_coloring: Initial coloring (list of colors).\n",
    "        max_iterations: Maximum number of iterations.\n",
    "        tabu_list_size: Size of the tabu list.\n",
    "\n",
    "    Returns:\n",
    "        best_coloring: The best coloring found (list of colors).\n",
    "        best_num_colors: The minimum number of colors used.\n",
    "    \"\"\"\n",
    "    current_coloring = initial_coloring\n",
    "    best_coloring = current_coloring\n",
    "    best_num_colors = calculate_num_colors(best_coloring)\n",
    "    tabu_list = []\n",
    "\n",
    "    for iteration in range(max_iterations):\n",
    "        # Generate neighboring solutions\n",
    "        neighbors = generate_neighbors(graph, current_coloring)\n",
    "\n",
    "        # Filter out solutions in the tabu list\n",
    "        valid_neighbors = [n for n in neighbors if n not in tabu_list]\n",
    "\n",
    "        if not valid_neighbors:\n",
    "            print(\"No valid neighbors. Exiting...\")\n",
    "            break\n",
    "\n",
    "        # Evaluate neighbors and select the best valid one\n",
    "        neighbor_scores = []\n",
    "        for neighbor in valid_neighbors:\n",
    "            if is_valid_coloring(graph, neighbor):  # Only consider valid colorings\n",
    "                num_colors = calculate_num_colors(neighbor)\n",
    "                neighbor_scores.append((neighbor, num_colors))\n",
    "\n",
    "        if not neighbor_scores:\n",
    "            print(f\"No valid neighbors at iteration {iteration}. Continuing...\")\n",
    "            continue\n",
    "\n",
    "        # Select the best neighbor based on the number of colors\n",
    "        neighbor_scores.sort(key=lambda x: x[1])  # Sort by number of colors (ascending)\n",
    "        best_neighbor, best_neighbor_num_colors = neighbor_scores[0]\n",
    "\n",
    "        # Update current coloring\n",
    "        current_coloring = best_neighbor\n",
    "\n",
    "        # Update tabu list\n",
    "        tabu_list.append(best_neighbor)\n",
    "        if len(tabu_list) > tabu_list_size:\n",
    "            tabu_list.pop(0)  # Remove the oldest entry\n",
    "\n",
    "        # Update best coloring\n",
    "        if best_neighbor_num_colors < best_num_colors:\n",
    "            best_coloring = best_neighbor\n",
    "            best_num_colors = best_neighbor_num_colors\n",
    "            print(f\"New best coloring found at iteration {iteration}: Colors = {best_num_colors}\")\n",
    "\n",
    "    return best_coloring, best_num_colors    "
   ]
  },
  {
   "cell_type": "code",
   "execution_count": 20,
   "id": "d90f518c-7bf4-4305-9e46-6da109ff9809",
   "metadata": {},
   "outputs": [],
   "source": [
    "num_vertices = len(graph)\n",
    "initial_coloring = [random.randint(0, num_vertices - 1) for _ in range(num_vertices)]  # Random initial coloring"
   ]
  },
  {
   "cell_type": "code",
   "execution_count": 21,
   "id": "3d925b75-dd00-4e96-9663-62e179a856ef",
   "metadata": {},
   "outputs": [
    {
     "data": {
      "text/plain": [
       "[2, 3, 0, 1]"
      ]
     },
     "execution_count": 21,
     "metadata": {},
     "output_type": "execute_result"
    }
   ],
   "source": [
    "initial_coloring"
   ]
  },
  {
   "cell_type": "code",
   "execution_count": 22,
   "id": "52b617b0-6517-4685-a66b-dff0efbe4e2f",
   "metadata": {},
   "outputs": [
    {
     "name": "stdout",
     "output_type": "stream",
     "text": [
      "New best coloring found at iteration 0: Colors = 3\n",
      "\n",
      "Optimization complete.\n",
      "Best coloring: [1, 3, 0, 1]\n",
      "Minimum number of colors: 3\n"
     ]
    }
   ],
   "source": [
    "# Parameters\n",
    "max_iterations = 100\n",
    "tabu_list_size = 5\n",
    "# Run Tabu Search\n",
    "best_coloring, best_num_colors = tabu_search_graph_coloring(\n",
    "    graph=graph,\n",
    "    initial_coloring=initial_coloring,\n",
    "    max_iterations=max_iterations,\n",
    "    tabu_list_size=tabu_list_size\n",
    ")\n",
    "\n",
    "print(\"\\nOptimization complete.\")\n",
    "print(f\"Best coloring: {best_coloring}\")\n",
    "print(f\"Minimum number of colors: {best_num_colors}\")"
   ]
  },
  {
   "cell_type": "code",
   "execution_count": null,
   "id": "1231395e-8ac0-44d6-9e9f-2ebc21947963",
   "metadata": {},
   "outputs": [],
   "source": []
  }
 ],
 "metadata": {
  "kernelspec": {
   "display_name": "Python 3 (ipykernel)",
   "language": "python",
   "name": "python3"
  },
  "language_info": {
   "codemirror_mode": {
    "name": "ipython",
    "version": 3
   },
   "file_extension": ".py",
   "mimetype": "text/x-python",
   "name": "python",
   "nbconvert_exporter": "python",
   "pygments_lexer": "ipython3",
   "version": "3.13.0"
  }
 },
 "nbformat": 4,
 "nbformat_minor": 5
}
