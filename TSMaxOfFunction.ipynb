{
 "cells": [
  {
   "cell_type": "markdown",
   "id": "34338ef8-d365-4b18-95f5-7b9333f7e5a8",
   "metadata": {},
   "source": [
    "**تابو سرچ** (Tabu Search) یا **جستجوی ممنوعه**، یک الگوریتم بهینه‌سازی فراابتکاری (Metaheuristic) است که برای حل مسائل بهینه‌سازی پیچیده و دشوار به کار می‌رود. این روش در دهه ۱۹۸۰ توسط فرد گلوور (Fred Glover) معرفی شد و به طور گسترده در حوزه‌های مختلفی مانند مدیریت عملیات، مهندسی صنایع، علوم کامپیوتر و تحقیق در عملیات استفاده می‌شود.\n",
    "\n",
    "### اصول کلی جستجوی ممنوعه\n",
    "هدف از جستجوی ممنوعه، یافتن جواب بهینه یا نزدیک به بهینه برای مسائلی است که فضای جستجوی آنها بسیار بزرگ و پیچیده است. این الگوریتم با استفاده از یک استراتژی هوشمندانه، از گیر کردن در بهینه‌های محلی (Local Optima) جلوگیری می‌کند. اصل اساسی آن استفاده از لیستی به نام **لیست ممنوعه (Tabu List)** است که حرکات یا تصمیماتی را که اخیراً انجام شده‌اند، موقتاً ممنوع می‌کند. این کار باعث می‌شود الگوریتم بتواند از مناطق قبلاً بررسی‌شده فرار کند و به دنبال جواب‌های جدیدتر و بهتر باشد.\n",
    "\n",
    "---\n",
    "\n",
    "### مراحل اصلی جستجوی ممنوعه\n",
    "1. **تعیین جواب اولیه:**\n",
    "   - الگوریتم با یک جواب اولیه (مثلاً به صورت تصادفی یا با استفاده از یک روش ساده) شروع می‌کند.\n",
    "\n",
    "2. **تعریف همسایگی:**\n",
    "   - برای هر جواب فعلی، مجموعه‌ای از جواب‌های همسایه (Neighbor Solutions) تعریف می‌شود. این همسایه‌ها با اعمال تغییرات کوچکی (مانند جابجایی عناصر یا تغییر مقادیر) به دست می‌آیند.\n",
    "\n",
    "3. **انتخاب بهترین همسایه:**\n",
    "   - از میان جواب‌های همسایه، بهترین جواب انتخاب می‌شود، حتی اگر این جواب نسبت به جواب فعلی بدتر باشد. این کار به الگوریتم اجازه می‌دهد از بهینه‌های محلی فرار کند.\n",
    "\n",
    "4. **به‌روزرسانی لیست ممنوعه:**\n",
    "   - حرکتی که منجر به انتخاب جواب جدید شده است، به لیست ممنوعه اضافه می‌شود. این لیست شامل حرکاتی است که به طور موقت ممنوع هستند تا الگوریتم از تکرار حرکات قبلی جلوگیری کند.\n",
    "\n",
    "5. **بررسی شرط توقف:**\n",
    "   - الگوریتم تا زمانی ادامه می‌یابد که شرط توقف (مانند رسیدن به تعداد مشخصی از تکرارها یا یافتن جواب به اندازه کافی خوب) برآورده نشود.\n",
    "\n",
    "---\n",
    "\n",
    "\n",
    "### مزایا و معایب\n",
    "**مزایا:**\n",
    "- توانایی فرار از بهینه‌های محلی.\n",
    "- انعطاف‌پذیری بالا در حل مسائل مختلف.\n",
    "- قابلیت تنظیم و بهبود با توجه به شرایط مسئله.\n",
    "\n",
    "**معایب:**\n",
    "- تنظیم پارامترها (مانند طول لیست ممنوعه) می‌تواند چالش‌برانگیز باشد.\n",
    "- ممکن است برای مسائل بسیار بزرگ زمان‌بر باشد."
   ]
  },
  {
   "cell_type": "code",
   "execution_count": 1,
   "id": "5f26b81e-1f23-416c-a10d-4b19feb8d6d1",
   "metadata": {},
   "outputs": [],
   "source": [
    "import random"
   ]
  },
  {
   "cell_type": "code",
   "execution_count": 2,
   "id": "2aed49d2-c172-4f09-af27-4bffe919bbc5",
   "metadata": {},
   "outputs": [],
   "source": [
    "def objective_function(x):\n",
    "    \"\"\"Objective function to minimize: f(x) = x^2\"\"\"\n",
    "    return x ** 2"
   ]
  },
  {
   "cell_type": "code",
   "execution_count": 3,
   "id": "50dd33ba-4407-40a0-87ba-4b87bdba97b9",
   "metadata": {},
   "outputs": [
    {
     "data": {
      "text/plain": [
       "25"
      ]
     },
     "execution_count": 3,
     "metadata": {},
     "output_type": "execute_result"
    }
   ],
   "source": [
    "objective_function(5)"
   ]
  },
  {
   "cell_type": "code",
   "execution_count": 4,
   "id": "6d5b470a-df5d-4b61-8f15-ccd76c009685",
   "metadata": {},
   "outputs": [],
   "source": [
    "def generate_neighbors(x, step_size=1):\n",
    "    \"\"\"Generate neighboring solutions by adding/subtracting a step size.\"\"\"\n",
    "    return [x + step_size, x - step_size]"
   ]
  },
  {
   "cell_type": "code",
   "execution_count": 5,
   "id": "d0153b45-80d4-4514-9179-975697c81de9",
   "metadata": {},
   "outputs": [
    {
     "data": {
      "text/plain": [
       "[6, 4]"
      ]
     },
     "execution_count": 5,
     "metadata": {},
     "output_type": "execute_result"
    }
   ],
   "source": [
    "generate_neighbors(5)"
   ]
  },
  {
   "cell_type": "code",
   "execution_count": 7,
   "id": "0906d861-89a6-4080-83f7-cc08655fdb1f",
   "metadata": {},
   "outputs": [
    {
     "name": "stdout",
     "output_type": "stream",
     "text": [
      "No valid neighbors. Exiting...\n"
     ]
    }
   ],
   "source": [
    "#z = [1, 2]\n",
    "z = []\n",
    "if not z:\n",
    "   print(\"No valid neighbors. Exiting...\")"
   ]
  },
  {
   "cell_type": "code",
   "execution_count": 18,
   "id": "e75a2072-ef1e-42c0-a068-2dcd690e4616",
   "metadata": {},
   "outputs": [],
   "source": [
    "def tabu_search(objective_function, initial_solution, max_iterations, tabu_list_size, step_size=1):\n",
    "    \"\"\"\n",
    "    Tabu Search Algorithm Implementation.\n",
    "\n",
    "    Parameters:\n",
    "        objective_function: Function to minimize.\n",
    "        initial_solution: Starting point for the search.\n",
    "        max_iterations: Maximum number of iterations.\n",
    "        tabu_list_size: Size of the tabu list.\n",
    "        step_size: Step size for generating neighbors.\n",
    "\n",
    "    Returns:\n",
    "        best_solution: The best solution found.\n",
    "        best_value: The value of the objective function at the best solution.\n",
    "    \"\"\"\n",
    "    # Initialize variables\n",
    "    current_solution = initial_solution\n",
    "    best_solution = current_solution\n",
    "    best_value = objective_function(current_solution)\n",
    "    tabu_list = []\n",
    "\n",
    "    for iteration in range(max_iterations):\n",
    "        # Generate neighboring solutions\n",
    "        neighbors = generate_neighbors(current_solution, step_size)\n",
    "        \n",
    "        # Filter out solutions in the tabu list\n",
    "        valid_neighbors = [n for n in neighbors if n not in tabu_list]\n",
    "        \n",
    "        if not valid_neighbors:\n",
    "            print(\"No valid neighbors. Exiting...\")\n",
    "            break\n",
    "        \n",
    "        # Evaluate neighbors and select the best one\n",
    "        neighbor_values = [(n, objective_function(n)) for n in valid_neighbors]\n",
    "        neighbor_values.sort(key=lambda x: x[1])  # Sort by objective function value\n",
    "        best_neighbor, best_neighbor_value = neighbor_values[0]\n",
    "\n",
    "        # Update current solution\n",
    "        current_solution = best_neighbor\n",
    "\n",
    "        # Update tabu list\n",
    "        tabu_list.append(best_neighbor)\n",
    "        if len(tabu_list) > tabu_list_size:\n",
    "            tabu_list.pop(0)  # Remove the oldest entry\n",
    "\n",
    "        # Update best solution\n",
    "        if best_neighbor_value < best_value:\n",
    "            best_solution = best_neighbor\n",
    "            best_value = best_neighbor_value\n",
    "            print(f\"New best solution found at iteration {iteration}: x = {best_solution}, f(x) = {best_value}\")\n",
    "\n",
    "    return best_solution, best_value"
   ]
  },
  {
   "cell_type": "code",
   "execution_count": 19,
   "id": "a989ca74-0e6a-4bf8-85b0-15f2fb989b7d",
   "metadata": {},
   "outputs": [],
   "source": [
    "# Parameters\n",
    "initial_solution = random.randint(-10, 10)  # Random starting point\n",
    "max_iterations = 100\n",
    "tabu_list_size = 5\n",
    "step_size = 1"
   ]
  },
  {
   "cell_type": "code",
   "execution_count": 20,
   "id": "661da5a0-6286-4ab0-8afa-2e72c35d3008",
   "metadata": {},
   "outputs": [
    {
     "name": "stdout",
     "output_type": "stream",
     "text": [
      "New best solution found at iteration 0: x = 2, f(x) = 4\n",
      "New best solution found at iteration 1: x = 1, f(x) = 1\n",
      "New best solution found at iteration 2: x = 0, f(x) = 0\n"
     ]
    }
   ],
   "source": [
    "# Run Tabu Search\n",
    "best_solution, best_value = tabu_search(\n",
    "    objective_function=objective_function,\n",
    "    initial_solution=initial_solution,\n",
    "    max_iterations=max_iterations,\n",
    "    tabu_list_size=tabu_list_size,\n",
    "    step_size=step_size\n",
    ")"
   ]
  },
  {
   "cell_type": "code",
   "execution_count": 21,
   "id": "9ad26bb7-53bf-4d80-9845-04c60d33521b",
   "metadata": {},
   "outputs": [
    {
     "name": "stdout",
     "output_type": "stream",
     "text": [
      "Optimization complete.\n",
      "Best solution: x = 0\n",
      "Best value: f(x) = 0\n"
     ]
    }
   ],
   "source": [
    "print(f\"Optimization complete.\")\n",
    "print(f\"Best solution: x = {best_solution}\")\n",
    "print(f\"Best value: f(x) = {best_value}\")"
   ]
  }
 ],
 "metadata": {
  "kernelspec": {
   "display_name": "Python 3 (ipykernel)",
   "language": "python",
   "name": "python3"
  },
  "language_info": {
   "codemirror_mode": {
    "name": "ipython",
    "version": 3
   },
   "file_extension": ".py",
   "mimetype": "text/x-python",
   "name": "python",
   "nbconvert_exporter": "python",
   "pygments_lexer": "ipython3",
   "version": "3.13.0"
  }
 },
 "nbformat": 4,
 "nbformat_minor": 5
}
