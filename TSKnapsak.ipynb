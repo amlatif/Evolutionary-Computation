{
 "cells": [
  {
   "cell_type": "code",
   "execution_count": 1,
   "id": "a9a154c2-a6c7-4e46-88c7-e73f78908fcf",
   "metadata": {},
   "outputs": [],
   "source": [
    "import random"
   ]
  },
  {
   "cell_type": "code",
   "execution_count": 2,
   "id": "21110a6b-cd7f-4d07-a71e-21f4c45e07de",
   "metadata": {},
   "outputs": [],
   "source": [
    "def calculate_total_value_and_weight(solution, weights, values):\n",
    "    \"\"\"\n",
    "    Calculate the total value and weight of a given solution.\n",
    "    Parameters:\n",
    "        solution: List of binary values (1 = item included, 0 = item excluded).\n",
    "        weights: List of weights for each item.\n",
    "        values: List of values for each item.\n",
    "    Returns:\n",
    "        total_value: Total value of the selected items.\n",
    "        total_weight: Total weight of the selected items.\n",
    "    \"\"\"\n",
    "    total_value = sum(values[i] for i in range(len(solution)) if solution[i] == 1)\n",
    "    total_weight = sum(weights[i] for i in range(len(solution)) if solution[i] == 1)\n",
    "    return total_value, total_weight"
   ]
  },
  {
   "cell_type": "code",
   "execution_count": 4,
   "id": "2eaccefb-e818-449b-80b4-3f30c5930090",
   "metadata": {},
   "outputs": [],
   "source": [
    "def generate_neighbors(solution):\n",
    "    \"\"\"\n",
    "    Generate neighboring solutions by flipping one bit in the solution.\n",
    "    Parameters:\n",
    "        solution: Current solution (list of binary values).\n",
    "    Returns:\n",
    "        neighbors: List of neighboring solutions.\n",
    "    \"\"\"\n",
    "    neighbors = []\n",
    "    for i in range(len(solution)):\n",
    "        neighbor = solution.copy()\n",
    "        neighbor[i] = 1 - neighbor[i]  # Flip the bit (0 -> 1 or 1 -> 0)\n",
    "        neighbors.append(neighbor)\n",
    "    return neighbors"
   ]
  },
  {
   "cell_type": "code",
   "execution_count": 6,
   "id": "3b3d12a0-23d6-49c4-a353-fc9b1a6b532e",
   "metadata": {},
   "outputs": [
    {
     "name": "stdout",
     "output_type": "stream",
     "text": [
      "[0, 1, 0, 1, 1, 1]\n"
     ]
    },
    {
     "data": {
      "text/plain": [
       "[[1, 1, 0, 1, 1, 1],\n",
       " [0, 0, 0, 1, 1, 1],\n",
       " [0, 1, 1, 1, 1, 1],\n",
       " [0, 1, 0, 0, 1, 1],\n",
       " [0, 1, 0, 1, 0, 1],\n",
       " [0, 1, 0, 1, 1, 0]]"
      ]
     },
     "execution_count": 6,
     "metadata": {},
     "output_type": "execute_result"
    }
   ],
   "source": [
    "print([0,1,0,1,1,1])\n",
    "generate_neighbors([0,1,0,1,1,1])"
   ]
  },
  {
   "cell_type": "code",
   "execution_count": 7,
   "id": "dbe2fe55-de12-483a-bfdc-d847fc520acb",
   "metadata": {},
   "outputs": [],
   "source": [
    "def tabu_search_knapsack(weights, values, max_capacity, initial_solution, max_iterations, tabu_list_size):\n",
    "    \"\"\"\n",
    "    Tabu Search Algorithm for the Knapsack Problem.\n",
    "\n",
    "    Parameters:\n",
    "        weights: List of weights for each item.\n",
    "        values: List of values for each item.\n",
    "        max_capacity: Maximum weight capacity of the knapsack.\n",
    "        initial_solution: Initial solution (list of binary values).\n",
    "        max_iterations: Maximum number of iterations.\n",
    "        tabu_list_size: Size of the tabu list.\n",
    "\n",
    "    Returns:\n",
    "        best_solution: The best solution found (list of binary values).\n",
    "        best_value: The total value of the best solution.\n",
    "    \"\"\"\n",
    "    current_solution = initial_solution\n",
    "    best_solution = current_solution\n",
    "    best_value, _ = calculate_total_value_and_weight(best_solution, weights, values)\n",
    "    tabu_list = []\n",
    "\n",
    "    for iteration in range(max_iterations):\n",
    "        # Generate neighboring solutions\n",
    "        neighbors = generate_neighbors(current_solution)\n",
    "\n",
    "        # Filter out solutions in the tabu list\n",
    "        valid_neighbors = [n for n in neighbors if n not in tabu_list]\n",
    "\n",
    "        if not valid_neighbors:\n",
    "            print(\"No valid neighbors. Exiting...\")\n",
    "            break\n",
    "\n",
    "        # Evaluate neighbors and select the best feasible one\n",
    "        neighbor_scores = []\n",
    "        for neighbor in valid_neighbors:\n",
    "            total_value, total_weight = calculate_total_value_and_weight(neighbor, weights, values)\n",
    "            if total_weight <= max_capacity:  # Only consider feasible solutions\n",
    "                neighbor_scores.append((neighbor, total_value))\n",
    "\n",
    "        if not neighbor_scores:\n",
    "            print(f\"No feasible neighbors at iteration {iteration}. Continuing...\")\n",
    "            continue\n",
    "\n",
    "        # Select the best neighbor based on total value\n",
    "        neighbor_scores.sort(key=lambda x: x[1], reverse=True)  # Sort by value (descending)\n",
    "        best_neighbor, best_neighbor_value = neighbor_scores[0]\n",
    "\n",
    "        # Update current solution\n",
    "        current_solution = best_neighbor\n",
    "\n",
    "        # Update tabu list\n",
    "        tabu_list.append(best_neighbor)\n",
    "        if len(tabu_list) > tabu_list_size:\n",
    "            tabu_list.pop(0)  # Remove the oldest entry\n",
    "\n",
    "        # Update best solution\n",
    "        if best_neighbor_value > best_value:\n",
    "            best_solution = best_neighbor\n",
    "            best_value = best_neighbor_value\n",
    "            print(f\"New best solution found at iteration {iteration}: Value = {best_value}\")\n",
    "\n",
    "    return best_solution, best_value    "
   ]
  },
  {
   "cell_type": "code",
   "execution_count": 10,
   "id": "796b9f1d-6d15-4e31-8db5-fa0bf9ccc4ff",
   "metadata": {},
   "outputs": [
    {
     "name": "stdout",
     "output_type": "stream",
     "text": [
      "\n",
      "Optimization complete.\n",
      "Best solution: [1, 1, 1, 0, 0, 1]\n",
      "Best value: 48\n"
     ]
    }
   ],
   "source": [
    "# Define the problem parameters\n",
    "weights = [2, 3, 5, 7, 1, 4]  # Weights of the items\n",
    "values = [10, 5, 15, 7, 6, 18]  # Values of the items\n",
    "max_capacity = 10  # Maximum weight capacity of the knapsack\n",
    "\n",
    "num_items = len(weights)\n",
    "initial_solution = [random.choice([0, 1]) for _ in range(num_items)]  # Random initial solution\n",
    "# Parameters\n",
    "max_iterations = 100\n",
    "tabu_list_size = 1\n",
    "\n",
    "# Run Tabu Search\n",
    "best_solution, best_value = tabu_search_knapsack(\n",
    "    weights=weights,\n",
    "    values=values,\n",
    "    max_capacity=max_capacity,\n",
    "    initial_solution=initial_solution,\n",
    "    max_iterations=max_iterations,\n",
    "    tabu_list_size=tabu_list_size\n",
    ")\n",
    "\n",
    "print(\"\\nOptimization complete.\")\n",
    "print(f\"Best solution: {best_solution}\")\n",
    "print(f\"Best value: {best_value}\")"
   ]
  },
  {
   "cell_type": "code",
   "execution_count": null,
   "id": "d9ad2745-357d-48a3-84ab-0d9e31c2ef1a",
   "metadata": {},
   "outputs": [],
   "source": []
  }
 ],
 "metadata": {
  "kernelspec": {
   "display_name": "Python 3 (ipykernel)",
   "language": "python",
   "name": "python3"
  },
  "language_info": {
   "codemirror_mode": {
    "name": "ipython",
    "version": 3
   },
   "file_extension": ".py",
   "mimetype": "text/x-python",
   "name": "python",
   "nbconvert_exporter": "python",
   "pygments_lexer": "ipython3",
   "version": "3.13.0"
  }
 },
 "nbformat": 4,
 "nbformat_minor": 5
}
