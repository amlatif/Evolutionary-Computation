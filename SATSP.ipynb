{
 "cells": [
  {
   "cell_type": "markdown",
   "id": "20e32ea2-d1c7-4797-b91e-dd2e4622bac8",
   "metadata": {},
   "source": [
    "**Simulated Annealing (SA)** is a **probabilistic optimization algorithm** inspired by the **annealing process in metallurgy**, where a material is heated and then slowly cooled to reduce defects and minimize its energy state.\n",
    "\n",
    "### 🔍 Purpose:\n",
    "Simulated Annealing is used to **find an approximate global optimum** of a function, especially when the search space is large and contains many local optima. It's particularly useful for **combinatorial optimization problems**.\n",
    "\n",
    "---\n",
    "\n",
    "### 🧠 Key Idea:\n",
    "\n",
    "Unlike greedy algorithms that always move toward better solutions, Simulated Annealing allows **occasional moves to worse solutions** with a certain probability. This helps it **escape local minima/maxima** and potentially find the **global optimum**.\n",
    "\n",
    "The probability of accepting worse solutions **decreases over time**, mimicking the cooling schedule in annealing.\n",
    "\n",
    "---\n",
    "\n",
    "### ⚙️ Algorithm Steps:\n",
    "\n",
    "1. **Initialize:**\n",
    "   - Start with an initial solution $ S $\n",
    "   - Set an initial temperature $ T $ (usually high)\n",
    "   - Define a cooling schedule (how fast the temperature decreases)\n",
    "\n",
    "2. **Iterate:**\n",
    "   - While not yet converged (or until temperature is low enough):\n",
    "     1. Generate a neighboring solution $ S' $\n",
    "     2. Compute cost difference:  \n",
    "        $ \\Delta E = f(S') - f(S) $\n",
    "     3. If $ \\Delta E < 0 $ (i.e., better solution):  \n",
    "        Accept $ S' $\n",
    "     4. Else (worse solution):  \n",
    "        Accept $ S' $ with probability  \n",
    "        $ P = \\exp(-\\Delta E / T) $\n",
    "     5. Decrease the temperature $ T $\n",
    "\n",
    "3. **Return** the best solution found\n",
    "\n",
    "---\n",
    "\n",
    "### 📈 Acceptance Probability:\n",
    "\n",
    "The probability of accepting a worse solution is:\n",
    "\n",
    "$$\n",
    "P = \\exp\\left(\\frac{-\\Delta E}{T}\\right)\n",
    "$$\n",
    "\n",
    "- When **temperature $ T $** is high → more likely to accept worse solutions\n",
    "- As $ T $ decreases → less likely to accept worse moves\n",
    "\n",
    "---\n",
    "\n",
    "### 🧪 Applications:\n",
    "\n",
    "- Traveling Salesman Problem (TSP)\n",
    "- Circuit layout design\n",
    "- Job scheduling\n",
    "- Protein structure prediction\n",
    "- Machine learning hyperparameter tuning\n",
    "\n",
    "---\n",
    "\n",
    "### ✅ Advantages:\n",
    "\n",
    "- Simple to implement\n",
    "- Can escape local optima\n",
    "- Works well for large, complex search spaces\n",
    "\n",
    "### ❌ Disadvantages:\n",
    "\n",
    "- Can be slow to converge\n",
    "- Performance depends on parameter tuning (initial temperature, cooling rate, etc.)\n",
    "\n",
    "---\n",
    "\n",
    "### 🔄 Variants & Improvements:\n",
    "\n",
    "- Adaptive Simulated Annealing (ASA)\n",
    "- Fast simulated annealing\n",
    "- Quantum annealing (in quantum computing)\n",
    "\n",
    "---\n"
   ]
  },
  {
   "cell_type": "code",
   "execution_count": 4,
   "id": "b1309027-9b67-4c9a-98c4-8266e22693d0",
   "metadata": {},
   "outputs": [],
   "source": [
    "import random\n",
    "import math"
   ]
  },
  {
   "cell_type": "code",
   "execution_count": 5,
   "id": "bb9a8d92-b5e2-4356-8e11-185d1adac6d2",
   "metadata": {},
   "outputs": [],
   "source": [
    "# Generate random cities (coordinates)\n",
    "def generate_cities(n):\n",
    "    return [(random.random(), random.random()) for _ in range(n)]"
   ]
  },
  {
   "cell_type": "code",
   "execution_count": 6,
   "id": "5f1221da-4b2e-4ed7-beab-67017c25a4c6",
   "metadata": {},
   "outputs": [
    {
     "data": {
      "text/plain": [
       "[(0.7027399113499901, 0.271324511143888),\n",
       " (0.9506901412597139, 0.5700130185490322),\n",
       " (0.44398898218143557, 0.5743429930130103),\n",
       " (0.5465464769483162, 0.1677775760244341),\n",
       " (0.7183538268845412, 0.1514388753276369)]"
      ]
     },
     "execution_count": 6,
     "metadata": {},
     "output_type": "execute_result"
    }
   ],
   "source": [
    "generate_cities(5)"
   ]
  },
  {
   "cell_type": "code",
   "execution_count": null,
   "id": "d6a1dd05-3e1d-4815-9e3a-da45f55c67d5",
   "metadata": {},
   "outputs": [],
   "source": [
    "# Compute distance between two cities\n",
    "def distance(city1, city2):\n",
    "    return math.hypot(city1[0] - city2[0], city1[1] - city2[1])"
   ]
  },
  {
   "cell_type": "code",
   "execution_count": 14,
   "id": "6136b365-350c-4aaa-9f7e-75edf1dcba00",
   "metadata": {},
   "outputs": [
    {
     "data": {
      "text/plain": [
       "2.8284271247461903"
      ]
     },
     "execution_count": 14,
     "metadata": {},
     "output_type": "execute_result"
    }
   ],
   "source": [
    "distance([0,0], [2,2])"
   ]
  },
  {
   "cell_type": "code",
   "execution_count": 15,
   "id": "01ace552-760d-4f34-967e-b28347485cea",
   "metadata": {},
   "outputs": [
    {
     "data": {
      "text/plain": [
       "2.8284271247461903"
      ]
     },
     "execution_count": 15,
     "metadata": {},
     "output_type": "execute_result"
    }
   ],
   "source": [
    "8 ** 0.5"
   ]
  },
  {
   "cell_type": "code",
   "execution_count": 16,
   "id": "a44a4a70-0527-4357-a88b-cb6893b5b1b0",
   "metadata": {},
   "outputs": [],
   "source": [
    "# Compute total path length\n",
    "def total_distance(path, cities):\n",
    "    return sum(distance(cities[path[i]], cities[path[i+1]]) for i in range(len(path)-1)) + \\\n",
    "           distance(cities[path[-1]], cities[path[0]])"
   ]
  },
  {
   "cell_type": "code",
   "execution_count": 17,
   "id": "b4cfde22-e571-4973-b333-a16386ef3947",
   "metadata": {},
   "outputs": [],
   "source": [
    "# Generate a neighboring solution (swap two cities)\n",
    "def get_neighbor(solution):\n",
    "    new_solution = solution[:]\n",
    "    i, j = random.sample(range(len(new_solution)), 2)\n",
    "    new_solution[i], new_solution[j] = new_solution[j], new_solution[i]\n",
    "    return new_solution"
   ]
  },
  {
   "cell_type": "code",
   "execution_count": 18,
   "id": "b645dbcd-fca2-4721-9efd-db09daf02628",
   "metadata": {},
   "outputs": [
    {
     "data": {
      "text/plain": [
       "[1, 2, 4, 3, 5]"
      ]
     },
     "execution_count": 18,
     "metadata": {},
     "output_type": "execute_result"
    }
   ],
   "source": [
    "get_neighbor([1,2,3,4,5])"
   ]
  },
  {
   "cell_type": "code",
   "execution_count": 19,
   "id": "28e7df14-60af-4646-8374-cc597e83c59d",
   "metadata": {},
   "outputs": [],
   "source": [
    "# Simulated Annealing Algorithm\n",
    "def simulated_annealing(cities, initial_temp=1000, cooling_rate=0.995, max_iter=1000):\n",
    "    n = len(cities)\n",
    "    current_solution = list(range(n))\n",
    "    current_cost = total_distance(current_solution, cities)\n",
    "\n",
    "    best_solution = current_solution[:]\n",
    "    best_cost = current_cost\n",
    "\n",
    "    temp = initial_temp\n",
    "\n",
    "    for iteration in range(max_iter):\n",
    "        neighbor = get_neighbor(current_solution)\n",
    "        neighbor_cost = total_distance(neighbor, cities)\n",
    "        delta = neighbor_cost - current_cost\n",
    "\n",
    "        if delta < 0 or random.random() < math.exp(-delta / temp):\n",
    "            current_solution = neighbor\n",
    "            current_cost = neighbor_cost\n",
    "\n",
    "            if current_cost < best_cost:\n",
    "                best_solution = current_solution[:]\n",
    "                best_cost = current_cost\n",
    "\n",
    "        temp *= cooling_rate\n",
    "\n",
    "    return best_solution, best_cost"
   ]
  },
  {
   "cell_type": "code",
   "execution_count": 20,
   "id": "c692a6d2-699c-4c40-875a-d0dc59f8bf71",
   "metadata": {},
   "outputs": [
    {
     "name": "stdout",
     "output_type": "stream",
     "text": [
      "Best Path: [1, 0, 6, 4, 7, 5, 3, 2, 9, 8]\n",
      "Total Distance: 3.0317364005328287\n"
     ]
    }
   ],
   "source": [
    "# Example usage\n",
    "num_cities = 10\n",
    "cities = generate_cities(num_cities)\n",
    "best_path, best_length = simulated_annealing(cities)\n",
    "\n",
    "print(\"Best Path:\", best_path)\n",
    "print(\"Total Distance:\", best_length)"
   ]
  },
  {
   "cell_type": "code",
   "execution_count": 21,
   "id": "649f196e-91ff-4f12-b5bc-d14aa00ad421",
   "metadata": {},
   "outputs": [
    {
     "data": {
      "image/png": "[encoded data removed]",
      "text/plain": [
       "<Figure size 600x600 with 1 Axes>"
      ]
     },
     "metadata": {},
     "output_type": "display_data"
    }
   ],
   "source": [
    "import matplotlib.pyplot as plt\n",
    "\n",
    "def plot_path(cities, path):\n",
    "    x = [city[0] for city in cities]\n",
    "    y = [city[1] for city in cities]\n",
    "\n",
    "    plt.figure(figsize=(6,6))\n",
    "    plt.scatter(x, y, c='red')\n",
    "\n",
    "    for i in range(len(path)):\n",
    "        start = path[i]\n",
    "        end = path[(i+1) % len(path)]\n",
    "        plt.plot([x[start], x[end]], [y[start], y[end]], 'b')\n",
    "\n",
    "    plt.title(\"TSP Path\")\n",
    "    plt.show()\n",
    "\n",
    "plot_path(cities, best_path)"
   ]
  }
 ],
 "metadata": {
  "kernelspec": {
   "display_name": "Python 3 (ipykernel)",
   "language": "python",
   "name": "python3"
  },
  "language_info": {
   "codemirror_mode": {
    "name": "ipython",
    "version": 3
   },
   "file_extension": ".py",
   "mimetype": "text/x-python",
   "name": "python",
   "nbconvert_exporter": "python",
   "pygments_lexer": "ipython3",
   "version": "3.13.0"
  }
 },
 "nbformat": 4,
 "nbformat_minor": 5
}
