{
 "cells": [
  {
   "cell_type": "code",
   "execution_count": null,
   "id": "c22a1457-f6c1-41ff-95cb-d71f293e3307",
   "metadata": {},
   "outputs": [],
   "source": [
    "import numpy as np\n",
    "import pandas as pd\n",
    "from sklearn.datasets import load_breast_cancer\n",
    "from sklearn.model_selection import train_test_split\n",
    "from sklearn.ensemble import RandomForestClassifier\n",
    "from sklearn.metrics import accuracy_score"
   ]
  },
  {
   "cell_type": "code",
   "execution_count": 2,
   "id": "0e85723a-9709-460c-885c-1b85d0b4bb38",
   "metadata": {},
   "outputs": [],
   "source": [
    "# Load the dataset\n",
    "data = load_breast_cancer()\n",
    "X, y = data.data, data.target\n",
    "feature_names = data.feature_names"
   ]
  },
  {
   "cell_type": "code",
   "execution_count": 3,
   "id": "c1f38ca0-b7b7-412e-a768-4d2609f1dc9f",
   "metadata": {},
   "outputs": [
    {
     "data": {
      "text/plain": [
       "array(['mean radius', 'mean texture', 'mean perimeter', 'mean area',\n",
       "       'mean smoothness', 'mean compactness', 'mean concavity',\n",
       "       'mean concave points', 'mean symmetry', 'mean fractal dimension',\n",
       "       'radius error', 'texture error', 'perimeter error', 'area error',\n",
       "       'smoothness error', 'compactness error', 'concavity error',\n",
       "       'concave points error', 'symmetry error',\n",
       "       'fractal dimension error', 'worst radius', 'worst texture',\n",
       "       'worst perimeter', 'worst area', 'worst smoothness',\n",
       "       'worst compactness', 'worst concavity', 'worst concave points',\n",
       "       'worst symmetry', 'worst fractal dimension'], dtype='<U23')"
      ]
     },
     "execution_count": 3,
     "metadata": {},
     "output_type": "execute_result"
    }
   ],
   "source": [
    "feature_names"
   ]
  },
  {
   "cell_type": "code",
   "execution_count": 4,
   "id": "535ec672-d0d8-4ad2-b967-1b32db617024",
   "metadata": {},
   "outputs": [
    {
     "data": {
      "text/plain": [
       "(569, 30)"
      ]
     },
     "execution_count": 4,
     "metadata": {},
     "output_type": "execute_result"
    }
   ],
   "source": [
    "X.shape"
   ]
  },
  {
   "cell_type": "code",
   "execution_count": 5,
   "id": "6173617d-4e3d-414b-8b46-92db3eb83a81",
   "metadata": {},
   "outputs": [
    {
     "data": {
      "text/plain": [
       "(569,)"
      ]
     },
     "execution_count": 5,
     "metadata": {},
     "output_type": "execute_result"
    }
   ],
   "source": [
    "y.shape"
   ]
  },
  {
   "cell_type": "code",
   "execution_count": null,
   "id": "17a1a319-1b23-4139-906c-916491316acc",
   "metadata": {},
   "outputs": [],
   "source": [
    "# Split the dataset into training and testing sets\n",
    "X_train, X_test, y_train, y_test = train_test_split(X, y, test_size=0.3, random_state=42)"
   ]
  },
  {
   "cell_type": "code",
   "execution_count": 6,
   "id": "c6f0d876-89ed-4fd6-8273-2d3eb4269cf5",
   "metadata": {},
   "outputs": [
    {
     "data": {
      "text/plain": [
       "((398, 30), (171, 30), (398,), (171,))"
      ]
     },
     "execution_count": 6,
     "metadata": {},
     "output_type": "execute_result"
    }
   ],
   "source": [
    "X_train.shape, X_test.shape, y_train.shape, y_test.shape"
   ]
  },
  {
   "cell_type": "code",
   "execution_count": 7,
   "id": "2b5b8fe3-972e-4ac9-ad65-3b7ecd19a78e",
   "metadata": {},
   "outputs": [],
   "source": [
    "# Define the fitness function\n",
    "def fitness_function(feature_subset):\n",
    "    \"\"\"\n",
    "    Evaluate the performance of a Random Forest model using the selected features.\n",
    "    :param feature_subset: Binary array indicating which features are selected (1 = selected, 0 = not selected).\n",
    "    :return: Accuracy of the model (higher is better).\n",
    "    \"\"\"\n",
    "    # Select only the features marked as 1\n",
    "    X_train_selected = X_train[:, feature_subset == 1]\n",
    "    X_test_selected = X_test[:, feature_subset == 1]\n",
    "    \n",
    "    # Train a Random Forest classifier\n",
    "    model = RandomForestClassifier(random_state=42)\n",
    "    model.fit(X_train_selected, y_train)\n",
    "    \n",
    "    # Evaluate the model on the test set\n",
    "    y_pred = model.predict(X_test_selected)\n",
    "    accuracy = accuracy_score(y_test, y_pred)\n",
    "    \n",
    "    return accuracy"
   ]
  },
  {
   "cell_type": "code",
   "execution_count": 11,
   "id": "01ec37c3-c564-48d1-a272-24825d81d0b5",
   "metadata": {},
   "outputs": [
    {
     "data": {
      "text/plain": [
       "array([1., 1., 1., 1., 1., 1., 1., 1., 1., 1., 1., 1., 1., 1., 1., 1., 1.,\n",
       "       1., 1., 1., 1., 1., 1., 1., 1., 1., 1., 1., 1., 1.])"
      ]
     },
     "execution_count": 11,
     "metadata": {},
     "output_type": "execute_result"
    }
   ],
   "source": [
    "feature_subset = np.ones(30)\n",
    "feature_subset"
   ]
  },
  {
   "cell_type": "code",
   "execution_count": 12,
   "id": "eab4c9df-add2-44dd-9130-d8d02bb3d2e6",
   "metadata": {},
   "outputs": [
    {
     "data": {
      "text/plain": [
       "0.9707602339181286"
      ]
     },
     "execution_count": 12,
     "metadata": {},
     "output_type": "execute_result"
    }
   ],
   "source": [
    "fitness_function(feature_subset)"
   ]
  },
  {
   "cell_type": "code",
   "execution_count": 13,
   "id": "620051c6-3d5e-4f12-94c5-b428aa79c648",
   "metadata": {},
   "outputs": [
    {
     "data": {
      "text/plain": [
       "array([1., 1., 1., 1., 1., 1., 1., 1., 1., 1., 1., 1., 1., 1., 1., 0., 0.,\n",
       "       0., 0., 0., 0., 0., 0., 0., 0., 0., 0., 0., 0., 0.])"
      ]
     },
     "execution_count": 13,
     "metadata": {},
     "output_type": "execute_result"
    }
   ],
   "source": [
    "feature_subset[15:] = 0\n",
    "feature_subset"
   ]
  },
  {
   "cell_type": "code",
   "execution_count": 14,
   "id": "e52a6444-ddae-47ba-b427-ef3553252c7b",
   "metadata": {},
   "outputs": [
    {
     "data": {
      "text/plain": [
       "0.9532163742690059"
      ]
     },
     "execution_count": 14,
     "metadata": {},
     "output_type": "execute_result"
    }
   ],
   "source": [
    "fitness_function(feature_subset)"
   ]
  },
  {
   "cell_type": "code",
   "execution_count": 15,
   "id": "1fd59c93-9da3-4172-831d-06f000d4fe9d",
   "metadata": {},
   "outputs": [],
   "source": [
    "# PSO parameters\n",
    "num_particles = 20       # Number of particles in the swarm\n",
    "max_iterations = 50      # Maximum number of iterations\n",
    "w = 0.7                  # Inertia weight\n",
    "c1 = 1.5                 # Cognitive coefficient\n",
    "c2 = 1.5                 # Social coefficient\n",
    "num_features = X.shape[1]  # Total number of features"
   ]
  },
  {
   "cell_type": "code",
   "execution_count": 16,
   "id": "52f947aa-67a2-4dd1-940b-711aaf368132",
   "metadata": {},
   "outputs": [
    {
     "data": {
      "text/plain": [
       "30"
      ]
     },
     "execution_count": 16,
     "metadata": {},
     "output_type": "execute_result"
    }
   ],
   "source": [
    "num_features"
   ]
  },
  {
   "cell_type": "code",
   "execution_count": 17,
   "id": "2e50520f-a1fe-4532-b5eb-116a4601e3d1",
   "metadata": {},
   "outputs": [],
   "source": [
    "# Initialize the swarm\n",
    "positions = np.random.randint(0, 2, size=(num_particles, num_features))  # Binary positions (0 or 1)\n",
    "velocities = np.random.uniform(-1, 1, size=(num_particles, num_features))"
   ]
  },
  {
   "cell_type": "code",
   "execution_count": 18,
   "id": "48c76522-7af2-4332-a663-1ea422588ab5",
   "metadata": {},
   "outputs": [
    {
     "data": {
      "text/plain": [
       "array([[1, 1, 0, 1, 0, 1, 1, 0, 0, 1, 1, 0, 1, 0, 0, 1, 1, 0, 1, 1, 1, 1,\n",
       "        1, 0, 0, 1, 0, 0, 1, 1],\n",
       "       [1, 0, 1, 1, 0, 1, 1, 1, 1, 0, 1, 1, 0, 1, 0, 1, 1, 1, 0, 0, 0, 0,\n",
       "        1, 0, 0, 1, 1, 1, 0, 1],\n",
       "       [1, 0, 0, 0, 1, 1, 1, 0, 1, 1, 0, 1, 1, 0, 1, 0, 1, 1, 1, 1, 0, 0,\n",
       "        1, 1, 1, 1, 1, 1, 1, 1],\n",
       "       [1, 1, 0, 1, 0, 1, 0, 1, 0, 1, 0, 1, 0, 0, 1, 1, 1, 0, 0, 1, 0, 1,\n",
       "        0, 0, 0, 1, 0, 0, 1, 0],\n",
       "       [0, 0, 1, 1, 0, 1, 1, 0, 0, 0, 1, 0, 0, 0, 1, 1, 0, 0, 1, 0, 0, 1,\n",
       "        1, 0, 0, 1, 0, 1, 1, 0],\n",
       "       [1, 1, 0, 0, 1, 1, 0, 0, 0, 1, 1, 1, 0, 0, 1, 1, 0, 1, 1, 0, 1, 0,\n",
       "        0, 1, 1, 1, 0, 1, 0, 0],\n",
       "       [1, 0, 0, 1, 1, 0, 0, 1, 0, 1, 0, 1, 0, 1, 1, 1, 0, 0, 1, 0, 1, 1,\n",
       "        1, 1, 1, 1, 1, 0, 1, 1],\n",
       "       [0, 1, 0, 0, 1, 0, 0, 0, 0, 1, 1, 1, 0, 1, 1, 0, 1, 1, 1, 1, 0, 1,\n",
       "        0, 0, 1, 0, 0, 0, 0, 0],\n",
       "       [0, 0, 1, 1, 0, 0, 0, 1, 1, 1, 1, 0, 1, 1, 1, 1, 1, 1, 0, 0, 0, 0,\n",
       "        0, 0, 0, 1, 1, 1, 0, 0],\n",
       "       [0, 1, 0, 0, 0, 0, 0, 0, 0, 1, 0, 0, 1, 0, 1, 1, 1, 0, 1, 0, 1, 0,\n",
       "        0, 0, 1, 1, 0, 1, 1, 1],\n",
       "       [0, 1, 1, 1, 1, 1, 0, 1, 1, 0, 0, 0, 1, 1, 1, 0, 1, 1, 1, 1, 1, 1,\n",
       "        1, 0, 1, 0, 0, 0, 1, 0],\n",
       "       [0, 0, 0, 1, 1, 1, 1, 1, 1, 0, 0, 1, 1, 0, 1, 0, 1, 0, 0, 0, 1, 1,\n",
       "        0, 1, 1, 0, 1, 1, 0, 1],\n",
       "       [0, 0, 0, 1, 0, 0, 1, 0, 0, 1, 0, 0, 1, 0, 0, 1, 1, 1, 1, 0, 1, 1,\n",
       "        0, 1, 0, 1, 0, 0, 1, 1],\n",
       "       [0, 1, 0, 1, 1, 1, 0, 0, 1, 0, 1, 0, 0, 1, 1, 0, 1, 1, 0, 0, 1, 0,\n",
       "        1, 1, 1, 1, 1, 0, 1, 0],\n",
       "       [0, 0, 1, 1, 1, 1, 1, 0, 1, 1, 1, 1, 0, 1, 1, 1, 1, 1, 1, 0, 0, 0,\n",
       "        0, 0, 0, 0, 0, 0, 1, 0],\n",
       "       [1, 1, 0, 0, 0, 1, 0, 1, 1, 1, 1, 1, 1, 0, 0, 0, 0, 1, 1, 0, 0, 0,\n",
       "        1, 1, 0, 1, 1, 0, 1, 1],\n",
       "       [1, 1, 1, 0, 0, 0, 1, 0, 1, 1, 1, 0, 1, 0, 0, 1, 0, 1, 0, 0, 0, 1,\n",
       "        1, 0, 1, 0, 0, 0, 1, 0],\n",
       "       [1, 0, 1, 1, 1, 1, 1, 0, 1, 1, 0, 1, 1, 0, 1, 1, 0, 0, 0, 0, 0, 0,\n",
       "        1, 0, 0, 1, 1, 1, 0, 0],\n",
       "       [1, 1, 1, 0, 0, 1, 0, 0, 0, 0, 0, 1, 1, 0, 1, 1, 0, 1, 1, 1, 1, 0,\n",
       "        0, 1, 1, 1, 0, 1, 1, 1],\n",
       "       [0, 0, 1, 1, 0, 0, 1, 0, 1, 0, 1, 1, 1, 1, 1, 0, 1, 1, 1, 0, 0, 0,\n",
       "        1, 0, 0, 0, 1, 1, 0, 0]], dtype=int32)"
      ]
     },
     "execution_count": 18,
     "metadata": {},
     "output_type": "execute_result"
    }
   ],
   "source": [
    "positions"
   ]
  },
  {
   "cell_type": "code",
   "execution_count": 19,
   "id": "c1f35cb9-8608-48b7-8d7c-5926cfec034c",
   "metadata": {},
   "outputs": [
    {
     "data": {
      "text/plain": [
       "(20, 30)"
      ]
     },
     "execution_count": 19,
     "metadata": {},
     "output_type": "execute_result"
    }
   ],
   "source": [
    "positions.shape"
   ]
  },
  {
   "cell_type": "code",
   "execution_count": 20,
   "id": "6ed81556-c0d0-4dfe-979b-57beb0401bb0",
   "metadata": {},
   "outputs": [],
   "source": [
    "# Initialize personal best positions and fitness values\n",
    "p_best_positions = positions.copy()\n",
    "p_best_fitness = np.array([fitness_function(pos) for pos in positions])"
   ]
  },
  {
   "cell_type": "code",
   "execution_count": 21,
   "id": "a560db6c-a370-40c2-96d3-084357d791f2",
   "metadata": {},
   "outputs": [],
   "source": [
    "# Initialize global best position and fitness value\n",
    "g_best_position = p_best_positions[np.argmax(p_best_fitness)]\n",
    "g_best_fitness = np.max(p_best_fitness)"
   ]
  },
  {
   "cell_type": "code",
   "execution_count": 22,
   "id": "1284ab87-01ec-481e-b08f-f785c4028b14",
   "metadata": {},
   "outputs": [
    {
     "name": "stdout",
     "output_type": "stream",
     "text": [
      "Iteration 1: Best Fitness = 0.9883\n",
      "Iteration 2: Best Fitness = 0.9942\n",
      "Iteration 3: Best Fitness = 0.9942\n",
      "Iteration 4: Best Fitness = 0.9942\n",
      "Iteration 5: Best Fitness = 0.9942\n",
      "Iteration 6: Best Fitness = 0.9942\n",
      "Iteration 7: Best Fitness = 0.9942\n",
      "Iteration 8: Best Fitness = 0.9942\n",
      "Iteration 9: Best Fitness = 0.9942\n",
      "Iteration 10: Best Fitness = 0.9942\n",
      "Iteration 11: Best Fitness = 0.9942\n",
      "Iteration 12: Best Fitness = 0.9942\n",
      "Iteration 13: Best Fitness = 0.9942\n",
      "Iteration 14: Best Fitness = 0.9942\n",
      "Iteration 15: Best Fitness = 0.9942\n",
      "Iteration 16: Best Fitness = 0.9942\n",
      "Iteration 17: Best Fitness = 0.9942\n",
      "Iteration 18: Best Fitness = 0.9942\n",
      "Iteration 19: Best Fitness = 0.9942\n",
      "Iteration 20: Best Fitness = 0.9942\n",
      "Iteration 21: Best Fitness = 0.9942\n",
      "Iteration 22: Best Fitness = 0.9942\n",
      "Iteration 23: Best Fitness = 0.9942\n",
      "Iteration 24: Best Fitness = 0.9942\n",
      "Iteration 25: Best Fitness = 0.9942\n",
      "Iteration 26: Best Fitness = 0.9942\n",
      "Iteration 27: Best Fitness = 0.9942\n",
      "Iteration 28: Best Fitness = 0.9942\n",
      "Iteration 29: Best Fitness = 0.9942\n",
      "Iteration 30: Best Fitness = 0.9942\n",
      "Iteration 31: Best Fitness = 0.9942\n",
      "Iteration 32: Best Fitness = 0.9942\n",
      "Iteration 33: Best Fitness = 0.9942\n",
      "Iteration 34: Best Fitness = 0.9942\n",
      "Iteration 35: Best Fitness = 0.9942\n",
      "Iteration 36: Best Fitness = 0.9942\n",
      "Iteration 37: Best Fitness = 0.9942\n",
      "Iteration 38: Best Fitness = 0.9942\n",
      "Iteration 39: Best Fitness = 0.9942\n",
      "Iteration 40: Best Fitness = 0.9942\n",
      "Iteration 41: Best Fitness = 0.9942\n",
      "Iteration 42: Best Fitness = 0.9942\n",
      "Iteration 43: Best Fitness = 0.9942\n",
      "Iteration 44: Best Fitness = 0.9942\n",
      "Iteration 45: Best Fitness = 0.9942\n",
      "Iteration 46: Best Fitness = 0.9942\n",
      "Iteration 47: Best Fitness = 0.9942\n",
      "Iteration 48: Best Fitness = 0.9942\n",
      "Iteration 49: Best Fitness = 0.9942\n",
      "Iteration 50: Best Fitness = 0.9942\n"
     ]
    }
   ],
   "source": [
    "# PSO algorithm\n",
    "for iteration in range(max_iterations):\n",
    "    for i in range(num_particles):\n",
    "        # Update velocity (sigmoid transformation ensures binary positions)\n",
    "        r1, r2 = np.random.rand(), np.random.rand()\n",
    "        velocities[i] = (w * velocities[i] +\n",
    "                         c1 * r1 * (p_best_positions[i] - positions[i]) +\n",
    "                         c2 * r2 * (g_best_position - positions[i]))\n",
    "        \n",
    "        # Update position (binary decision based on sigmoid)\n",
    "        sigmoid = 1 / (1 + np.exp(-velocities[i]))\n",
    "        positions[i] = (np.random.rand(num_features) < sigmoid).astype(int)\n",
    "        \n",
    "        # Evaluate fitness\n",
    "        fitness = fitness_function(positions[i])\n",
    "        \n",
    "        # Update personal best\n",
    "        if fitness > p_best_fitness[i]:\n",
    "            p_best_fitness[i] = fitness\n",
    "            p_best_positions[i] = positions[i]\n",
    "        \n",
    "        # Update global best\n",
    "        if fitness > g_best_fitness:\n",
    "            g_best_fitness = fitness\n",
    "            g_best_position = positions[i]\n",
    "    \n",
    "    # Print progress\n",
    "    print(f\"Iteration {iteration + 1}: Best Fitness = {g_best_fitness:.4f}\")"
   ]
  },
  {
   "cell_type": "code",
   "execution_count": 23,
   "id": "4eda36b1-1fe7-402c-a66b-44b5598cbad2",
   "metadata": {},
   "outputs": [
    {
     "name": "stdout",
     "output_type": "stream",
     "text": [
      "\n",
      "Optimization Complete:\n",
      "Selected Features: [ 0  2  6  8  9 10 16 17 18 22 23 25 26 28 29]\n",
      "Feature Names: [np.str_('mean radius'), np.str_('mean perimeter'), np.str_('mean concavity'), np.str_('mean symmetry'), np.str_('mean fractal dimension'), np.str_('radius error'), np.str_('concavity error'), np.str_('concave points error'), np.str_('symmetry error'), np.str_('worst perimeter'), np.str_('worst area'), np.str_('worst compactness'), np.str_('worst concavity'), np.str_('worst symmetry'), np.str_('worst fractal dimension')]\n",
      "Best Fitness (Accuracy): 0.9942\n"
     ]
    }
   ],
   "source": [
    "# Output the result\n",
    "print(\"\\nOptimization Complete:\")\n",
    "selected_features = np.where(g_best_position == 1)[0]\n",
    "print(f\"Selected Features: {selected_features}\")\n",
    "print(f\"Feature Names: {[feature_names[i] for i in selected_features]}\")\n",
    "print(f\"Best Fitness (Accuracy): {g_best_fitness:.4f}\")"
   ]
  },
  {
   "cell_type": "code",
   "execution_count": 25,
   "id": "f1e1f618-ad6e-4900-83c0-639304f04fe0",
   "metadata": {},
   "outputs": [
    {
     "data": {
      "text/plain": [
       "0.9707602339181286"
      ]
     },
     "execution_count": 25,
     "metadata": {},
     "output_type": "execute_result"
    }
   ],
   "source": [
    "# Compare model performance before and after feature selection\n",
    "# Before feature selection\n",
    "model_full = RandomForestClassifier(random_state=42)\n",
    "model_full.fit(X_train, y_train)\n",
    "y_pred_full = model_full.predict(X_test)\n",
    "accuracy_full = accuracy_score(y_test, y_pred_full)\n",
    "accuracy_full"
   ]
  },
  {
   "cell_type": "code",
   "execution_count": 26,
   "id": "d6400882-2168-4020-93e6-713cb9f84edc",
   "metadata": {},
   "outputs": [
    {
     "data": {
      "text/plain": [
       "0.9766081871345029"
      ]
     },
     "execution_count": 26,
     "metadata": {},
     "output_type": "execute_result"
    }
   ],
   "source": [
    "# After feature selection\n",
    "X_train_selected = X_train[:, g_best_position == 1]\n",
    "X_test_selected = X_test[:, g_best_position == 1]\n",
    "model_selected = RandomForestClassifier(random_state=42)\n",
    "model_selected.fit(X_train_selected, y_train)\n",
    "y_pred_selected = model_selected.predict(X_test_selected)\n",
    "accuracy_selected = accuracy_score(y_test, y_pred_selected)\n",
    "accuracy_selected"
   ]
  },
  {
   "cell_type": "code",
   "execution_count": 27,
   "id": "835bebac-2485-49c2-8edb-696099acc5e5",
   "metadata": {},
   "outputs": [
    {
     "name": "stdout",
     "output_type": "stream",
     "text": [
      "\n",
      "Model Performance Comparison:\n",
      "Accuracy (All Features): 0.9708\n",
      "Accuracy (Selected Features): 0.9766\n"
     ]
    }
   ],
   "source": [
    "print(\"\\nModel Performance Comparison:\")\n",
    "print(f\"Accuracy (All Features): {accuracy_full:.4f}\")\n",
    "print(f\"Accuracy (Selected Features): {accuracy_selected:.4f}\")"
   ]
  }
 ],
 "metadata": {
  "kernelspec": {
   "display_name": "Python 3 (ipykernel)",
   "language": "python",
   "name": "python3"
  },
  "language_info": {
   "codemirror_mode": {
    "name": "ipython",
    "version": 3
   },
   "file_extension": ".py",
   "mimetype": "text/x-python",
   "name": "python",
   "nbconvert_exporter": "python",
   "pygments_lexer": "ipython3",
   "version": "3.13.0"
  }
 },
 "nbformat": 4,
 "nbformat_minor": 5
}
