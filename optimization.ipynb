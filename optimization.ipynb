{
 "cells": [
  {
   "cell_type": "code",
   "execution_count": 9,
   "id": "dc81a0c2-bebc-4691-a21f-6e83034edaf3",
   "metadata": {},
   "outputs": [],
   "source": [
    "import random"
   ]
  },
  {
   "cell_type": "code",
   "execution_count": 10,
   "id": "6ef341d4-0075-4495-a96e-c2b927c37785",
   "metadata": {},
   "outputs": [],
   "source": [
    "# پارامترهای الگوریتم ژنتیک\n",
    "POPULATION_SIZE = 10\n",
    "NUM_GENERATIONS = 20\n",
    "MUTATION_RATE = 0.1"
   ]
  },
  {
   "cell_type": "code",
   "execution_count": 11,
   "id": "3aa37065-9145-47e5-a612-eff58470d055",
   "metadata": {},
   "outputs": [],
   "source": [
    "# تابع هدف\n",
    "def fitness(x):\n",
    "    return x ** 2"
   ]
  },
  {
   "cell_type": "code",
   "execution_count": 12,
   "id": "6679508b-2c49-461f-929b-e1d7aa0f1842",
   "metadata": {},
   "outputs": [],
   "source": [
    "# ایجاد جمعیت اولیه\n",
    "def create_initial_population(size):\n",
    "    return [format(random.randint(0, 31), '05b') for _ in range(size)]"
   ]
  },
  {
   "cell_type": "code",
   "execution_count": 13,
   "id": "b5c335a9-2c91-4e05-a59a-783beccc8890",
   "metadata": {},
   "outputs": [
    {
     "data": {
      "text/plain": [
       "['10101', '01001']"
      ]
     },
     "execution_count": 13,
     "metadata": {},
     "output_type": "execute_result"
    }
   ],
   "source": [
    "create_initial_population(2)"
   ]
  },
  {
   "cell_type": "code",
   "execution_count": 14,
   "id": "bb134659-56f8-4bad-b649-2edd831fdc2f",
   "metadata": {},
   "outputs": [],
   "source": [
    "# انتخاب والدین (Tournament Selection)\n",
    "def select_parents(population, fitnesses):\n",
    "    tournament_size = 3\n",
    "    selected = []\n",
    "    for _ in range(2):\n",
    "        candidates = random.sample(list(zip(population, fitnesses)), tournament_size)\n",
    "        selected.append(max(candidates, key=lambda x: x[1])[0])\n",
    "    return selected"
   ]
  },
  {
   "cell_type": "code",
   "execution_count": 15,
   "id": "c0d88128-c579-4c5a-af51-7dafee6c0e99",
   "metadata": {},
   "outputs": [
    {
     "data": {
      "text/plain": [
       "[2, 3]"
      ]
     },
     "execution_count": 15,
     "metadata": {},
     "output_type": "execute_result"
    }
   ],
   "source": [
    "max([1,2],[2,3], key=lambda x: x[1])"
   ]
  },
  {
   "cell_type": "code",
   "execution_count": 16,
   "id": "bc04e775-b0b6-47a2-82fc-2d6df2e465fa",
   "metadata": {},
   "outputs": [
    {
     "data": {
      "text/plain": [
       "2"
      ]
     },
     "execution_count": 16,
     "metadata": {},
     "output_type": "execute_result"
    }
   ],
   "source": [
    "max([1,2],[2,3], key=lambda x: x[1])[0]"
   ]
  },
  {
   "cell_type": "code",
   "execution_count": 17,
   "id": "09295036-4033-4c1e-8424-1831792845d5",
   "metadata": {},
   "outputs": [
    {
     "data": {
      "text/plain": [
       "[6, 6]"
      ]
     },
     "execution_count": 17,
     "metadata": {},
     "output_type": "execute_result"
    }
   ],
   "source": [
    "select_parents([1,2,3,4,5,6,7],[0.0,0.0,0.0,0.0,0.1,0.1,0.4])"
   ]
  },
  {
   "cell_type": "code",
   "execution_count": 18,
   "id": "b1157acf-78d5-49ea-9e22-a56432c23ca3",
   "metadata": {},
   "outputs": [],
   "source": [
    "# تقاطع (Single-Point Crossover)\n",
    "def crossover(parent1, parent2):\n",
    "    point = random.randint(1, len(parent1) - 1)\n",
    "    child1 = parent1[:point] + parent2[point:]\n",
    "    child2 = parent2[:point] + parent1[point:]\n",
    "    return child1, child2"
   ]
  },
  {
   "cell_type": "code",
   "execution_count": 20,
   "id": "e48c172a-859f-46dd-88df-9fa4e27c77e7",
   "metadata": {},
   "outputs": [],
   "source": [
    "# جهش (Mutation)\n",
    "def mutate(individual):\n",
    "    if random.random() < MUTATION_RATE:\n",
    "        idx = random.randint(0, len(individual) - 1)\n",
    "        individual = individual[:idx] + ('1' if individual[idx] == '0' else '0') + individual[idx+1:]\n",
    "    return individual"
   ]
  },
  {
   "cell_type": "code",
   "execution_count": 21,
   "id": "bd0a6ef4-45fa-4236-8808-a748c4844189",
   "metadata": {},
   "outputs": [],
   "source": [
    "# الگوریتم ژنتیک\n",
    "def genetic_algorithm():\n",
    "    population = create_initial_population(POPULATION_SIZE)\n",
    "    \n",
    "    for generation in range(NUM_GENERATIONS):\n",
    "        fitnesses = [fitness(int(individual, 2)) for individual in population]\n",
    "        new_population = []\n",
    "        \n",
    "        for _ in range(POPULATION_SIZE // 2):\n",
    "            parent1, parent2 = select_parents(population, fitnesses)\n",
    "            child1, child2 = crossover(parent1, parent2)\n",
    "            new_population.extend([mutate(child1), mutate(child2)])\n",
    "        \n",
    "        population = new_population\n",
    "    \n",
    "    best_individual = max(population, key=lambda x: fitness(int(x, 2)))\n",
    "    best_fitness = fitness(int(best_individual, 2))\n",
    "    return best_individual, best_fitness"
   ]
  },
  {
   "cell_type": "code",
   "execution_count": 22,
   "id": "c0f93fcc-e281-4d48-9435-6ff3f235b5ab",
   "metadata": {},
   "outputs": [
    {
     "name": "stdout",
     "output_type": "stream",
     "text": [
      "بهترین کروموزوم: 11111 (x = 31)\n",
      "ماکزیمم تابع: 961\n"
     ]
    }
   ],
   "source": [
    "# اجرای الگوریتم\n",
    "best_individual, best_fitness = genetic_algorithm()\n",
    "print(f\"بهترین کروموزوم: {best_individual} (x = {int(best_individual, 2)})\")\n",
    "print(f\"ماکزیمم تابع: {best_fitness}\")"
   ]
  }
 ],
 "metadata": {
  "kernelspec": {
   "display_name": "Python 3 (ipykernel)",
   "language": "python",
   "name": "python3"
  },
  "language_info": {
   "codemirror_mode": {
    "name": "ipython",
    "version": 3
   },
   "file_extension": ".py",
   "mimetype": "text/x-python",
   "name": "python",
   "nbconvert_exporter": "python",
   "pygments_lexer": "ipython3",
   "version": "3.13.0"
  }
 },
 "nbformat": 4,
 "nbformat_minor": 5
}
