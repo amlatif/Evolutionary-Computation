{
 "cells": [
  {
   "cell_type": "code",
   "execution_count": null,
   "id": "42c347ea-cab4-4827-a463-e7a2f0d0ad96",
   "metadata": {},
   "outputs": [],
   "source": [
    "import random\n",
    "import numpy as np"
   ]
  },
  {
   "cell_type": "code",
   "execution_count": null,
   "id": "74b75da2-c276-4ff1-8172-1af2b283d039",
   "metadata": {},
   "outputs": [],
   "source": [
    "def calculate_total_distance(route, distance_matrix):\n",
    "    \"\"\"Calculate the total distance of a given route.\"\"\"\n",
    "    total_distance = 0\n",
    "    for i in range(len(route)):\n",
    "        from_city = route[i]\n",
    "        to_city = route[(i + 1) % len(route)]  # Return to the starting city\n",
    "        total_distance += distance_matrix[from_city][to_city]\n",
    "    return total_distance"
   ]
  },
  {
   "cell_type": "code",
   "execution_count": 6,
   "id": "d4613cd1-49c9-422b-b814-5f752dc8ee39",
   "metadata": {},
   "outputs": [
    {
     "data": {
      "text/plain": [
       "array([[1, 2, 3],\n",
       "       [3, 4, 5],\n",
       "       [5, 3, 2]])"
      ]
     },
     "execution_count": 6,
     "metadata": {},
     "output_type": "execute_result"
    }
   ],
   "source": [
    "distance_matrix = np.array([[1,2,3],[3,4,5],[5,3,2]])\n",
    "distance_matrix"
   ]
  },
  {
   "cell_type": "code",
   "execution_count": 7,
   "id": "2b9144a0-23ec-4d18-bfc6-47fa472c5b0b",
   "metadata": {},
   "outputs": [],
   "source": [
    "route = [2,1,0]"
   ]
  },
  {
   "cell_type": "code",
   "execution_count": 8,
   "id": "e0b76a64-060c-448a-aa18-69bfd65ae991",
   "metadata": {},
   "outputs": [
    {
     "data": {
      "text/plain": [
       "np.int64(9)"
      ]
     },
     "execution_count": 8,
     "metadata": {},
     "output_type": "execute_result"
    }
   ],
   "source": [
    "calculate_total_distance(route, distance_matrix)"
   ]
  },
  {
   "cell_type": "code",
   "execution_count": 9,
   "id": "ebe1d3a1-c534-431c-a636-14e04fae0546",
   "metadata": {},
   "outputs": [
    {
     "data": {
      "text/plain": [
       "9"
      ]
     },
     "execution_count": 9,
     "metadata": {},
     "output_type": "execute_result"
    }
   ],
   "source": [
    "3 + 3 + 3"
   ]
  },
  {
   "cell_type": "code",
   "execution_count": 10,
   "id": "671902c1-1b3f-4c3f-a35b-ac528684c35d",
   "metadata": {},
   "outputs": [],
   "source": [
    "def generate_neighbors(route):\n",
    "    \"\"\"Generate neighboring routes by swapping two cities.\"\"\"\n",
    "    neighbors = []\n",
    "    for i in range(len(route)):\n",
    "        for j in range(i + 1, len(route)):\n",
    "            neighbor = route.copy()\n",
    "            neighbor[i], neighbor[j] = neighbor[j], neighbor[i]  # Swap two cities\n",
    "            neighbors.append(neighbor)\n",
    "    return neighbors"
   ]
  },
  {
   "cell_type": "code",
   "execution_count": 11,
   "id": "5141ee6a-77f4-4658-a98d-7eebbb48380a",
   "metadata": {},
   "outputs": [
    {
     "data": {
      "text/plain": [
       "[['B', 'A', 'C', 'D', 'E', 'F'],\n",
       " ['C', 'B', 'A', 'D', 'E', 'F'],\n",
       " ['D', 'B', 'C', 'A', 'E', 'F'],\n",
       " ['E', 'B', 'C', 'D', 'A', 'F'],\n",
       " ['F', 'B', 'C', 'D', 'E', 'A'],\n",
       " ['A', 'C', 'B', 'D', 'E', 'F'],\n",
       " ['A', 'D', 'C', 'B', 'E', 'F'],\n",
       " ['A', 'E', 'C', 'D', 'B', 'F'],\n",
       " ['A', 'F', 'C', 'D', 'E', 'B'],\n",
       " ['A', 'B', 'D', 'C', 'E', 'F'],\n",
       " ['A', 'B', 'E', 'D', 'C', 'F'],\n",
       " ['A', 'B', 'F', 'D', 'E', 'C'],\n",
       " ['A', 'B', 'C', 'E', 'D', 'F'],\n",
       " ['A', 'B', 'C', 'F', 'E', 'D'],\n",
       " ['A', 'B', 'C', 'D', 'F', 'E']]"
      ]
     },
     "execution_count": 11,
     "metadata": {},
     "output_type": "execute_result"
    }
   ],
   "source": [
    "generate_neighbors(['A','B','C','D','E','F'])"
   ]
  },
  {
   "cell_type": "code",
   "execution_count": 13,
   "id": "219a26a1-51d7-4adb-b6c9-4d9b4ec26986",
   "metadata": {},
   "outputs": [
    {
     "data": {
      "text/plain": [
       "(15, 6)"
      ]
     },
     "execution_count": 13,
     "metadata": {},
     "output_type": "execute_result"
    }
   ],
   "source": [
    "np.array(generate_neighbors(['A','B','C','D','E','F'])).shape"
   ]
  },
  {
   "cell_type": "code",
   "execution_count": 14,
   "id": "b5485c3b-a687-4b4f-ae74-502cdcf2dfa7",
   "metadata": {},
   "outputs": [
    {
     "data": {
      "text/plain": [
       "15"
      ]
     },
     "execution_count": 14,
     "metadata": {},
     "output_type": "execute_result"
    }
   ],
   "source": [
    "5 + 4 + 3 + 2 + 1"
   ]
  },
  {
   "cell_type": "code",
   "execution_count": 15,
   "id": "2dd1df0e-b31f-4524-8810-ac53b284acb6",
   "metadata": {},
   "outputs": [],
   "source": [
    "def tabu_search_tsp(distance_matrix, initial_route, max_iterations, tabu_list_size):\n",
    "    \"\"\"\n",
    "    Tabu Search Algorithm for the Traveling Salesman Problem (TSP).\n",
    "\n",
    "    Parameters:\n",
    "        distance_matrix: 2D array representing the distances between cities.\n",
    "        initial_route: Initial route (list of city indices).\n",
    "        max_iterations: Maximum number of iterations.\n",
    "        tabu_list_size: Size of the tabu list.\n",
    "\n",
    "    Returns:\n",
    "        best_route: The best route found.\n",
    "        best_distance: The total distance of the best route.\n",
    "    \"\"\"\n",
    "    current_route = initial_route\n",
    "    best_route = current_route\n",
    "    best_distance = calculate_total_distance(current_route, distance_matrix)\n",
    "    tabu_list = []\n",
    "\n",
    "    for iteration in range(max_iterations):\n",
    "        # Generate neighboring routes\n",
    "        neighbors = generate_neighbors(current_route)\n",
    "\n",
    "        # Filter out routes in the tabu list\n",
    "        valid_neighbors = [n for n in neighbors if n not in tabu_list]\n",
    "\n",
    "        if not valid_neighbors:\n",
    "            print(\"No valid neighbors. Exiting...\")\n",
    "            break\n",
    "\n",
    "        # Evaluate neighbors and select the best one\n",
    "        neighbor_distances = [(n, calculate_total_distance(n, distance_matrix)) for n in valid_neighbors]\n",
    "        neighbor_distances.sort(key=lambda x: x[1])  # Sort by total distance\n",
    "        best_neighbor, best_neighbor_distance = neighbor_distances[0]\n",
    "\n",
    "        # Update current route\n",
    "        current_route = best_neighbor\n",
    "\n",
    "        # Update tabu list\n",
    "        tabu_list.append(best_neighbor)\n",
    "        if len(tabu_list) > tabu_list_size:\n",
    "            tabu_list.pop(0)  # Remove the oldest entry\n",
    "\n",
    "        # Update best route\n",
    "        if best_neighbor_distance < best_distance:\n",
    "            best_route = best_neighbor\n",
    "            best_distance = best_neighbor_distance\n",
    "            print(f\"New best route found at iteration {iteration}: Distance = {best_distance}\")\n",
    "\n",
    "    return best_route, best_distance"
   ]
  },
  {
   "cell_type": "code",
   "execution_count": 16,
   "id": "603d5b85-9bcf-41e3-a79a-e49d16f03dd6",
   "metadata": {},
   "outputs": [
    {
     "name": "stdout",
     "output_type": "stream",
     "text": [
      "New best route found at iteration 0: Distance = 95\n",
      "\n",
      "Optimization complete.\n",
      "Best route: [0, 2, 3, 4, 1]\n",
      "Best distance: 95\n"
     ]
    }
   ],
   "source": [
    "# Example Usage\n",
    "\n",
    "# Define the distance matrix (example with 5 cities)\n",
    "distance_matrix = [\n",
    "    [0, 10, 15, 20, 25],\n",
    "    [10, 0, 35, 25, 30],\n",
    "    [15, 35, 0, 30, 40],\n",
    "    [20, 25, 30, 0, 10],\n",
    "    [25, 30, 40, 10, 0]\n",
    "]\n",
    "\n",
    "num_cities = len(distance_matrix)\n",
    "initial_route = list(range(num_cities))  # Start with the route [0, 1, 2, ..., n-1]\n",
    "random.shuffle(initial_route)  # Shuffle to create a random initial route\n",
    "\n",
    "# Parameters\n",
    "max_iterations = 100\n",
    "tabu_list_size = 10\n",
    "\n",
    "# Run Tabu Search\n",
    "best_route, best_distance = tabu_search_tsp(\n",
    "    distance_matrix=distance_matrix,\n",
    "    initial_route=initial_route,\n",
    "    max_iterations=max_iterations,\n",
    "    tabu_list_size=tabu_list_size\n",
    ")\n",
    "\n",
    "print(\"\\nOptimization complete.\")\n",
    "print(f\"Best route: {best_route}\")\n",
    "print(f\"Best distance: {best_distance}\")"
   ]
  }
 ],
 "metadata": {
  "kernelspec": {
   "display_name": "Python 3 (ipykernel)",
   "language": "python",
   "name": "python3"
  },
  "language_info": {
   "codemirror_mode": {
    "name": "ipython",
    "version": 3
   },
   "file_extension": ".py",
   "mimetype": "text/x-python",
   "name": "python",
   "nbconvert_exporter": "python",
   "pygments_lexer": "ipython3",
   "version": "3.13.0"
  }
 },
 "nbformat": 4,
 "nbformat_minor": 5
}
