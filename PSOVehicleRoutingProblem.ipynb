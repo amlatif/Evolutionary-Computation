{
 "cells": [
  {
   "cell_type": "markdown",
   "id": "78658a98-9d3c-4615-b3b0-c87071b4d3a4",
   "metadata": {},
   "source": [
    "The **Vehicle Routing Problem (VRP)** is a classic optimization problem in logistics where the goal is to determine the optimal routes for a fleet of vehicles to deliver goods to a set of customers while minimizing costs such as fuel consumption and delivery times. \n",
    "\n",
    "Below, I will implement a solution using **Particle Swarm Optimization (PSO)** to solve a basic VRP. The objective function will minimize the total distance traveled by all vehicles, which indirectly minimizes fuel consumption and delivery times.\n",
    "\n",
    "---\n",
    "\n",
    "### **Steps to Implement VRP with PSO**\n",
    "1. **Define the Problem**:\n",
    "   - A depot serves as the starting and ending point for all vehicles.\n",
    "   - Each customer has a specific location and demand.\n",
    "   - Vehicles have a limited capacity.\n",
    "\n",
    "2. **Representation of Solutions**:\n",
    "   - Each particle represents a potential solution (a set of routes for the vehicles).\n",
    "   - A solution is encoded as a permutation of customer indices, split into routes based on vehicle capacity.\n",
    "\n",
    "3. **Objective Function**:\n",
    "   - Minimize the total distance traveled by all vehicles while satisfying constraints (e.g., vehicle capacity).\n",
    "\n",
    "4. **Optimize Using PSO**:\n",
    "   - Use PSO to explore different solutions and find the one that minimizes the objective function.\n",
    "\n",
    "5. **Visualize Results**:\n",
    "   - Plot the optimal routes on a map.\n",
    "\n",
    "---\n",
    "\n",
    "### **Python Implementation**\n",
    "\n",
    "```python\n",
    "import numpy as np\n",
    "import matplotlib.pyplot as plt\n",
    "\n",
    "# Generate random customer locations and demands\n",
    "np.random.seed(42)\n",
    "num_customers = 10  # Number of customers\n",
    "num_vehicles = 3    # Number of vehicles\n",
    "vehicle_capacity = 10  # Capacity of each vehicle\n",
    "depot_location = np.array([0, 0])  # Depot at origin\n",
    "\n",
    "# Random customer locations and demands\n",
    "customer_locations = np.random.rand(num_customers, 2) * 20  # Locations in [0, 20] range\n",
    "customer_demands = np.random.randint(1, 5, size=num_customers)  # Demands between 1 and 4\n",
    "\n",
    "# Distance matrix (Euclidean distances between all points)\n",
    "def calculate_distance_matrix(locations):\n",
    "    num_points = len(locations)\n",
    "    distance_matrix = np.zeros((num_points, num_points))\n",
    "    for i in range(num_points):\n",
    "        for j in range(num_points):\n",
    "            distance_matrix[i, j] = np.linalg.norm(locations[i] - locations[j])\n",
    "    return distance_matrix\n",
    "\n",
    "# Add depot to the locations\n",
    "all_locations = np.vstack([depot_location, customer_locations])\n",
    "distance_matrix = calculate_distance_matrix(all_locations)\n",
    "\n",
    "# Objective function\n",
    "def evaluate_solution(solution):\n",
    "    \"\"\"\n",
    "    Evaluate the total distance traveled by all vehicles.\n",
    "    :param solution: Permutation of customer indices representing the order of visits.\n",
    "    :return: Total distance traveled.\n",
    "    \"\"\"\n",
    "    total_distance = 0\n",
    "    current_load = 0\n",
    "    current_route_distance = 0\n",
    "    current_vehicle = 0\n",
    "    \n",
    "    # Start from the depot\n",
    "    current_location = 0  # Depot index\n",
    "    \n",
    "    for customer in solution:\n",
    "        # Check if adding the customer exceeds vehicle capacity\n",
    "        if current_load + customer_demands[customer] > vehicle_capacity:\n",
    "            # Return to depot and start a new route\n",
    "            total_distance += distance_matrix[current_location, 0]\n",
    "            current_location = 0  # Reset to depot\n",
    "            current_load = 0\n",
    "            current_vehicle += 1\n",
    "            if current_vehicle >= num_vehicles:\n",
    "                break  # No more vehicles available\n",
    "        \n",
    "        # Visit the customer\n",
    "        total_distance += distance_matrix[current_location, customer + 1]\n",
    "        current_location = customer + 1\n",
    "        current_load += customer_demands[customer]\n",
    "    \n",
    "    # Return to depot at the end of the last route\n",
    "    total_distance += distance_matrix[current_location, 0]\n",
    "    return total_distance\n",
    "\n",
    "# PSO parameters\n",
    "num_particles = 20       # Number of particles in the swarm\n",
    "max_iterations = 100     # Maximum number of iterations\n",
    "w = 0.7                  # Inertia weight\n",
    "c1 = 1.5                 # Cognitive coefficient\n",
    "c2 = 1.5                 # Social coefficient\n",
    "\n",
    "# Initialize the swarm\n",
    "particles = [np.random.permutation(num_customers) for _ in range(num_particles)]\n",
    "velocities = [np.zeros(num_customers) for _ in range(num_particles)]\n",
    "\n",
    "# Initialize personal best positions and fitness values\n",
    "p_best_positions = particles.copy()\n",
    "p_best_fitness = [evaluate_solution(p) for p in particles]\n",
    "\n",
    "# Initialize global best position and fitness value\n",
    "g_best_position = p_best_positions[np.argmin(p_best_fitness)]\n",
    "g_best_fitness = np.min(p_best_fitness)\n",
    "\n",
    "# PSO algorithm\n",
    "for iteration in range(max_iterations):\n",
    "    for i in range(num_particles):\n",
    "        # Update velocity\n",
    "        r1, r2 = np.random.rand(), np.random.rand()\n",
    "        velocities[i] = (w * velocities[i] +\n",
    "                         c1 * r1 * (p_best_positions[i] - particles[i]) +\n",
    "                         c2 * r2 * (g_best_position - particles[i]))\n",
    "        \n",
    "        # Update position (ensure valid permutations)\n",
    "        temp_position = particles[i] + velocities[i]\n",
    "        particles[i] = np.argsort(temp_position)  # Convert to a valid permutation\n",
    "        \n",
    "        # Evaluate fitness\n",
    "        fitness = evaluate_solution(particles[i])\n",
    "        \n",
    "        # Update personal best\n",
    "        if fitness < p_best_fitness[i]:\n",
    "            p_best_fitness[i] = fitness\n",
    "            p_best_positions[i] = particles[i]\n",
    "        \n",
    "        # Update global best\n",
    "        if fitness < g_best_fitness:\n",
    "            g_best_fitness = fitness\n",
    "            g_best_position = particles[i]\n",
    "    \n",
    "    # Print progress\n",
    "    print(f\"Iteration {iteration + 1}: Best Fitness (Total Distance) = {g_best_fitness:.2f}\")\n",
    "\n",
    "# Output the result\n",
    "print(\"\\nOptimization Complete:\")\n",
    "print(f\"Best Solution: {g_best_position}\")\n",
    "print(f\"Minimum Total Distance: {g_best_fitness:.2f}\")\n",
    "\n",
    "# Visualize the optimal routes\n",
    "def plot_routes(solution):\n",
    "    plt.figure(figsize=(8, 6))\n",
    "    plt.scatter(depot_location[0], depot_location[1], color=\"red\", s=100, label=\"Depot\")\n",
    "    plt.scatter(customer_locations[:, 0], customer_locations[:, 1], color=\"blue\", label=\"Customers\")\n",
    "    \n",
    "    current_load = 0\n",
    "    current_location = 0  # Depot index\n",
    "    route = []\n",
    "    \n",
    "    for customer in solution:\n",
    "        if current_load + customer_demands[customer] > vehicle_capacity:\n",
    "            # Plot the current route and return to depot\n",
    "            route.append(0)\n",
    "            route_coords = all_locations[route]\n",
    "            plt.plot(route_coords[:, 0], route_coords[:, 1], marker='o', linestyle=\"-\", label=f\"Route\")\n",
    "            route = [0]  # Start a new route\n",
    "            current_load = 0\n",
    "        \n",
    "        # Visit the customer\n",
    "        route.append(customer + 1)\n",
    "        current_load += customer_demands[customer]\n",
    "    \n",
    "    # Plot the last route and return to depot\n",
    "    route.append(0)\n",
    "    route_coords = all_locations[route]\n",
    "    plt.plot(route_coords[:, 0], route_coords[:, 1], marker='o', linestyle=\"-\", label=f\"Route\")\n",
    "    \n",
    "    plt.title(\"Optimal Routes\")\n",
    "    plt.xlabel(\"X Coordinate\")\n",
    "    plt.ylabel(\"Y Coordinate\")\n",
    "    plt.legend()\n",
    "    plt.grid(True)\n",
    "    plt.show()\n",
    "\n",
    "plot_routes(g_best_position)\n",
    "```\n",
    "\n",
    "---\n",
    "\n",
    "### **Explanation of the Code**\n",
    "1. **Problem Setup**:\n",
    "   - Customers are randomly placed on a 2D plane, and their demands are generated randomly.\n",
    "   - A distance matrix is precomputed to speed up distance calculations.\n",
    "\n",
    "2. **Solution Representation**:\n",
    "   - Each particle represents a permutation of customer indices.\n",
    "   - Routes are constructed by splitting the permutation based on vehicle capacity.\n",
    "\n",
    "3. **Objective Function**:\n",
    "   - The total distance traveled by all vehicles is calculated, including trips back to the depot.\n",
    "\n",
    "4. **PSO Algorithm**:\n",
    "   - Velocities are updated using standard PSO equations.\n",
    "   - Positions are updated to ensure valid permutations using `np.argsort`.\n",
    "\n",
    "5. **Visualization**:\n",
    "   - The optimal routes are plotted, showing the paths taken by each vehicle.\n",
    "\n",
    "---\n",
    "\n",
    "### **Example Output**\n",
    "1. **Console Output**:\n",
    "   ```\n",
    "   Iteration 1: Best Fitness (Total Distance) = 120.45\n",
    "   Iteration 2: Best Fitness (Total Distance) = 115.67\n",
    "   ...\n",
    "   Iteration 100: Best Fitness (Total Distance) = 95.34\n",
    "\n",
    "   Optimization Complete:\n",
    "   Best Solution: [3, 7, 1, 5, 9, 0, 2, 6, 4, 8]\n",
    "   Minimum Total Distance: 95.34\n",
    "   ```\n",
    "\n",
    "2. **Visualization**:\n",
    "   - A plot shows the depot, customer locations, and the optimal routes taken by the vehicles.\n",
    "\n",
    "---\n",
    "\n",
    "### **Customization**\n",
    "- **Constraints**: Add time windows or multiple depots.\n",
    "- **Objective**: Minimize fuel costs explicitly by factoring in fuel consumption rates.\n",
    "- **Dataset**: Use real-world data for customer locations and demands.\n",
    "\n",
    "This implementation demonstrates how PSO can be used to solve the VRP effectively. Let me know if you need further clarification!"
   ]
  },
  {
   "cell_type": "code",
   "execution_count": 2,
   "id": "94c738f7-e4d1-411f-9937-adeb8fe76147",
   "metadata": {},
   "outputs": [],
   "source": [
    "import numpy as np\n",
    "import matplotlib.pyplot as plt"
   ]
  },
  {
   "cell_type": "code",
   "execution_count": 3,
   "id": "d403ee94-d05a-4624-bed7-ee15df3fe2a5",
   "metadata": {},
   "outputs": [],
   "source": [
    "# Generate random customer locations and demands\n",
    "np.random.seed(42)\n",
    "num_customers = 10  # Number of customers\n",
    "num_vehicles = 3    # Number of vehicles\n",
    "vehicle_capacity = 10  # Capacity of each vehicle\n",
    "depot_location = np.array([0, 0])  # Depot at origin"
   ]
  },
  {
   "cell_type": "code",
   "execution_count": 4,
   "id": "36961760-8e45-4aef-8059-836c786a30ea",
   "metadata": {},
   "outputs": [],
   "source": [
    "# Random customer locations and demands\n",
    "customer_locations = np.random.rand(num_customers, 2) * 20  # Locations in [0, 20] range\n",
    "customer_demands = np.random.randint(1, 5, size=num_customers)  # Demands between 1 and 4"
   ]
  },
  {
   "cell_type": "code",
   "execution_count": 5,
   "id": "71a84dd0-7386-49b2-8389-cd7cc3865b71",
   "metadata": {},
   "outputs": [
    {
     "data": {
      "text/plain": [
       "array([[ 7.49080238, 19.01428613],\n",
       "       [14.63987884, 11.97316968],\n",
       "       [ 3.12037281,  3.11989041],\n",
       "       [ 1.16167224, 17.32352292],\n",
       "       [12.02230023, 14.16145156],\n",
       "       [ 0.41168989, 19.39819704],\n",
       "       [16.64885282,  4.24678221],\n",
       "       [ 3.63649934,  3.6680902 ],\n",
       "       [ 6.08484486, 10.49512863],\n",
       "       [ 8.63890037,  5.8245828 ]])"
      ]
     },
     "execution_count": 5,
     "metadata": {},
     "output_type": "execute_result"
    }
   ],
   "source": [
    "customer_locations"
   ]
  },
  {
   "cell_type": "code",
   "execution_count": 7,
   "id": "836469c6-7848-44ab-ae7c-ac78218c1ce5",
   "metadata": {},
   "outputs": [
    {
     "data": {
      "text/plain": [
       "(10, 2)"
      ]
     },
     "execution_count": 7,
     "metadata": {},
     "output_type": "execute_result"
    }
   ],
   "source": [
    "customer_locations.shape"
   ]
  },
  {
   "cell_type": "code",
   "execution_count": 6,
   "id": "3eee29b6-afad-44ce-aa60-c071caeb5991",
   "metadata": {},
   "outputs": [
    {
     "data": {
      "text/plain": [
       "array([3, 3, 2, 4, 4, 4, 4, 3, 2, 2], dtype=int32)"
      ]
     },
     "execution_count": 6,
     "metadata": {},
     "output_type": "execute_result"
    }
   ],
   "source": [
    "customer_demands"
   ]
  },
  {
   "cell_type": "code",
   "execution_count": 8,
   "id": "c8594fb6-2bad-4343-8750-ba863af32118",
   "metadata": {},
   "outputs": [
    {
     "data": {
      "text/plain": [
       "(10,)"
      ]
     },
     "execution_count": 8,
     "metadata": {},
     "output_type": "execute_result"
    }
   ],
   "source": [
    "customer_demands.shape"
   ]
  },
  {
   "cell_type": "code",
   "execution_count": 9,
   "id": "a58495f5-c4e3-4631-b0a3-b1a5ddfc122f",
   "metadata": {},
   "outputs": [],
   "source": [
    "# Distance matrix (Euclidean distances between all points)\n",
    "def calculate_distance_matrix(locations):\n",
    "    num_points = len(locations)\n",
    "    distance_matrix = np.zeros((num_points, num_points))\n",
    "    for i in range(num_points):\n",
    "        for j in range(num_points):\n",
    "            distance_matrix[i, j] = np.linalg.norm(locations[i] - locations[j])\n",
    "    return distance_matrix"
   ]
  },
  {
   "cell_type": "code",
   "execution_count": 10,
   "id": "6770e3ce-30cf-46ef-a85c-1413bbe6ca14",
   "metadata": {},
   "outputs": [
    {
     "data": {
      "text/plain": [
       "array([[ 0.        , 10.03427202, 16.48430981,  6.55107384,  6.63961416,\n",
       "         7.08951488, 17.37668149, 15.82281206,  8.63439407, 13.23957714],\n",
       "       [10.03427202,  0.        , 14.52857781, 14.50132176,  3.4117877 ,\n",
       "        16.04906203,  7.98329755, 13.78581537,  8.68177469,  8.59167406],\n",
       "       [16.48430981, 14.52857781,  0.        , 14.33805023, 14.18310208,\n",
       "        16.50212805, 13.57533265,  0.752934  ,  7.94872527,  6.14569015],\n",
       "       [ 6.55107384, 14.50132176, 14.33805023,  0.        , 11.31158414,\n",
       "         2.20607032, 20.26953156, 13.87788211,  8.41811125, 13.71621537],\n",
       "       [ 6.63961416,  3.4117877 , 14.18310208, 11.31158414,  0.        ,\n",
       "        12.73694532, 10.94100804, 13.43250867,  6.97820178,  8.99726487],\n",
       "       [ 7.08951488, 16.04906203, 16.50212805,  2.20607032, 12.73694532,\n",
       "         0.        , 22.20835049, 16.05726183, 10.55695574, 15.87230279],\n",
       "       [17.37668149,  7.98329755, 13.57533265, 20.26953156, 10.94100804,\n",
       "        22.20835049,  0.        , 13.02521506, 12.27355275,  8.16387119],\n",
       "       [15.82281206, 13.78581537,  0.752934  , 13.87788211, 13.43250867,\n",
       "        16.05726183, 13.02521506,  0.        ,  7.25278219,  5.44742842],\n",
       "       [ 8.63439407,  8.68177469,  7.94872527,  8.41811125,  6.97820178,\n",
       "        10.55695574, 12.27355275,  7.25278219,  0.        ,  5.32326948],\n",
       "       [13.23957714,  8.59167406,  6.14569015, 13.71621537,  8.99726487,\n",
       "        15.87230279,  8.16387119,  5.44742842,  5.32326948,  0.        ]])"
      ]
     },
     "execution_count": 10,
     "metadata": {},
     "output_type": "execute_result"
    }
   ],
   "source": [
    " calculate_distance_matrix(customer_locations)"
   ]
  },
  {
   "cell_type": "code",
   "execution_count": 11,
   "id": "256d50bc-2644-4582-9150-f7d7e161ebec",
   "metadata": {},
   "outputs": [
    {
     "data": {
      "text/plain": [
       "(10, 10)"
      ]
     },
     "execution_count": 11,
     "metadata": {},
     "output_type": "execute_result"
    }
   ],
   "source": [
    " calculate_distance_matrix(customer_locations).shape"
   ]
  },
  {
   "cell_type": "code",
   "execution_count": 12,
   "id": "7bc301fc-565d-490f-82de-e6d79fe9cbd8",
   "metadata": {},
   "outputs": [],
   "source": [
    "# Add depot to the locations\n",
    "all_locations = np.vstack([depot_location, customer_locations])\n",
    "distance_matrix = calculate_distance_matrix(all_locations)"
   ]
  },
  {
   "cell_type": "code",
   "execution_count": 13,
   "id": "dd2e47b8-41f7-431b-903e-5c510ebeb903",
   "metadata": {},
   "outputs": [
    {
     "data": {
      "text/plain": [
       "array([[ 0.        ,  0.        ],\n",
       "       [ 7.49080238, 19.01428613],\n",
       "       [14.63987884, 11.97316968],\n",
       "       [ 3.12037281,  3.11989041],\n",
       "       [ 1.16167224, 17.32352292],\n",
       "       [12.02230023, 14.16145156],\n",
       "       [ 0.41168989, 19.39819704],\n",
       "       [16.64885282,  4.24678221],\n",
       "       [ 3.63649934,  3.6680902 ],\n",
       "       [ 6.08484486, 10.49512863],\n",
       "       [ 8.63890037,  5.8245828 ]])"
      ]
     },
     "execution_count": 13,
     "metadata": {},
     "output_type": "execute_result"
    }
   ],
   "source": [
    "all_locations"
   ]
  },
  {
   "cell_type": "code",
   "execution_count": 14,
   "id": "6871cfaa-dea7-4610-9319-011f3650ad0d",
   "metadata": {},
   "outputs": [
    {
     "data": {
      "text/plain": [
       "(11, 2)"
      ]
     },
     "execution_count": 14,
     "metadata": {},
     "output_type": "execute_result"
    }
   ],
   "source": [
    "all_locations.shape"
   ]
  },
  {
   "cell_type": "code",
   "execution_count": 15,
   "id": "db094798-8663-438b-ae99-df09402a3d3c",
   "metadata": {},
   "outputs": [
    {
     "data": {
      "text/plain": [
       "array([[ 0.        , 20.43661413, 18.91250498,  4.41253245, 17.36242865,\n",
       "        18.57639397, 19.40256522, 17.18195156,  5.1651731 , 12.13149051,\n",
       "        10.41903856],\n",
       "       [20.43661413,  0.        , 10.03427202, 16.48430981,  6.55107384,\n",
       "         6.63961416,  7.08951488, 17.37668149, 15.82281206,  8.63439407,\n",
       "        13.23957714],\n",
       "       [18.91250498, 10.03427202,  0.        , 14.52857781, 14.50132176,\n",
       "         3.4117877 , 16.04906203,  7.98329755, 13.78581537,  8.68177469,\n",
       "         8.59167406],\n",
       "       [ 4.41253245, 16.48430981, 14.52857781,  0.        , 14.33805023,\n",
       "        14.18310208, 16.50212805, 13.57533265,  0.752934  ,  7.94872527,\n",
       "         6.14569015],\n",
       "       [17.36242865,  6.55107384, 14.50132176, 14.33805023,  0.        ,\n",
       "        11.31158414,  2.20607032, 20.26953156, 13.87788211,  8.41811125,\n",
       "        13.71621537],\n",
       "       [18.57639397,  6.63961416,  3.4117877 , 14.18310208, 11.31158414,\n",
       "         0.        , 12.73694532, 10.94100804, 13.43250867,  6.97820178,\n",
       "         8.99726487],\n",
       "       [19.40256522,  7.08951488, 16.04906203, 16.50212805,  2.20607032,\n",
       "        12.73694532,  0.        , 22.20835049, 16.05726183, 10.55695574,\n",
       "        15.87230279],\n",
       "       [17.18195156, 17.37668149,  7.98329755, 13.57533265, 20.26953156,\n",
       "        10.94100804, 22.20835049,  0.        , 13.02521506, 12.27355275,\n",
       "         8.16387119],\n",
       "       [ 5.1651731 , 15.82281206, 13.78581537,  0.752934  , 13.87788211,\n",
       "        13.43250867, 16.05726183, 13.02521506,  0.        ,  7.25278219,\n",
       "         5.44742842],\n",
       "       [12.13149051,  8.63439407,  8.68177469,  7.94872527,  8.41811125,\n",
       "         6.97820178, 10.55695574, 12.27355275,  7.25278219,  0.        ,\n",
       "         5.32326948],\n",
       "       [10.41903856, 13.23957714,  8.59167406,  6.14569015, 13.71621537,\n",
       "         8.99726487, 15.87230279,  8.16387119,  5.44742842,  5.32326948,\n",
       "         0.        ]])"
      ]
     },
     "execution_count": 15,
     "metadata": {},
     "output_type": "execute_result"
    }
   ],
   "source": [
    "distance_matrix"
   ]
  },
  {
   "cell_type": "code",
   "execution_count": 16,
   "id": "a046f3ef-4747-43dc-9649-c6e011bd86e7",
   "metadata": {},
   "outputs": [
    {
     "data": {
      "text/plain": [
       "(11, 11)"
      ]
     },
     "execution_count": 16,
     "metadata": {},
     "output_type": "execute_result"
    }
   ],
   "source": [
    "distance_matrix.shape"
   ]
  },
  {
   "cell_type": "code",
   "execution_count": null,
   "id": "870e1813-d1f8-415a-80b8-7dd7d9118cfe",
   "metadata": {},
   "outputs": [],
   "source": [
    "# Objective function\n",
    "def evaluate_solution(solution):\n",
    "    \"\"\"\n",
    "    Evaluate the total distance traveled by all vehicles.\n",
    "    :param solution: Permutation of customer indices representing the order of visits.\n",
    "    :return: Total distance traveled.\n",
    "    \"\"\"\n",
    "    total_distance = 0\n",
    "    current_load = 0\n",
    "    current_route_distance = 0\n",
    "    current_vehicle = 0\n",
    "    \n",
    "    # Start from the depot\n",
    "    current_location = 0  # Depot index\n",
    "    \n",
    "    for customer in solution:\n",
    "        # Check if adding the customer exceeds vehicle capacity\n",
    "        if current_load + customer_demands[customer] > vehicle_capacity:\n",
    "            # Return to depot and start a new route\n",
    "            total_distance += distance_matrix[current_location, 0]\n",
    "            current_location = 0  # Reset to depot\n",
    "            current_load = 0\n",
    "            current_vehicle += 1\n",
    "            if current_vehicle >= num_vehicles:\n",
    "                break  # No more vehicles available\n",
    "                     # Visit the customer\n",
    "        total_distance += distance_matrix[current_location, customer + 1]\n",
    "        current_location = customer + 1\n",
    "        current_load += customer_demands[customer]\n",
    "    \n",
    "    # Return to depot at the end of the last route\n",
    "    total_distance += distance_matrix[current_location, 0]\n",
    "    return total_distance        "
   ]
  },
  {
   "cell_type": "code",
   "execution_count": 17,
   "id": "ad58efb5-b996-46af-9984-430bb222c9e8",
   "metadata": {},
   "outputs": [],
   "source": [
    "# PSO parameters\n",
    "num_particles = 20       # Number of particles in the swarm\n",
    "max_iterations = 100     # Maximum number of iterations\n",
    "w = 0.7                  # Inertia weight\n",
    "c1 = 1.5                 # Cognitive coefficient\n",
    "c2 = 1.5                 # Social coefficient"
   ]
  },
  {
   "cell_type": "code",
   "execution_count": 18,
   "id": "29cd37aa-0678-4ca3-b56d-cbeee7e0f9de",
   "metadata": {},
   "outputs": [],
   "source": [
    "# Initialize the swarm\n",
    "particles = [np.random.permutation(num_customers) for _ in range(num_particles)]\n",
    "velocities = [np.zeros(num_customers) for _ in range(num_particles)]"
   ]
  },
  {
   "cell_type": "code",
   "execution_count": 19,
   "id": "15098e31-ddd1-4cfa-933c-5c50dc62696d",
   "metadata": {},
   "outputs": [
    {
     "data": {
      "text/plain": [
       "[array([1, 8, 7, 5, 4, 9, 0, 3, 6, 2], dtype=int32),\n",
       " array([5, 2, 4, 7, 9, 0, 3, 1, 6, 8], dtype=int32),\n",
       " array([9, 7, 0, 2, 5, 6, 3, 1, 4, 8], dtype=int32),\n",
       " array([8, 9, 5, 4, 6, 7, 1, 3, 0, 2], dtype=int32),\n",
       " array([0, 2, 6, 8, 7, 1, 4, 5, 3, 9], dtype=int32),\n",
       " array([2, 8, 4, 1, 0, 9, 6, 5, 7, 3], dtype=int32),\n",
       " array([6, 2, 5, 8, 3, 0, 9, 7, 4, 1], dtype=int32),\n",
       " array([1, 5, 2, 4, 3, 7, 9, 6, 8, 0], dtype=int32),\n",
       " array([3, 1, 4, 5, 8, 6, 9, 7, 0, 2], dtype=int32),\n",
       " array([2, 4, 5, 1, 7, 0, 9, 3, 8, 6], dtype=int32),\n",
       " array([7, 0, 1, 8, 3, 2, 4, 5, 9, 6], dtype=int32),\n",
       " array([6, 1, 3, 8, 7, 5, 4, 9, 0, 2], dtype=int32),\n",
       " array([4, 7, 8, 3, 5, 1, 0, 2, 9, 6], dtype=int32),\n",
       " array([1, 8, 5, 2, 9, 7, 4, 3, 0, 6], dtype=int32),\n",
       " array([8, 0, 4, 1, 9, 5, 7, 2, 6, 3], dtype=int32),\n",
       " array([0, 2, 1, 9, 7, 6, 3, 5, 4, 8], dtype=int32),\n",
       " array([1, 2, 7, 4, 8, 5, 0, 3, 6, 9], dtype=int32),\n",
       " array([7, 9, 1, 6, 5, 2, 0, 4, 3, 8], dtype=int32),\n",
       " array([5, 7, 4, 6, 9, 8, 3, 1, 2, 0], dtype=int32),\n",
       " array([6, 4, 7, 9, 2, 1, 5, 8, 3, 0], dtype=int32)]"
      ]
     },
     "execution_count": 19,
     "metadata": {},
     "output_type": "execute_result"
    }
   ],
   "source": [
    "particles"
   ]
  },
  {
   "cell_type": "code",
   "execution_count": 21,
   "id": "8c989bbf-495c-4e7b-ae67-ade76de66d49",
   "metadata": {},
   "outputs": [],
   "source": [
    "# Initialize personal best positions and fitness values\n",
    "p_best_positions = particles.copy()\n",
    "p_best_fitness = [evaluate_solution(p) for p in particles]"
   ]
  },
  {
   "cell_type": "code",
   "execution_count": 22,
   "id": "fd5c4cd1-3241-411d-97c0-76094453ad6d",
   "metadata": {},
   "outputs": [],
   "source": [
    "# Initialize global best position and fitness value\n",
    "g_best_position = p_best_positions[np.argmin(p_best_fitness)]\n",
    "g_best_fitness = np.min(p_best_fitness)"
   ]
  },
  {
   "cell_type": "code",
   "execution_count": 25,
   "id": "9232daa3-5f38-46fc-8f26-796db704ea81",
   "metadata": {},
   "outputs": [
    {
     "name": "stdout",
     "output_type": "stream",
     "text": [
      "Iteration 1: Best Fitness (Total Distance) = 120.06\n",
      "Iteration 2: Best Fitness (Total Distance) = 120.06\n",
      "Iteration 3: Best Fitness (Total Distance) = 119.05\n",
      "Iteration 4: Best Fitness (Total Distance) = 119.05\n",
      "Iteration 5: Best Fitness (Total Distance) = 119.05\n",
      "Iteration 6: Best Fitness (Total Distance) = 119.05\n",
      "Iteration 7: Best Fitness (Total Distance) = 119.05\n",
      "Iteration 8: Best Fitness (Total Distance) = 119.05\n",
      "Iteration 9: Best Fitness (Total Distance) = 119.05\n",
      "Iteration 10: Best Fitness (Total Distance) = 119.05\n",
      "Iteration 11: Best Fitness (Total Distance) = 119.05\n",
      "Iteration 12: Best Fitness (Total Distance) = 119.05\n",
      "Iteration 13: Best Fitness (Total Distance) = 119.05\n",
      "Iteration 14: Best Fitness (Total Distance) = 119.05\n",
      "Iteration 15: Best Fitness (Total Distance) = 115.13\n",
      "Iteration 16: Best Fitness (Total Distance) = 115.13\n",
      "Iteration 17: Best Fitness (Total Distance) = 115.13\n",
      "Iteration 18: Best Fitness (Total Distance) = 115.13\n",
      "Iteration 19: Best Fitness (Total Distance) = 115.13\n",
      "Iteration 20: Best Fitness (Total Distance) = 115.13\n",
      "Iteration 21: Best Fitness (Total Distance) = 115.13\n",
      "Iteration 22: Best Fitness (Total Distance) = 115.13\n",
      "Iteration 23: Best Fitness (Total Distance) = 115.13\n",
      "Iteration 24: Best Fitness (Total Distance) = 115.13\n",
      "Iteration 25: Best Fitness (Total Distance) = 115.13\n",
      "Iteration 26: Best Fitness (Total Distance) = 115.13\n",
      "Iteration 27: Best Fitness (Total Distance) = 115.13\n",
      "Iteration 28: Best Fitness (Total Distance) = 115.13\n",
      "Iteration 29: Best Fitness (Total Distance) = 115.13\n",
      "Iteration 30: Best Fitness (Total Distance) = 115.13\n",
      "Iteration 31: Best Fitness (Total Distance) = 115.13\n",
      "Iteration 32: Best Fitness (Total Distance) = 115.13\n",
      "Iteration 33: Best Fitness (Total Distance) = 115.13\n",
      "Iteration 34: Best Fitness (Total Distance) = 115.13\n",
      "Iteration 35: Best Fitness (Total Distance) = 115.13\n",
      "Iteration 36: Best Fitness (Total Distance) = 115.13\n",
      "Iteration 37: Best Fitness (Total Distance) = 115.13\n",
      "Iteration 38: Best Fitness (Total Distance) = 115.13\n",
      "Iteration 39: Best Fitness (Total Distance) = 115.13\n",
      "Iteration 40: Best Fitness (Total Distance) = 115.13\n",
      "Iteration 41: Best Fitness (Total Distance) = 115.13\n",
      "Iteration 42: Best Fitness (Total Distance) = 115.13\n",
      "Iteration 43: Best Fitness (Total Distance) = 115.13\n",
      "Iteration 44: Best Fitness (Total Distance) = 115.13\n",
      "Iteration 45: Best Fitness (Total Distance) = 115.13\n",
      "Iteration 46: Best Fitness (Total Distance) = 115.13\n",
      "Iteration 47: Best Fitness (Total Distance) = 115.13\n",
      "Iteration 48: Best Fitness (Total Distance) = 115.13\n",
      "Iteration 49: Best Fitness (Total Distance) = 115.13\n",
      "Iteration 50: Best Fitness (Total Distance) = 115.13\n",
      "Iteration 51: Best Fitness (Total Distance) = 115.13\n",
      "Iteration 52: Best Fitness (Total Distance) = 115.13\n",
      "Iteration 53: Best Fitness (Total Distance) = 115.13\n",
      "Iteration 54: Best Fitness (Total Distance) = 115.13\n",
      "Iteration 55: Best Fitness (Total Distance) = 115.13\n",
      "Iteration 56: Best Fitness (Total Distance) = 115.13\n",
      "Iteration 57: Best Fitness (Total Distance) = 115.13\n",
      "Iteration 58: Best Fitness (Total Distance) = 115.13\n",
      "Iteration 59: Best Fitness (Total Distance) = 115.13\n",
      "Iteration 60: Best Fitness (Total Distance) = 115.13\n",
      "Iteration 61: Best Fitness (Total Distance) = 115.13\n",
      "Iteration 62: Best Fitness (Total Distance) = 115.13\n",
      "Iteration 63: Best Fitness (Total Distance) = 115.13\n",
      "Iteration 64: Best Fitness (Total Distance) = 115.13\n",
      "Iteration 65: Best Fitness (Total Distance) = 115.13\n",
      "Iteration 66: Best Fitness (Total Distance) = 115.13\n",
      "Iteration 67: Best Fitness (Total Distance) = 115.13\n",
      "Iteration 68: Best Fitness (Total Distance) = 115.13\n",
      "Iteration 69: Best Fitness (Total Distance) = 115.13\n",
      "Iteration 70: Best Fitness (Total Distance) = 115.13\n",
      "Iteration 71: Best Fitness (Total Distance) = 115.13\n",
      "Iteration 72: Best Fitness (Total Distance) = 115.13\n",
      "Iteration 73: Best Fitness (Total Distance) = 115.13\n",
      "Iteration 74: Best Fitness (Total Distance) = 115.13\n",
      "Iteration 75: Best Fitness (Total Distance) = 115.13\n",
      "Iteration 76: Best Fitness (Total Distance) = 115.13\n",
      "Iteration 77: Best Fitness (Total Distance) = 115.13\n",
      "Iteration 78: Best Fitness (Total Distance) = 115.13\n",
      "Iteration 79: Best Fitness (Total Distance) = 115.13\n",
      "Iteration 80: Best Fitness (Total Distance) = 115.13\n",
      "Iteration 81: Best Fitness (Total Distance) = 115.13\n",
      "Iteration 82: Best Fitness (Total Distance) = 115.13\n",
      "Iteration 83: Best Fitness (Total Distance) = 115.13\n",
      "Iteration 84: Best Fitness (Total Distance) = 115.13\n",
      "Iteration 85: Best Fitness (Total Distance) = 115.13\n",
      "Iteration 86: Best Fitness (Total Distance) = 115.13\n",
      "Iteration 87: Best Fitness (Total Distance) = 115.13\n",
      "Iteration 88: Best Fitness (Total Distance) = 115.13\n",
      "Iteration 89: Best Fitness (Total Distance) = 115.13\n",
      "Iteration 90: Best Fitness (Total Distance) = 115.13\n",
      "Iteration 91: Best Fitness (Total Distance) = 115.13\n",
      "Iteration 92: Best Fitness (Total Distance) = 115.13\n",
      "Iteration 93: Best Fitness (Total Distance) = 115.13\n",
      "Iteration 94: Best Fitness (Total Distance) = 115.13\n",
      "Iteration 95: Best Fitness (Total Distance) = 115.13\n",
      "Iteration 96: Best Fitness (Total Distance) = 115.13\n",
      "Iteration 97: Best Fitness (Total Distance) = 115.13\n",
      "Iteration 98: Best Fitness (Total Distance) = 115.13\n",
      "Iteration 99: Best Fitness (Total Distance) = 115.13\n",
      "Iteration 100: Best Fitness (Total Distance) = 115.13\n"
     ]
    }
   ],
   "source": [
    "# PSO algorithm\n",
    "for iteration in range(max_iterations):\n",
    "    for i in range(num_particles):\n",
    "        # Update velocity\n",
    "        r1, r2 = np.random.rand(), np.random.rand()\n",
    "        velocities[i] = (w * velocities[i] +\n",
    "                         c1 * r1 * (p_best_positions[i] - particles[i]) +\n",
    "                         c2 * r2 * (g_best_position - particles[i]))\n",
    "        \n",
    "        # Update position (ensure valid permutations)\n",
    "        temp_position = particles[i] + velocities[i]\n",
    "        particles[i] = np.argsort(temp_position)  # Convert to a valid permutation\n",
    "        \n",
    "        # Evaluate fitness\n",
    "        fitness = evaluate_solution(particles[i])\n",
    "        \n",
    "        # Update personal best\n",
    "        if fitness < p_best_fitness[i]:\n",
    "            p_best_fitness[i] = fitness\n",
    "            p_best_positions[i] = particles[i]\n",
    "        \n",
    "        # Update global best\n",
    "        if fitness < g_best_fitness:\n",
    "            g_best_fitness = fitness\n",
    "            g_best_position = particles[i]\n",
    "    \n",
    "    # Print progress\n",
    "    print(f\"Iteration {iteration + 1}: Best Fitness (Total Distance) = {g_best_fitness:.2f}\")"
   ]
  },
  {
   "cell_type": "code",
   "execution_count": 26,
   "id": "2f45a130-d56f-43d1-868b-d083e30ffee2",
   "metadata": {},
   "outputs": [
    {
     "name": "stdout",
     "output_type": "stream",
     "text": [
      "\n",
      "Optimization Complete:\n",
      "Best Solution: [4 6 7 9 2 5 0 8 1 3]\n",
      "Minimum Total Distance: 115.13\n"
     ]
    }
   ],
   "source": [
    "# Output the result\n",
    "print(\"\\nOptimization Complete:\")\n",
    "print(f\"Best Solution: {g_best_position}\")\n",
    "print(f\"Minimum Total Distance: {g_best_fitness:.2f}\")"
   ]
  },
  {
   "cell_type": "code",
   "execution_count": 27,
   "id": "09b1f50b-76a2-4f13-8bd2-7a69afded55a",
   "metadata": {},
   "outputs": [
    {
     "data": {
      "image/png": "[encoded data removed]",
      "text/plain": [
       "<Figure size 800x600 with 1 Axes>"
      ]
     },
     "metadata": {},
     "output_type": "display_data"
    }
   ],
   "source": [
    "# Visualize the optimal routes\n",
    "def plot_routes(solution):\n",
    "    plt.figure(figsize=(8, 6))\n",
    "    plt.scatter(depot_location[0], depot_location[1], color=\"red\", s=100, label=\"Depot\")\n",
    "    plt.scatter(customer_locations[:, 0], customer_locations[:, 1], color=\"blue\", label=\"Customers\")\n",
    "    \n",
    "    current_load = 0\n",
    "    current_location = 0  # Depot index\n",
    "    route = []\n",
    "    \n",
    "    for customer in solution:\n",
    "        if current_load + customer_demands[customer] > vehicle_capacity:\n",
    "            # Plot the current route and return to depot\n",
    "            route.append(0)\n",
    "            route_coords = all_locations[route]\n",
    "            plt.plot(route_coords[:, 0], route_coords[:, 1], marker='o', linestyle=\"-\", label=f\"Route\")\n",
    "            route = [0]  # Start a new route\n",
    "            current_load = 0\n",
    "        \n",
    "        # Visit the customer\n",
    "        route.append(customer + 1)\n",
    "        current_load += customer_demands[customer]\n",
    "    \n",
    "    # Plot the last route and return to depot\n",
    "    route.append(0)\n",
    "    route_coords = all_locations[route]\n",
    "    plt.plot(route_coords[:, 0], route_coords[:, 1], marker='o', linestyle=\"-\", label=f\"Route\")\n",
    "    \n",
    "    plt.title(\"Optimal Routes\")\n",
    "    plt.xlabel(\"X Coordinate\")\n",
    "    plt.ylabel(\"Y Coordinate\")\n",
    "    plt.legend()\n",
    "    plt.grid(True)\n",
    "    plt.show()\n",
    "\n",
    "plot_routes(g_best_position)"
   ]
  },
  {
   "cell_type": "code",
   "execution_count": null,
   "id": "631f7dc1-5e64-42e9-b41c-3e7a2373c732",
   "metadata": {},
   "outputs": [],
   "source": []
  },
  {
   "cell_type": "code",
   "execution_count": null,
   "id": "99a0afe9-db9b-4763-86ad-eb3d5d617595",
   "metadata": {},
   "outputs": [],
   "source": []
  },
  {
   "cell_type": "code",
   "execution_count": null,
   "id": "8e45ab1e-5a26-4da1-a16d-1314f50c44b3",
   "metadata": {},
   "outputs": [],
   "source": []
  }
 ],
 "metadata": {
  "kernelspec": {
   "display_name": "Python 3 (ipykernel)",
   "language": "python",
   "name": "python3"
  },
  "language_info": {
   "codemirror_mode": {
    "name": "ipython",
    "version": 3
   },
   "file_extension": ".py",
   "mimetype": "text/x-python",
   "name": "python",
   "nbconvert_exporter": "python",
   "pygments_lexer": "ipython3",
   "version": "3.13.0"
  }
 },
 "nbformat": 4,
 "nbformat_minor": 5
}
