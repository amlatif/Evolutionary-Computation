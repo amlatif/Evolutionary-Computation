{
 "cells": [
  {
   "cell_type": "code",
   "execution_count": 1,
   "id": "d0bb156a-b4bc-4480-b59a-d324d1c87367",
   "metadata": {},
   "outputs": [],
   "source": [
    "import random\n",
    "import numpy as np\n",
    "import matplotlib.pyplot as plt"
   ]
  },
  {
   "cell_type": "code",
   "execution_count": 2,
   "id": "4ab951a6-b7cc-49d7-97c9-4436221970ae",
   "metadata": {},
   "outputs": [],
   "source": [
    "# Parameters\n",
    "NUM_CITIES = 10\n",
    "POPULATION_SIZE = 20\n",
    "GENERATIONS = 100\n",
    "MUTATION_RATE = 0.01"
   ]
  },
  {
   "cell_type": "code",
   "execution_count": 3,
   "id": "7c951bab-2e88-4a0b-b644-412d63c32366",
   "metadata": {},
   "outputs": [],
   "source": [
    "# Generate random cities\n",
    "cities = {i: (random.randint(0, 100), random.randint(0, 100)) for i in range(NUM_CITIES)}"
   ]
  },
  {
   "cell_type": "code",
   "execution_count": 4,
   "id": "3360b6b4-f95b-494e-8a33-d477940b14e9",
   "metadata": {},
   "outputs": [
    {
     "data": {
      "text/plain": [
       "{0: (61, 90),\n",
       " 1: (6, 51),\n",
       " 2: (71, 10),\n",
       " 3: (48, 2),\n",
       " 4: (18, 47),\n",
       " 5: (44, 68),\n",
       " 6: (4, 19),\n",
       " 7: (56, 77),\n",
       " 8: (0, 53),\n",
       " 9: (11, 18)}"
      ]
     },
     "execution_count": 4,
     "metadata": {},
     "output_type": "execute_result"
    }
   ],
   "source": [
    "cities"
   ]
  },
  {
   "cell_type": "code",
   "execution_count": 5,
   "id": "eb838b5e-8f0d-4b1e-bd92-bbd1efbf75af",
   "metadata": {},
   "outputs": [],
   "source": [
    "# Calculate distance between two cities\n",
    "def distance(city1, city2):\n",
    "    return np.sqrt((city1[0] - city2[0])**2 + (city1[1] - city2[1])**2)"
   ]
  },
  {
   "cell_type": "code",
   "execution_count": 6,
   "id": "c9fb0d10-42a3-404d-8539-a2f0ad3548ec",
   "metadata": {},
   "outputs": [
    {
     "data": {
      "text/plain": [
       "np.float64(67.42403132415029)"
      ]
     },
     "execution_count": 6,
     "metadata": {},
     "output_type": "execute_result"
    }
   ],
   "source": [
    "distance(cities[0], cities[1])"
   ]
  },
  {
   "cell_type": "code",
   "execution_count": 7,
   "id": "536d9c19-e9f5-4e97-871b-74d9f98efa6f",
   "metadata": {},
   "outputs": [],
   "source": [
    "# Initialize population\n",
    "def create_individual():\n",
    "    individual = list(cities.keys())\n",
    "    random.shuffle(individual)\n",
    "    return individual"
   ]
  },
  {
   "cell_type": "code",
   "execution_count": 8,
   "id": "2abeea04-c15f-40a9-b68f-9c213552fde6",
   "metadata": {},
   "outputs": [
    {
     "data": {
      "text/plain": [
       "[6, 4, 2, 5, 0, 1, 9, 8, 7, 3]"
      ]
     },
     "execution_count": 8,
     "metadata": {},
     "output_type": "execute_result"
    }
   ],
   "source": [
    "create_individual()"
   ]
  },
  {
   "cell_type": "code",
   "execution_count": 9,
   "id": "ad7f2094-9722-41e7-b0fa-74a86af70376",
   "metadata": {},
   "outputs": [
    {
     "data": {
      "text/plain": [
       "[2, 9, 0, 8, 3, 6, 1, 4, 5, 7]"
      ]
     },
     "execution_count": 9,
     "metadata": {},
     "output_type": "execute_result"
    }
   ],
   "source": [
    "create_individual()"
   ]
  },
  {
   "cell_type": "code",
   "execution_count": 10,
   "id": "84a3c20e-4cd6-46a0-8f8d-510a741b274a",
   "metadata": {},
   "outputs": [
    {
     "data": {
      "text/plain": [
       "[3, 1, 2, 7, 6, 4, 5, 8, 0, 9]"
      ]
     },
     "execution_count": 10,
     "metadata": {},
     "output_type": "execute_result"
    }
   ],
   "source": [
    "create_individual()"
   ]
  },
  {
   "cell_type": "code",
   "execution_count": 11,
   "id": "2e6c0d22-5c21-4c27-b77a-004823df361a",
   "metadata": {},
   "outputs": [],
   "source": [
    "def create_population():\n",
    "    return [create_individual() for _ in range(POPULATION_SIZE)]"
   ]
  },
  {
   "cell_type": "code",
   "execution_count": 12,
   "id": "a3f1cc97-a893-43fc-a498-f191e19ab309",
   "metadata": {},
   "outputs": [
    {
     "data": {
      "text/plain": [
       "[[7, 2, 6, 4, 3, 0, 5, 1, 8, 9],\n",
       " [3, 4, 7, 5, 9, 2, 8, 1, 6, 0],\n",
       " [8, 2, 5, 1, 4, 6, 9, 3, 0, 7],\n",
       " [9, 6, 8, 0, 1, 2, 7, 4, 3, 5],\n",
       " [1, 3, 9, 8, 6, 4, 7, 2, 0, 5],\n",
       " [8, 7, 2, 3, 4, 9, 0, 5, 1, 6],\n",
       " [0, 8, 3, 4, 2, 5, 1, 6, 7, 9],\n",
       " [3, 1, 2, 7, 5, 0, 6, 9, 4, 8],\n",
       " [6, 9, 0, 3, 2, 1, 7, 5, 8, 4],\n",
       " [4, 8, 9, 2, 1, 3, 6, 7, 0, 5],\n",
       " [6, 0, 3, 7, 4, 9, 2, 1, 8, 5],\n",
       " [1, 6, 7, 9, 3, 8, 5, 4, 0, 2],\n",
       " [9, 0, 4, 2, 8, 6, 3, 1, 5, 7],\n",
       " [7, 6, 1, 3, 9, 5, 4, 2, 0, 8],\n",
       " [7, 1, 6, 9, 8, 2, 4, 3, 0, 5],\n",
       " [4, 6, 2, 3, 1, 0, 7, 8, 5, 9],\n",
       " [6, 1, 7, 0, 4, 3, 8, 9, 2, 5],\n",
       " [1, 2, 6, 9, 3, 4, 5, 7, 0, 8],\n",
       " [6, 8, 5, 7, 0, 4, 1, 3, 9, 2],\n",
       " [6, 4, 7, 8, 9, 2, 3, 0, 5, 1]]"
      ]
     },
     "execution_count": 12,
     "metadata": {},
     "output_type": "execute_result"
    }
   ],
   "source": [
    "create_population()"
   ]
  },
  {
   "cell_type": "code",
   "execution_count": 15,
   "id": "24f837d8-cb92-4c46-a557-b6b3182aa5e1",
   "metadata": {},
   "outputs": [],
   "source": [
    "# Calculate total distance of a route\n",
    "def total_distance(route):\n",
    "    return sum(distance(cities[route[i]], cities[route[i+1]]) for i in range(len(route) - 1)) + distance(cities[route[-1]], cities[route[0]])"
   ]
  },
  {
   "cell_type": "code",
   "execution_count": 16,
   "id": "8b695e92-590e-46f1-8c29-fd88b0655392",
   "metadata": {},
   "outputs": [],
   "source": [
    "# Fitness function\n",
    "def fitness(individual):\n",
    "    return 1 / total_distance(individual)"
   ]
  },
  {
   "cell_type": "code",
   "execution_count": 17,
   "id": "20ed4c0c-67f6-415e-8ebf-8f75b9cfe8fa",
   "metadata": {},
   "outputs": [
    {
     "data": {
      "text/plain": [
       "np.float64(0.0020788092007118786)"
      ]
     },
     "execution_count": 17,
     "metadata": {},
     "output_type": "execute_result"
    }
   ],
   "source": [
    "fitness(create_individual())"
   ]
  },
  {
   "cell_type": "code",
   "execution_count": 36,
   "id": "7b7ae88a-ebe1-401e-8545-f88db64c78c0",
   "metadata": {},
   "outputs": [],
   "source": [
    "# Selection\n",
    "def select_parents(population, fitnesses):\n",
    "    total_fitness = sum(fitnesses)\n",
    "    probabilities = [f / total_fitness for f in fitnesses]\n",
    "    parents = random.choices(population, weights=probabilities, k=2)\n",
    "    return parents"
   ]
  },
  {
   "cell_type": "code",
   "execution_count": 39,
   "id": "974d57d8-8eb4-4e79-95af-abaa14584bb4",
   "metadata": {},
   "outputs": [
    {
     "data": {
      "text/plain": [
       "['A', 'D']"
      ]
     },
     "execution_count": 39,
     "metadata": {},
     "output_type": "execute_result"
    }
   ],
   "source": [
    "select_parents(['A','B','C','D','F'],[10,2,1,8,2])"
   ]
  },
  {
   "cell_type": "code",
   "execution_count": 22,
   "id": "96c5937b-95a0-48fd-8d91-c5c3dd734e0b",
   "metadata": {},
   "outputs": [
    {
     "data": {
      "text/plain": [
       "[0, 1, 4, 9, 8, 7, 6, 5, 3, 2]"
      ]
     },
     "execution_count": 22,
     "metadata": {},
     "output_type": "execute_result"
    }
   ],
   "source": [
    "# Crossover\n",
    "def crossover(parent1, parent2):\n",
    "    child = [None] * NUM_CITIES\n",
    "    start, end = sorted(random.sample(range(NUM_CITIES), 2))\n",
    "    child[start:end] = parent1[start:end]\n",
    "    for i in range(NUM_CITIES):\n",
    "        if child[i] is None:\n",
    "            for gene in parent2:\n",
    "                if gene not in child:\n",
    "                    child[i] = gene\n",
    "                    break\n",
    "    return child\n",
    "crossover([0, 1, 2, 3, 4, 5, 6, 7, 8, 9],[1, 4, 9, 8, 7, 6, 5, 3, 2 ,0])"
   ]
  },
  {
   "cell_type": "code",
   "execution_count": 23,
   "id": "44ae9d30-7fa1-49f8-9cbb-e7479ab8b86e",
   "metadata": {},
   "outputs": [],
   "source": [
    "# Crossover\n",
    "def crossover(parent1, parent2):\n",
    "    child = [None] * NUM_CITIES\n",
    "    start, end = sorted(random.sample(range(NUM_CITIES), 2))\n",
    "    print(start)\n",
    "    print(end)\n",
    "    child[start:end] = parent1[start:end]\n",
    "    print(child)\n",
    "    for i in range(NUM_CITIES):\n",
    "        if child[i] is None:\n",
    "            for gene in parent2:\n",
    "                if gene not in child:\n",
    "                    child[i] = gene\n",
    "                    break\n",
    "    return child "
   ]
  },
  {
   "cell_type": "code",
   "execution_count": 24,
   "id": "69e09bf8-e8c8-42ee-9699-48c51633ab5c",
   "metadata": {},
   "outputs": [
    {
     "name": "stdout",
     "output_type": "stream",
     "text": [
      "1\n",
      "4\n",
      "[None, 1, 2, 3, None, None, None, None, None, None]\n"
     ]
    },
    {
     "data": {
      "text/plain": [
       "[9, 1, 2, 3, 8, 7, 6, 5, 4, 0]"
      ]
     },
     "execution_count": 24,
     "metadata": {},
     "output_type": "execute_result"
    }
   ],
   "source": [
    "crossover([0,1,2,3,4,5,6,7,8,9],[9,8,7,6,5,4,3,2,1,0])"
   ]
  },
  {
   "cell_type": "code",
   "execution_count": 25,
   "id": "cab2e3ae-13e5-40e4-9ee6-ca54ac0b6f11",
   "metadata": {},
   "outputs": [
    {
     "data": {
      "text/plain": [
       "([9, 8, 7, 3, 6, 5, 4, 2, 1, 0], [0, 8, 7, 1, 2, 3, 4, 5, 6, 9])"
      ]
     },
     "execution_count": 25,
     "metadata": {},
     "output_type": "execute_result"
    }
   ],
   "source": [
    "# Crossover\n",
    "def crossover2(parent1, parent2):\n",
    "    child1 = [None] * NUM_CITIES\n",
    "    child2 = [None] * NUM_CITIES\n",
    "    start, end = sorted(random.sample(range(NUM_CITIES), 2))\n",
    "    child1[start:end] = parent1[start:end]\n",
    "    # First parent\n",
    "    for i in range(NUM_CITIES):\n",
    "        if child1[i] is None:\n",
    "            for gene in parent2:\n",
    "                if gene not in child1:\n",
    "                    child1[i] = gene\n",
    "                    break\n",
    "    # Second Parent\n",
    "    start, end = sorted(random.sample(range(NUM_CITIES), 2))\n",
    "    child2[start:end] = parent2[start:end]\n",
    "    for i in range(NUM_CITIES):\n",
    "        if child2[i] is None:\n",
    "            for gene in parent1:\n",
    "                if gene not in child2:\n",
    "                    child2[i] = gene\n",
    "                    break\n",
    "    return child1,child2\n",
    "crossover2([0,1,2,3,4,5,6,7,8,9],[9,8,7,6,5,4,3,2,1,0])"
   ]
  },
  {
   "cell_type": "code",
   "execution_count": 26,
   "id": "ebf7b184-99e8-4550-87b9-89bc0d836526",
   "metadata": {},
   "outputs": [],
   "source": [
    "# Crossover\n",
    "def crossover(parent1, parent2):\n",
    "    child = [None] * NUM_CITIES\n",
    "    start, end = sorted(random.sample(range(NUM_CITIES), 2))\n",
    "    child[start:end] = parent1[start:end]\n",
    "    for i in range(NUM_CITIES):\n",
    "        if child[i] is None:\n",
    "            for gene in parent2:\n",
    "                if gene not in child:\n",
    "                    child[i] = gene\n",
    "                    break\n",
    "    return child"
   ]
  },
  {
   "cell_type": "code",
   "execution_count": 29,
   "id": "0c75691b-c9a0-4708-a0f8-99ff19c393a2",
   "metadata": {},
   "outputs": [
    {
     "data": {
      "text/plain": [
       "[0, 1, 2, 3, 4, 7, 6, 5, 8, 9]"
      ]
     },
     "execution_count": 29,
     "metadata": {},
     "output_type": "execute_result"
    }
   ],
   "source": [
    "# Mutation\n",
    "def mutate(individual):\n",
    "    for i in range(len(individual)):\n",
    "        if random.random() < MUTATION_RATE:\n",
    "            j = random.randint(0, len(individual) - 1)\n",
    "            individual[i], individual[j] = individual[j], individual[i]\n",
    "    return individual\n",
    "    \n",
    "mutate(list(range(10)))"
   ]
  },
  {
   "cell_type": "code",
   "execution_count": 33,
   "id": "a5bccc74-9008-49fe-8f48-78323884839b",
   "metadata": {},
   "outputs": [],
   "source": [
    "# Genetic Algorithm\n",
    "def genetic_algorithm():\n",
    "    population = create_population()\n",
    "    for generation in range(GENERATIONS):\n",
    "        fitnesses = [fitness(individual) for individual in population]\n",
    "        new_population = []\n",
    "        for _ in range(POPULATION_SIZE // 2):\n",
    "            parent1, parent2 = select_parents(population, fitnesses)\n",
    "            child1 = crossover(parent1, parent2)\n",
    "            child2 = crossover(parent2, parent1)\n",
    "            new_population.extend([mutate(child1), mutate(child2)])\n",
    "        population = new_population\n",
    "        best_individual = min(population, key=total_distance)\n",
    "        print(f\"Generation {generation}: Best Distance = {total_distance(best_individual)}\")\n",
    "    return best_individual"
   ]
  },
  {
   "cell_type": "code",
   "execution_count": 34,
   "id": "a1ab46b3-dd6a-4ae2-8514-48b43debc421",
   "metadata": {},
   "outputs": [],
   "source": [
    "# Function to draw cities and the best route\n",
    "def draw_cities_and_route(cities, best_route):\n",
    "    x = [cities[i][0] for i in range(NUM_CITIES)]\n",
    "    y = [cities[i][1] for i in range(NUM_CITIES)]\n",
    "    \n",
    "    plt.figure(figsize=(10, 6))\n",
    "    plt.scatter(x, y, c='red', marker='o')\n",
    "    \n",
    "    # Draw the best route\n",
    "    for i in range(len(best_route)):\n",
    "        start_city = cities[best_route[i]]\n",
    "        end_city = cities[best_route[(i + 1) % len(best_route)]]\n",
    "        plt.plot([start_city[0], end_city[0]], [start_city[1], end_city[1]], 'b-')\n",
    "    \n",
    "    # Annotate cities with their indices\n",
    "    for i in range(NUM_CITIES):\n",
    "        plt.text(cities[i][0], cities[i][1], str(i), fontsize=12, ha='right')\n",
    "    \n",
    "    plt.title(\"TSP - Best Route Found by Genetic Algorithm\")\n",
    "    plt.xlabel(\"X Coordinate\")\n",
    "    plt.ylabel(\"Y Coordinate\")\n",
    "    plt.grid(True)\n",
    "    plt.show()"
   ]
  },
  {
   "cell_type": "code",
   "execution_count": 40,
   "id": "1c99faba-c2a8-40df-8ba0-068379cae2d3",
   "metadata": {},
   "outputs": [
    {
     "name": "stdout",
     "output_type": "stream",
     "text": [
      "Generation 0: Best Distance = 374.7184080221332\n",
      "Generation 1: Best Distance = 374.575300273556\n",
      "Generation 2: Best Distance = 322.77683850205665\n",
      "Generation 3: Best Distance = 380.95002460414986\n",
      "Generation 4: Best Distance = 438.08967541286853\n",
      "Generation 5: Best Distance = 390.25012137427115\n",
      "Generation 6: Best Distance = 390.25012137427115\n",
      "Generation 7: Best Distance = 359.2717453402701\n",
      "Generation 8: Best Distance = 355.61636358597457\n",
      "Generation 9: Best Distance = 368.119882570704\n",
      "Generation 10: Best Distance = 356.78372363583685\n",
      "Generation 11: Best Distance = 388.0055009163451\n",
      "Generation 12: Best Distance = 432.8813237335655\n",
      "Generation 13: Best Distance = 405.35315796709614\n",
      "Generation 14: Best Distance = 405.35315796709614\n",
      "Generation 15: Best Distance = 365.22324144014806\n",
      "Generation 16: Best Distance = 375.96113258007205\n",
      "Generation 17: Best Distance = 343.72286270674766\n",
      "Generation 18: Best Distance = 347.35994868691625\n",
      "Generation 19: Best Distance = 373.5734249468662\n",
      "Generation 20: Best Distance = 297.9201878242889\n",
      "Generation 21: Best Distance = 287.97023307873934\n",
      "Generation 22: Best Distance = 297.9201878242889\n",
      "Generation 23: Best Distance = 320.2844256968553\n",
      "Generation 24: Best Distance = 389.38029470501175\n",
      "Generation 25: Best Distance = 379.7528666791181\n",
      "Generation 26: Best Distance = 366.27764199524785\n",
      "Generation 27: Best Distance = 379.85611626363476\n",
      "Generation 28: Best Distance = 360.8218159985673\n",
      "Generation 29: Best Distance = 379.85611626363476\n",
      "Generation 30: Best Distance = 376.5273710737665\n",
      "Generation 31: Best Distance = 356.7534635538709\n",
      "Generation 32: Best Distance = 371.17832218411826\n",
      "Generation 33: Best Distance = 323.42996312002884\n",
      "Generation 34: Best Distance = 323.42996312002884\n",
      "Generation 35: Best Distance = 367.252851161033\n",
      "Generation 36: Best Distance = 367.252851161033\n",
      "Generation 37: Best Distance = 351.0509049540697\n",
      "Generation 38: Best Distance = 345.8914097836907\n",
      "Generation 39: Best Distance = 345.05253414267304\n",
      "Generation 40: Best Distance = 340.9000252758209\n",
      "Generation 41: Best Distance = 340.9000252758209\n",
      "Generation 42: Best Distance = 340.9000252758209\n",
      "Generation 43: Best Distance = 370.14363918238246\n",
      "Generation 44: Best Distance = 390.0214809116433\n",
      "Generation 45: Best Distance = 346.338242887194\n",
      "Generation 46: Best Distance = 359.1147777144901\n",
      "Generation 47: Best Distance = 359.1147777144901\n",
      "Generation 48: Best Distance = 359.1147777144901\n",
      "Generation 49: Best Distance = 359.1147777144901\n",
      "Generation 50: Best Distance = 355.2160190438439\n",
      "Generation 51: Best Distance = 355.2160190438439\n",
      "Generation 52: Best Distance = 369.25025112478085\n",
      "Generation 53: Best Distance = 369.17666835817676\n",
      "Generation 54: Best Distance = 371.095593571008\n",
      "Generation 55: Best Distance = 354.6623228805733\n",
      "Generation 56: Best Distance = 384.99016572045286\n",
      "Generation 57: Best Distance = 396.6423820720451\n",
      "Generation 58: Best Distance = 396.6423820720451\n",
      "Generation 59: Best Distance = 290.4009560908887\n",
      "Generation 60: Best Distance = 290.4009560908887\n",
      "Generation 61: Best Distance = 373.9732493522459\n",
      "Generation 62: Best Distance = 378.3054835375463\n",
      "Generation 63: Best Distance = 378.3054835375463\n",
      "Generation 64: Best Distance = 403.579978853741\n",
      "Generation 65: Best Distance = 390.5548407885025\n",
      "Generation 66: Best Distance = 405.1259296816025\n",
      "Generation 67: Best Distance = 395.7998567871983\n",
      "Generation 68: Best Distance = 429.0366438219821\n",
      "Generation 69: Best Distance = 429.0366438219821\n",
      "Generation 70: Best Distance = 421.77823404426954\n",
      "Generation 71: Best Distance = 457.818567857049\n",
      "Generation 72: Best Distance = 437.1726254489704\n",
      "Generation 73: Best Distance = 469.67492656371115\n",
      "Generation 74: Best Distance = 350.12356379945686\n",
      "Generation 75: Best Distance = 398.65604718816155\n",
      "Generation 76: Best Distance = 387.89352616259214\n",
      "Generation 77: Best Distance = 387.89352616259214\n",
      "Generation 78: Best Distance = 400.1900210589762\n",
      "Generation 79: Best Distance = 415.10505095139786\n",
      "Generation 80: Best Distance = 385.4764869924891\n",
      "Generation 81: Best Distance = 359.7503623441489\n",
      "Generation 82: Best Distance = 359.7503623441489\n",
      "Generation 83: Best Distance = 385.4764869924891\n",
      "Generation 84: Best Distance = 356.712150185111\n",
      "Generation 85: Best Distance = 359.7503623441489\n",
      "Generation 86: Best Distance = 359.7503623441489\n",
      "Generation 87: Best Distance = 347.47145467545363\n",
      "Generation 88: Best Distance = 359.7503623441489\n",
      "Generation 89: Best Distance = 356.707956620352\n",
      "Generation 90: Best Distance = 326.5030713873823\n",
      "Generation 91: Best Distance = 326.5030713873823\n",
      "Generation 92: Best Distance = 352.33955070563263\n",
      "Generation 93: Best Distance = 331.154533058747\n",
      "Generation 94: Best Distance = 326.5030713873823\n",
      "Generation 95: Best Distance = 349.02672275237785\n",
      "Generation 96: Best Distance = 348.53933381352624\n",
      "Generation 97: Best Distance = 348.53933381352624\n",
      "Generation 98: Best Distance = 351.98915421589487\n",
      "Generation 99: Best Distance = 319.77080344138915\n",
      "Best Route: [5, 7, 8, 4, 1, 6, 9, 3, 2, 0]\n",
      "Best Distance: 319.77080344138915\n"
     ]
    }
   ],
   "source": [
    "# Run the algorithm\n",
    "best_route = genetic_algorithm()\n",
    "print(\"Best Route:\", best_route)\n",
    "print(\"Best Distance:\", total_distance(best_route))"
   ]
  },
  {
   "cell_type": "code",
   "execution_count": 41,
   "id": "3f8329ca-c43b-48cb-97fb-cf78f1ed5105",
   "metadata": {},
   "outputs": [
    {
     "data": {
      "image/png": "[encoded data removed]",
      "text/plain": [
       "<Figure size 1000x600 with 1 Axes>"
      ]
     },
     "metadata": {},
     "output_type": "display_data"
    }
   ],
   "source": [
    "# Draw cities and the best route\n",
    "draw_cities_and_route(cities, best_route)"
   ]
  },
  {
   "cell_type": "code",
   "execution_count": 42,
   "id": "b8349729-dd29-4f45-bfd1-5ecccbc1ddc2",
   "metadata": {},
   "outputs": [],
   "source": [
    "cities = {0 : (0,0),\n",
    "          1 : (100,0),\n",
    "          2 : (100,100),\n",
    "          3 : (0,100)}\n",
    "NUM_CITIES = len(cities)"
   ]
  },
  {
   "cell_type": "code",
   "execution_count": 43,
   "id": "f7ec629a-bde2-49d3-ae5e-eb0094d0bdfe",
   "metadata": {},
   "outputs": [
    {
     "name": "stdout",
     "output_type": "stream",
     "text": [
      "Generation 0: Best Distance = 400.0\n",
      "Generation 1: Best Distance = 400.0\n",
      "Generation 2: Best Distance = 400.0\n",
      "Generation 3: Best Distance = 400.0\n",
      "Generation 4: Best Distance = 400.0\n",
      "Generation 5: Best Distance = 400.0\n",
      "Generation 6: Best Distance = 400.0\n",
      "Generation 7: Best Distance = 400.0\n",
      "Generation 8: Best Distance = 400.0\n",
      "Generation 9: Best Distance = 400.0\n",
      "Generation 10: Best Distance = 400.0\n",
      "Generation 11: Best Distance = 400.0\n",
      "Generation 12: Best Distance = 400.0\n",
      "Generation 13: Best Distance = 400.0\n",
      "Generation 14: Best Distance = 400.0\n",
      "Generation 15: Best Distance = 400.0\n",
      "Generation 16: Best Distance = 400.0\n",
      "Generation 17: Best Distance = 400.0\n",
      "Generation 18: Best Distance = 400.0\n",
      "Generation 19: Best Distance = 400.0\n",
      "Generation 20: Best Distance = 400.0\n",
      "Generation 21: Best Distance = 400.0\n",
      "Generation 22: Best Distance = 400.0\n",
      "Generation 23: Best Distance = 400.0\n",
      "Generation 24: Best Distance = 400.0\n",
      "Generation 25: Best Distance = 400.0\n",
      "Generation 26: Best Distance = 400.0\n",
      "Generation 27: Best Distance = 400.0\n",
      "Generation 28: Best Distance = 400.0\n",
      "Generation 29: Best Distance = 400.0\n",
      "Generation 30: Best Distance = 400.0\n",
      "Generation 31: Best Distance = 400.0\n",
      "Generation 32: Best Distance = 400.0\n",
      "Generation 33: Best Distance = 400.0\n",
      "Generation 34: Best Distance = 400.0\n",
      "Generation 35: Best Distance = 400.0\n",
      "Generation 36: Best Distance = 400.0\n",
      "Generation 37: Best Distance = 400.0\n",
      "Generation 38: Best Distance = 400.0\n",
      "Generation 39: Best Distance = 400.0\n",
      "Generation 40: Best Distance = 400.0\n",
      "Generation 41: Best Distance = 400.0\n",
      "Generation 42: Best Distance = 400.0\n",
      "Generation 43: Best Distance = 400.0\n",
      "Generation 44: Best Distance = 400.0\n",
      "Generation 45: Best Distance = 400.0\n",
      "Generation 46: Best Distance = 400.0\n",
      "Generation 47: Best Distance = 400.0\n",
      "Generation 48: Best Distance = 400.0\n",
      "Generation 49: Best Distance = 400.0\n",
      "Generation 50: Best Distance = 400.0\n",
      "Generation 51: Best Distance = 400.0\n",
      "Generation 52: Best Distance = 400.0\n",
      "Generation 53: Best Distance = 400.0\n",
      "Generation 54: Best Distance = 400.0\n",
      "Generation 55: Best Distance = 400.0\n",
      "Generation 56: Best Distance = 400.0\n",
      "Generation 57: Best Distance = 400.0\n",
      "Generation 58: Best Distance = 400.0\n",
      "Generation 59: Best Distance = 400.0\n",
      "Generation 60: Best Distance = 400.0\n",
      "Generation 61: Best Distance = 400.0\n",
      "Generation 62: Best Distance = 400.0\n",
      "Generation 63: Best Distance = 400.0\n",
      "Generation 64: Best Distance = 400.0\n",
      "Generation 65: Best Distance = 400.0\n",
      "Generation 66: Best Distance = 400.0\n",
      "Generation 67: Best Distance = 400.0\n",
      "Generation 68: Best Distance = 400.0\n",
      "Generation 69: Best Distance = 400.0\n",
      "Generation 70: Best Distance = 400.0\n",
      "Generation 71: Best Distance = 400.0\n",
      "Generation 72: Best Distance = 400.0\n",
      "Generation 73: Best Distance = 400.0\n",
      "Generation 74: Best Distance = 400.0\n",
      "Generation 75: Best Distance = 400.0\n",
      "Generation 76: Best Distance = 400.0\n",
      "Generation 77: Best Distance = 400.0\n",
      "Generation 78: Best Distance = 400.0\n",
      "Generation 79: Best Distance = 400.0\n",
      "Generation 80: Best Distance = 400.0\n",
      "Generation 81: Best Distance = 400.0\n",
      "Generation 82: Best Distance = 400.0\n",
      "Generation 83: Best Distance = 400.0\n",
      "Generation 84: Best Distance = 400.0\n",
      "Generation 85: Best Distance = 400.0\n",
      "Generation 86: Best Distance = 400.0\n",
      "Generation 87: Best Distance = 400.0\n",
      "Generation 88: Best Distance = 400.0\n",
      "Generation 89: Best Distance = 400.0\n",
      "Generation 90: Best Distance = 400.0\n",
      "Generation 91: Best Distance = 400.0\n",
      "Generation 92: Best Distance = 400.0\n",
      "Generation 93: Best Distance = 400.0\n",
      "Generation 94: Best Distance = 400.0\n",
      "Generation 95: Best Distance = 400.0\n",
      "Generation 96: Best Distance = 400.0\n",
      "Generation 97: Best Distance = 400.0\n",
      "Generation 98: Best Distance = 400.0\n",
      "Generation 99: Best Distance = 400.0\n",
      "Best Route: [2, 3, 0, 1]\n",
      "Best Distance: 400.0\n"
     ]
    }
   ],
   "source": [
    "# Run the algorithm\n",
    "best_route = genetic_algorithm()\n",
    "print(\"Best Route:\", best_route)\n",
    "print(\"Best Distance:\", total_distance(best_route))"
   ]
  },
  {
   "cell_type": "code",
   "execution_count": 44,
   "id": "049a45a3-53b1-422d-ab42-4fef9b373ce6",
   "metadata": {},
   "outputs": [
    {
     "data": {
      "image/png": "[encoded data removed]",
      "text/plain": [
       "<Figure size 1000x600 with 1 Axes>"
      ]
     },
     "metadata": {},
     "output_type": "display_data"
    }
   ],
   "source": [
    "# Draw cities and the best route\n",
    "draw_cities_and_route(cities, best_route)"
   ]
  }
 ],
 "metadata": {
  "kernelspec": {
   "display_name": "Python 3 (ipykernel)",
   "language": "python",
   "name": "python3"
  },
  "language_info": {
   "codemirror_mode": {
    "name": "ipython",
    "version": 3
   },
   "file_extension": ".py",
   "mimetype": "text/x-python",
   "name": "python",
   "nbconvert_exporter": "python",
   "pygments_lexer": "ipython3",
   "version": "3.13.0"
  }
 },
 "nbformat": 4,
 "nbformat_minor": 5
}
