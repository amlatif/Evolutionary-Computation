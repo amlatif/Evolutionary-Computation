{
 "cells": [
  {
   "cell_type": "code",
   "execution_count": 1,
   "id": "0da218af-5d49-483d-8904-3fe5d0ed2432",
   "metadata": {},
   "outputs": [],
   "source": [
    "import random"
   ]
  },
  {
   "cell_type": "code",
   "execution_count": 2,
   "id": "a3ee9229-4115-487e-bc2b-a507a9bc8747",
   "metadata": {},
   "outputs": [],
   "source": [
    "# پارامترهای الگوریتم ژنتیک\n",
    "POPULATION_SIZE = 100\n",
    "MUTATION_RATE = 0.1\n",
    "MAX_GENERATIONS = 1000"
   ]
  },
  {
   "cell_type": "code",
   "execution_count": 3,
   "id": "ae4e76b9-cc3e-4832-a68a-ecf109b1cba0",
   "metadata": {},
   "outputs": [],
   "source": [
    "# اندازه صفحه شطرنج\n",
    "BOARD_SIZE = 8"
   ]
  },
  {
   "cell_type": "code",
   "execution_count": 4,
   "id": "3afd8e24-9aa4-42d3-90a2-88b12bccf5ed",
   "metadata": {},
   "outputs": [],
   "source": [
    "def create_individual():\n",
    "    \"\"\"یک فرد جدید ایجاد می‌کند که نشان‌دهنده یک چیدمان وزیرها است.\"\"\"\n",
    "    return random.sample(range(BOARD_SIZE), BOARD_SIZE)"
   ]
  },
  {
   "cell_type": "code",
   "execution_count": 5,
   "id": "ea3124c7-02b8-45d0-bbb3-ac4d6a036b48",
   "metadata": {},
   "outputs": [
    {
     "data": {
      "text/plain": [
       "[3, 7, 1, 2, 6, 0, 4, 5]"
      ]
     },
     "execution_count": 5,
     "metadata": {},
     "output_type": "execute_result"
    }
   ],
   "source": [
    "create_individual()"
   ]
  },
  {
   "cell_type": "code",
   "execution_count": 6,
   "id": "770c341f-22f6-4b04-97af-713726ee1619",
   "metadata": {},
   "outputs": [
    {
     "data": {
      "text/plain": [
       "[7, 1, 8]"
      ]
     },
     "execution_count": 6,
     "metadata": {},
     "output_type": "execute_result"
    }
   ],
   "source": [
    "random.sample(range(10),3)"
   ]
  },
  {
   "cell_type": "code",
   "execution_count": 7,
   "id": "a0b17df7-0551-4d81-bafa-4134616b7803",
   "metadata": {},
   "outputs": [],
   "source": [
    "def create_population():\n",
    "    \"\"\"یک جمعیت اولیه از افراد ایجاد می‌کند.\"\"\"\n",
    "    return [create_individual() for _ in range(POPULATION_SIZE)]"
   ]
  },
  {
   "cell_type": "code",
   "execution_count": 8,
   "id": "ae66aca3-19e9-4392-a785-33f189f6f542",
   "metadata": {},
   "outputs": [
    {
     "data": {
      "text/plain": [
       "[[6, 2, 3, 0, 4, 7, 5, 1],\n",
       " [2, 4, 1, 5, 0, 7, 3, 6],\n",
       " [1, 5, 0, 3, 2, 7, 4, 6],\n",
       " [5, 6, 0, 2, 7, 3, 1, 4],\n",
       " [5, 1, 6, 2, 7, 4, 0, 3],\n",
       " [3, 4, 5, 7, 6, 0, 2, 1],\n",
       " [3, 7, 2, 6, 1, 4, 0, 5],\n",
       " [4, 2, 3, 7, 6, 1, 0, 5],\n",
       " [7, 2, 1, 0, 3, 6, 4, 5],\n",
       " [0, 2, 4, 6, 3, 1, 7, 5],\n",
       " [0, 1, 7, 6, 5, 3, 4, 2],\n",
       " [4, 7, 2, 0, 1, 6, 3, 5],\n",
       " [0, 7, 6, 1, 5, 3, 4, 2],\n",
       " [7, 0, 3, 2, 5, 6, 1, 4],\n",
       " [7, 3, 6, 2, 4, 5, 1, 0],\n",
       " [1, 2, 6, 3, 4, 7, 0, 5],\n",
       " [6, 3, 7, 5, 0, 1, 2, 4],\n",
       " [0, 3, 4, 2, 6, 7, 5, 1],\n",
       " [2, 6, 0, 7, 3, 1, 4, 5],\n",
       " [4, 7, 5, 3, 1, 6, 0, 2],\n",
       " [5, 2, 4, 3, 7, 6, 1, 0],\n",
       " [3, 4, 0, 7, 2, 1, 5, 6],\n",
       " [0, 6, 1, 7, 5, 2, 3, 4],\n",
       " [5, 1, 4, 7, 6, 0, 2, 3],\n",
       " [7, 5, 6, 1, 4, 3, 0, 2],\n",
       " [5, 3, 4, 1, 0, 7, 6, 2],\n",
       " [3, 0, 5, 1, 6, 2, 7, 4],\n",
       " [5, 0, 6, 2, 3, 7, 1, 4],\n",
       " [7, 0, 5, 4, 6, 3, 1, 2],\n",
       " [7, 2, 1, 0, 6, 3, 4, 5],\n",
       " [2, 4, 7, 5, 0, 3, 6, 1],\n",
       " [0, 6, 1, 7, 2, 4, 3, 5],\n",
       " [4, 1, 2, 0, 6, 7, 5, 3],\n",
       " [5, 1, 6, 4, 2, 7, 0, 3],\n",
       " [6, 7, 0, 2, 1, 4, 3, 5],\n",
       " [6, 5, 2, 0, 1, 4, 3, 7],\n",
       " [0, 1, 7, 3, 6, 2, 4, 5],\n",
       " [2, 5, 6, 0, 3, 1, 7, 4],\n",
       " [1, 6, 0, 2, 4, 5, 7, 3],\n",
       " [5, 0, 4, 6, 3, 1, 7, 2],\n",
       " [7, 5, 4, 1, 2, 3, 0, 6],\n",
       " [7, 6, 1, 3, 0, 2, 5, 4],\n",
       " [3, 7, 2, 4, 6, 5, 0, 1],\n",
       " [1, 3, 0, 7, 2, 4, 5, 6],\n",
       " [2, 3, 6, 5, 0, 7, 4, 1],\n",
       " [2, 7, 0, 3, 4, 1, 5, 6],\n",
       " [5, 3, 2, 7, 0, 1, 6, 4],\n",
       " [1, 5, 2, 6, 3, 4, 7, 0],\n",
       " [6, 7, 1, 3, 4, 2, 0, 5],\n",
       " [0, 5, 6, 7, 1, 3, 2, 4],\n",
       " [2, 6, 7, 5, 3, 0, 4, 1],\n",
       " [7, 3, 1, 0, 4, 2, 6, 5],\n",
       " [7, 0, 1, 2, 4, 3, 5, 6],\n",
       " [0, 7, 2, 1, 5, 3, 4, 6],\n",
       " [0, 7, 6, 4, 2, 5, 1, 3],\n",
       " [7, 4, 6, 2, 5, 3, 0, 1],\n",
       " [2, 5, 7, 3, 1, 0, 6, 4],\n",
       " [2, 1, 3, 7, 0, 5, 4, 6],\n",
       " [1, 6, 5, 7, 0, 4, 2, 3],\n",
       " [3, 5, 1, 0, 2, 6, 4, 7],\n",
       " [5, 2, 3, 4, 7, 0, 6, 1],\n",
       " [2, 6, 4, 0, 7, 1, 5, 3],\n",
       " [5, 2, 0, 3, 4, 6, 1, 7],\n",
       " [4, 3, 0, 7, 1, 6, 2, 5],\n",
       " [0, 4, 2, 6, 7, 3, 1, 5],\n",
       " [5, 6, 4, 1, 3, 2, 0, 7],\n",
       " [1, 4, 5, 6, 7, 2, 3, 0],\n",
       " [1, 6, 0, 4, 7, 5, 2, 3],\n",
       " [4, 5, 0, 3, 6, 1, 7, 2],\n",
       " [6, 1, 3, 5, 2, 4, 0, 7],\n",
       " [0, 1, 2, 3, 6, 4, 5, 7],\n",
       " [4, 2, 0, 3, 7, 1, 6, 5],\n",
       " [7, 3, 4, 0, 5, 2, 6, 1],\n",
       " [4, 3, 0, 5, 6, 7, 2, 1],\n",
       " [0, 1, 7, 5, 3, 6, 2, 4],\n",
       " [7, 3, 6, 4, 1, 2, 5, 0],\n",
       " [0, 6, 7, 3, 5, 4, 1, 2],\n",
       " [0, 6, 5, 4, 2, 7, 1, 3],\n",
       " [5, 3, 6, 2, 0, 1, 7, 4],\n",
       " [1, 4, 0, 3, 7, 2, 6, 5],\n",
       " [0, 3, 6, 2, 1, 5, 4, 7],\n",
       " [7, 2, 0, 5, 4, 3, 6, 1],\n",
       " [4, 3, 2, 0, 7, 6, 1, 5],\n",
       " [6, 4, 0, 1, 7, 2, 5, 3],\n",
       " [3, 0, 6, 1, 7, 4, 5, 2],\n",
       " [3, 1, 7, 0, 6, 2, 4, 5],\n",
       " [1, 4, 0, 2, 3, 7, 5, 6],\n",
       " [0, 3, 2, 4, 1, 5, 7, 6],\n",
       " [4, 5, 7, 0, 1, 3, 6, 2],\n",
       " [7, 1, 0, 3, 4, 6, 2, 5],\n",
       " [0, 4, 6, 1, 2, 7, 3, 5],\n",
       " [4, 2, 7, 1, 0, 5, 3, 6],\n",
       " [6, 5, 1, 2, 7, 0, 4, 3],\n",
       " [2, 0, 3, 6, 5, 7, 4, 1],\n",
       " [2, 7, 4, 1, 6, 3, 5, 0],\n",
       " [2, 7, 5, 3, 4, 6, 1, 0],\n",
       " [6, 1, 2, 4, 7, 0, 5, 3],\n",
       " [0, 5, 2, 1, 6, 3, 7, 4],\n",
       " [5, 2, 0, 7, 3, 1, 6, 4],\n",
       " [1, 3, 4, 2, 5, 0, 6, 7]]"
      ]
     },
     "execution_count": 8,
     "metadata": {},
     "output_type": "execute_result"
    }
   ],
   "source": [
    "create_population()"
   ]
  },
  {
   "cell_type": "code",
   "execution_count": 9,
   "id": "648c9466-6dc4-45a7-b949-96813c8eee0d",
   "metadata": {},
   "outputs": [],
   "source": [
    "def fitness(individual):\n",
    "    \"\"\"تابع برازندگی را محاسبه می‌کند. هر چه تعداد تهدیدها کمتر باشد، برازندگی بیشتر است.\"\"\"\n",
    "    clashes = 0\n",
    "    for i in range(len(individual)):\n",
    "        for j in range(i + 1, len(individual)):\n",
    "            if abs(individual[i] - individual[j]) == abs(i - j):\n",
    "                clashes += 1\n",
    "    return clashes  "
   ]
  },
  {
   "cell_type": "code",
   "execution_count": 10,
   "id": "f9339f92",
   "metadata": {},
   "outputs": [
    {
     "data": {
      "text/plain": [
       "8"
      ]
     },
     "execution_count": 10,
     "metadata": {},
     "output_type": "execute_result"
    }
   ],
   "source": [
    "fitness([2,0,3,1,5,4,7,6])"
   ]
  },
  {
   "cell_type": "code",
   "execution_count": 11,
   "id": "aea652a7-6c30-482f-b582-29329b8d5948",
   "metadata": {},
   "outputs": [
    {
     "data": {
      "text/plain": [
       "28"
      ]
     },
     "execution_count": 11,
     "metadata": {},
     "output_type": "execute_result"
    }
   ],
   "source": [
    "fitness([0,1,2,3,4,5,6,7])"
   ]
  },
  {
   "cell_type": "code",
   "execution_count": 12,
   "id": "5217e429",
   "metadata": {},
   "outputs": [],
   "source": [
    "import numpy as np"
   ]
  },
  {
   "cell_type": "code",
   "execution_count": 13,
   "id": "976ff547-2a14-457a-b5e0-17e209c008a8",
   "metadata": {},
   "outputs": [],
   "source": [
    "def select_parents(population):\n",
    "    \"\"\"انتخاب والدین با استفاده از روش چرخ رولت.\"\"\"\n",
    "    total_fitness = sum(fitness(individual) for individual in population)\n",
    "    selection_probs = [fitness(individual) / total_fitness for individual in population]\n",
    "    return random.choices(population, weights=list(1 - np.array(selection_probs)), k=2)"
   ]
  },
  {
   "cell_type": "code",
   "execution_count": 14,
   "id": "020e402d-929c-4a28-8e9b-394979619b36",
   "metadata": {},
   "outputs": [
    {
     "data": {
      "text/plain": [
       "[2, 2]"
      ]
     },
     "execution_count": 14,
     "metadata": {},
     "output_type": "execute_result"
    }
   ],
   "source": [
    "import numpy as np\n",
    "vec=[1,2,3]\n",
    "P=[0.0, 0.8, 0]\n",
    "random.choices(vec,P, k=2)"
   ]
  },
  {
   "cell_type": "code",
   "execution_count": 15,
   "id": "51657477-294a-450c-932d-5db148e2df2c",
   "metadata": {},
   "outputs": [],
   "source": [
    "def crossover(parent1, parent2):\n",
    "    \"\"\"عملگر تقاطع (Crossover) را اجرا می‌کند.\"\"\"\n",
    "    crossover_point = random.randint(1, BOARD_SIZE - 1)\n",
    "    child1 = parent1[:crossover_point] + parent2[crossover_point:]\n",
    "    child2 = parent2[:crossover_point] + parent1[crossover_point:]\n",
    "    return child1, child2"
   ]
  },
  {
   "cell_type": "code",
   "execution_count": 16,
   "id": "9f582660",
   "metadata": {},
   "outputs": [
    {
     "data": {
      "text/plain": [
       "1"
      ]
     },
     "execution_count": 16,
     "metadata": {},
     "output_type": "execute_result"
    }
   ],
   "source": [
    "random.randint(1, 2)"
   ]
  },
  {
   "cell_type": "code",
   "execution_count": 17,
   "id": "7d7e380b-6d01-4f03-8f82-3589cd1da9d6",
   "metadata": {},
   "outputs": [
    {
     "data": {
      "text/plain": [
       "([0, 1, 2, 3, 4, 1005, 1006, 1007], [1000, 1001, 1002, 1003, 1004, 5, 6, 7])"
      ]
     },
     "execution_count": 17,
     "metadata": {},
     "output_type": "execute_result"
    }
   ],
   "source": [
    "crossover([0,1,2,3,4,5,6,7], [1000,1001,1002,1003,1004,1005,1006,1007])"
   ]
  },
  {
   "cell_type": "code",
   "execution_count": 23,
   "id": "171a3012-52b3-47e4-8606-1668f9b245d2",
   "metadata": {},
   "outputs": [],
   "source": [
    "def mutate(individual):\n",
    "    \"\"\"عملگر جهش (Mutation) را اجرا می‌کند.\"\"\"\n",
    "    if random.random() < MUTATION_RATE:\n",
    "        idx1, idx2 = random.sample(range(BOARD_SIZE), 2)\n",
    "        individual[idx1], individual[idx2] = individual[idx2], individual[idx1]\n",
    "    return individual"
   ]
  },
  {
   "cell_type": "code",
   "execution_count": 24,
   "id": "9a19ee1c-044e-43ae-bb88-a94c58264c28",
   "metadata": {},
   "outputs": [
    {
     "data": {
      "text/plain": [
       "[0, 1, 2, 3, 4, 5, 6, 7]"
      ]
     },
     "execution_count": 24,
     "metadata": {},
     "output_type": "execute_result"
    }
   ],
   "source": [
    "mutate([0,1,2,3,4,5,6,7])"
   ]
  },
  {
   "cell_type": "code",
   "execution_count": 25,
   "id": "c7fcdb8f-781c-4717-99a7-3035593ac09e",
   "metadata": {},
   "outputs": [],
   "source": [
    "def genetic_algorithm():\n",
    "    \"\"\"الگوریتم ژنتیک برای حل مسئله 8 وزیر.\"\"\"\n",
    "    population = create_population()\n",
    "    for generation in range(MAX_GENERATIONS):\n",
    "        new_population = []\n",
    "        for _ in range(POPULATION_SIZE // 2):\n",
    "            parent1, parent2 = select_parents(population)\n",
    "            #child1, child2 = crossover(parent1, parent2)\n",
    "            new_population.append(mutate(parent1))#(mutate(child1))\n",
    "            new_population.append(mutate(parent2))#(mutate(child2))\n",
    "        population = new_population\n",
    "        best_individual = min(population, key=fitness)\n",
    "        if fitness(best_individual) == 0:\n",
    "            print(f\"Solution found in generation {generation}: {best_individual}\")\n",
    "            return best_individual\n",
    "    print(\"No solution found.\")\n",
    "    return None"
   ]
  },
  {
   "cell_type": "code",
   "execution_count": 26,
   "id": "e77391df",
   "metadata": {},
   "outputs": [],
   "source": [
    "def func1(x):\n",
    "    return x[-1]"
   ]
  },
  {
   "cell_type": "code",
   "execution_count": 27,
   "id": "bbf1f3ec",
   "metadata": {},
   "outputs": [
    {
     "data": {
      "text/plain": [
       "'a'"
      ]
     },
     "execution_count": 27,
     "metadata": {},
     "output_type": "execute_result"
    }
   ],
   "source": [
    "func1(\"reza\")"
   ]
  },
  {
   "cell_type": "code",
   "execution_count": 28,
   "id": "624cf36c",
   "metadata": {},
   "outputs": [
    {
     "data": {
      "text/plain": [
       "['sara', 'ali', 'hassan']"
      ]
     },
     "execution_count": 28,
     "metadata": {},
     "output_type": "execute_result"
    }
   ],
   "source": [
    "a = [\"ali\",\"hassan\",\"sara\"]\n",
    "sorted(a , key=func1 )"
   ]
  },
  {
   "cell_type": "code",
   "execution_count": 40,
   "id": "66cad4cf-5e17-4adc-b186-dafc5883ae3e",
   "metadata": {},
   "outputs": [
    {
     "name": "stdout",
     "output_type": "stream",
     "text": [
      "Solution found in generation 0: [3, 6, 0, 7, 4, 1, 5, 2]\n"
     ]
    }
   ],
   "source": [
    "# اجرای الگوریتم ژنتیک\n",
    "solution = genetic_algorithm()"
   ]
  },
  {
   "cell_type": "code",
   "execution_count": 41,
   "id": "c5494b7f-67d2-4b37-9a15-fd8207a20827",
   "metadata": {},
   "outputs": [
    {
     "data": {
      "text/plain": [
       "0"
      ]
     },
     "execution_count": 41,
     "metadata": {},
     "output_type": "execute_result"
    }
   ],
   "source": [
    "fitness(solution)"
   ]
  },
  {
   "cell_type": "code",
   "execution_count": 42,
   "id": "074e044d-7109-4399-a695-8be9bee2f1e0",
   "metadata": {},
   "outputs": [
    {
     "name": "stdout",
     "output_type": "stream",
     "text": [
      "Solution board:\n",
      ". . . Q . . . .\n",
      ". . . . . . Q .\n",
      "Q . . . . . . .\n",
      ". . . . . . . Q\n",
      ". . . . Q . . .\n",
      ". Q . . . . . .\n",
      ". . . . . Q . .\n",
      ". . Q . . . . .\n"
     ]
    }
   ],
   "source": [
    "if solution:\n",
    "    print(\"Solution board:\")\n",
    "    for row in range(BOARD_SIZE):\n",
    "        line = [\"Q\" if col == solution[row] else \".\" for col in range(BOARD_SIZE)]\n",
    "        print(\" \".join(line))"
   ]
  }
 ],
 "metadata": {
  "kernelspec": {
   "display_name": "Python 3 (ipykernel)",
   "language": "python",
   "name": "python3"
  },
  "language_info": {
   "codemirror_mode": {
    "name": "ipython",
    "version": 3
   },
   "file_extension": ".py",
   "mimetype": "text/x-python",
   "name": "python",
   "nbconvert_exporter": "python",
   "pygments_lexer": "ipython3",
   "version": "3.13.0"
  }
 },
 "nbformat": 4,
 "nbformat_minor": 5
}
