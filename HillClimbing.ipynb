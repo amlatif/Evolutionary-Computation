{
 "cells": [
  {
   "cell_type": "code",
   "execution_count": 3,
   "id": "73ab255f-e9ba-429f-91ac-21231b8ecbb9",
   "metadata": {},
   "outputs": [],
   "source": [
    "import numpy as np"
   ]
  },
  {
   "cell_type": "code",
   "execution_count": 4,
   "id": "2ae7209e-128e-4233-9155-59fc5c630802",
   "metadata": {},
   "outputs": [],
   "source": [
    "# objective function\n",
    "def objective(x):\n",
    "\treturn 0"
   ]
  },
  {
   "cell_type": "code",
   "execution_count": 6,
   "id": "dd895d79-0b91-4af8-8077-9b8fb373161f",
   "metadata": {},
   "outputs": [],
   "source": [
    "# define range for input\n",
    "bounds = np.array([[-5.0, 5.0]])"
   ]
  },
  {
   "cell_type": "code",
   "execution_count": 11,
   "id": "1076540e-7399-421e-8045-c4a5f920b8ff",
   "metadata": {},
   "outputs": [
    {
     "data": {
      "text/plain": [
       "array([1.96956577])"
      ]
     },
     "execution_count": 11,
     "metadata": {},
     "output_type": "execute_result"
    }
   ],
   "source": [
    "# generate an initial point\n",
    "solution = bounds[:, 0] + np.random.rand(len(bounds)) * (bounds[:, 1] - bounds[:, 0])\n",
    "solution"
   ]
  },
  {
   "cell_type": "code",
   "execution_count": 12,
   "id": "167df1d7-9f41-459c-832c-6fb5cafa9e9b",
   "metadata": {},
   "outputs": [
    {
     "data": {
      "text/plain": [
       "0"
      ]
     },
     "execution_count": 12,
     "metadata": {},
     "output_type": "execute_result"
    }
   ],
   "source": [
    "# evaluate the initial point\n",
    "solution_eval = objective(solution)\n",
    "solution_eval"
   ]
  },
  {
   "cell_type": "code",
   "execution_count": 13,
   "id": "ea1e92b3-5f7d-4154-8d3c-5f59d3b0fac1",
   "metadata": {},
   "outputs": [],
   "source": [
    "# hill climbing local search algorithm\n",
    "def hillclimbing(objective, bounds, n_iterations, step_size):\n",
    "\t# generate an initial point\n",
    "\tsolution = bounds[:, 0] + rand(len(bounds)) * (bounds[:, 1] - bounds[:, 0])\n",
    "\t# evaluate the initial point\n",
    "\tsolution_eval = objective(solution)\n",
    "\t# run the hill climb\n",
    "\tfor i in range(n_iterations):\n",
    "\t\t# take a step\n",
    "\t\tcandidate = solution + randn(len(bounds)) * step_size\n",
    "\t\t# evaluate candidate point\n",
    "\t\tcandidte_eval = objective(candidate)\n",
    "\t\t# check if we should keep the new point\n",
    "\t\tif candidte_eval <= solution_eval:\n",
    "\t\t\t# store the new point\n",
    "\t\t\tsolution, solution_eval = candidate, candidte_eval\n",
    "\t\t\t# report progress\n",
    "\t\t\tprint('>%d f(%s) = %.5f' % (i, solution, solution_eval))\n",
    "\treturn [solution, solution_eval]"
   ]
  },
  {
   "cell_type": "code",
   "execution_count": 14,
   "id": "96aba1b7-1bae-451a-a46a-e30be8ff304a",
   "metadata": {},
   "outputs": [
    {
     "data": {
      "image/png": "[encoded data removed]",
      "text/plain": [
       "<Figure size 640x480 with 1 Axes>"
      ]
     },
     "metadata": {},
     "output_type": "display_data"
    }
   ],
   "source": [
    "# convex unimodal optimization function\n",
    "from numpy import arange\n",
    "from matplotlib import pyplot\n",
    "\n",
    "# objective function\n",
    "def objective(x):\n",
    "\treturn x[0]**2.0\n",
    "\n",
    "# define range for input\n",
    "r_min, r_max = -5.0, 5.0\n",
    "# sample input range uniformly at 0.1 increments\n",
    "inputs = arange(r_min, r_max, 0.1)\n",
    "# compute targets\n",
    "results = [objective([x]) for x in inputs]\n",
    "# create a line plot of input vs result\n",
    "pyplot.plot(inputs, results)\n",
    "# define optimal input value\n",
    "x_optima = 0.0\n",
    "# draw a vertical line at the optimal input\n",
    "pyplot.axvline(x=x_optima, ls='--', color='red')\n",
    "# show the plot\n",
    "pyplot.show()"
   ]
  },
  {
   "cell_type": "code",
   "execution_count": 15,
   "id": "36d4e0a9-7e3a-4225-99ce-31056b415106",
   "metadata": {},
   "outputs": [
    {
     "name": "stdout",
     "output_type": "stream",
     "text": [
      ">1 f([-2.74290923]) = 7.52355\n",
      ">3 f([-2.65873147]) = 7.06885\n",
      ">4 f([-2.52197291]) = 6.36035\n",
      ">5 f([-2.46450214]) = 6.07377\n",
      ">7 f([-2.44740961]) = 5.98981\n",
      ">9 f([-2.28364676]) = 5.21504\n",
      ">12 f([-2.19245939]) = 4.80688\n",
      ">14 f([-2.01001538]) = 4.04016\n",
      ">15 f([-1.86425287]) = 3.47544\n",
      ">22 f([-1.79913002]) = 3.23687\n",
      ">24 f([-1.57525573]) = 2.48143\n",
      ">25 f([-1.55047719]) = 2.40398\n",
      ">26 f([-1.51783757]) = 2.30383\n",
      ">27 f([-1.49118756]) = 2.22364\n",
      ">28 f([-1.45344116]) = 2.11249\n",
      ">30 f([-1.33055275]) = 1.77037\n",
      ">32 f([-1.17805016]) = 1.38780\n",
      ">33 f([-1.15189314]) = 1.32686\n",
      ">36 f([-1.03852644]) = 1.07854\n",
      ">37 f([-0.99135322]) = 0.98278\n",
      ">38 f([-0.79448984]) = 0.63121\n",
      ">39 f([-0.69837955]) = 0.48773\n",
      ">42 f([-0.69317313]) = 0.48049\n",
      ">46 f([-0.61801423]) = 0.38194\n",
      ">48 f([-0.48799625]) = 0.23814\n",
      ">50 f([-0.22149135]) = 0.04906\n",
      ">54 f([-0.20017144]) = 0.04007\n",
      ">57 f([-0.15994446]) = 0.02558\n",
      ">60 f([-0.15492485]) = 0.02400\n",
      ">61 f([-0.03572481]) = 0.00128\n",
      ">64 f([-0.03051261]) = 0.00093\n",
      ">66 f([-0.0074283]) = 0.00006\n",
      ">78 f([-0.00202357]) = 0.00000\n",
      ">119 f([0.00128373]) = 0.00000\n",
      ">120 f([-0.00040911]) = 0.00000\n",
      ">314 f([-0.00017051]) = 0.00000\n",
      "Done!\n",
      "f([-0.00017051]) = 0.000000\n"
     ]
    }
   ],
   "source": [
    "# hill climbing search of a one-dimensional objective function\n",
    "from numpy import asarray\n",
    "from numpy.random import randn\n",
    "from numpy.random import rand\n",
    "from numpy.random import seed\n",
    "\n",
    "# objective function\n",
    "def objective(x):\n",
    "\treturn x[0]**2.0\n",
    "\n",
    "# hill climbing local search algorithm\n",
    "def hillclimbing(objective, bounds, n_iterations, step_size):\n",
    "\t# generate an initial point\n",
    "\tsolution = bounds[:, 0] + rand(len(bounds)) * (bounds[:, 1] - bounds[:, 0])\n",
    "\t# evaluate the initial point\n",
    "\tsolution_eval = objective(solution)\n",
    "\t# run the hill climb\n",
    "\tfor i in range(n_iterations):\n",
    "\t\t# take a step\n",
    "\t\tcandidate = solution + randn(len(bounds)) * step_size\n",
    "\t\t# evaluate candidate point\n",
    "\t\tcandidte_eval = objective(candidate)\n",
    "\t\t# check if we should keep the new point\n",
    "\t\tif candidte_eval <= solution_eval:\n",
    "\t\t\t# store the new point\n",
    "\t\t\tsolution, solution_eval = candidate, candidte_eval\n",
    "\t\t\t# report progress\n",
    "\t\t\tprint('>%d f(%s) = %.5f' % (i, solution, solution_eval))\n",
    "\treturn [solution, solution_eval]\n",
    "\n",
    "# seed the pseudorandom number generator\n",
    "seed(5)\n",
    "# define range for input\n",
    "bounds = asarray([[-5.0, 5.0]])\n",
    "# define the total iterations\n",
    "n_iterations = 1000\n",
    "# define the maximum step size\n",
    "step_size = 0.1\n",
    "# perform the hill climbing search\n",
    "best, score = hillclimbing(objective, bounds, n_iterations, step_size)\n",
    "print('Done!')\n",
    "print('f(%s) = %f' % (best, score))"
   ]
  },
  {
   "cell_type": "code",
   "execution_count": 16,
   "id": "83300146-916f-4785-a136-5bee1f0ef98b",
   "metadata": {},
   "outputs": [],
   "source": [
    "# hill climbing local search algorithm\n",
    "def hillclimbing(objective, bounds, n_iterations, step_size):\n",
    "\t# generate an initial point\n",
    "\tsolution = bounds[:, 0] + rand(len(bounds)) * (bounds[:, 1] - bounds[:, 0])\n",
    "\t# evaluate the initial point\n",
    "\tsolution_eval = objective(solution)\n",
    "\t# run the hill climb\n",
    "\tscores = list()\n",
    "\tscores.append(solution_eval)\n",
    "\tfor i in range(n_iterations):\n",
    "\t\t# take a step\n",
    "\t\tcandidate = solution + randn(len(bounds)) * step_size\n",
    "\t\t# evaluate candidate point\n",
    "\t\tcandidte_eval = objective(candidate)\n",
    "\t\t# check if we should keep the new point\n",
    "\t\tif candidte_eval <= solution_eval:\n",
    "\t\t\t# store the new point\n",
    "\t\t\tsolution, solution_eval = candidate, candidte_eval\n",
    "\t\t\t# keep track of scores\n",
    "\t\t\tscores.append(solution_eval)\n",
    "\t\t\t# report progress\n",
    "\t\t\tprint('>%d f(%s) = %.5f' % (i, solution, solution_eval))\n",
    "\treturn [solution, solution_eval, scores]"
   ]
  },
  {
   "cell_type": "code",
   "execution_count": 17,
   "id": "9ab07c2e-2922-4311-abab-b3111e4ac1ad",
   "metadata": {},
   "outputs": [
    {
     "name": "stdout",
     "output_type": "stream",
     "text": [
      ">1 f([-2.74290923]) = 7.52355\n",
      ">3 f([-2.65873147]) = 7.06885\n",
      ">4 f([-2.52197291]) = 6.36035\n",
      ">5 f([-2.46450214]) = 6.07377\n",
      ">7 f([-2.44740961]) = 5.98981\n",
      ">9 f([-2.28364676]) = 5.21504\n",
      ">12 f([-2.19245939]) = 4.80688\n",
      ">14 f([-2.01001538]) = 4.04016\n",
      ">15 f([-1.86425287]) = 3.47544\n",
      ">22 f([-1.79913002]) = 3.23687\n",
      ">24 f([-1.57525573]) = 2.48143\n",
      ">25 f([-1.55047719]) = 2.40398\n",
      ">26 f([-1.51783757]) = 2.30383\n",
      ">27 f([-1.49118756]) = 2.22364\n",
      ">28 f([-1.45344116]) = 2.11249\n",
      ">30 f([-1.33055275]) = 1.77037\n",
      ">32 f([-1.17805016]) = 1.38780\n",
      ">33 f([-1.15189314]) = 1.32686\n",
      ">36 f([-1.03852644]) = 1.07854\n",
      ">37 f([-0.99135322]) = 0.98278\n",
      ">38 f([-0.79448984]) = 0.63121\n",
      ">39 f([-0.69837955]) = 0.48773\n",
      ">42 f([-0.69317313]) = 0.48049\n",
      ">46 f([-0.61801423]) = 0.38194\n",
      ">48 f([-0.48799625]) = 0.23814\n",
      ">50 f([-0.22149135]) = 0.04906\n",
      ">54 f([-0.20017144]) = 0.04007\n",
      ">57 f([-0.15994446]) = 0.02558\n",
      ">60 f([-0.15492485]) = 0.02400\n",
      ">61 f([-0.03572481]) = 0.00128\n",
      ">64 f([-0.03051261]) = 0.00093\n",
      ">66 f([-0.0074283]) = 0.00006\n",
      ">78 f([-0.00202357]) = 0.00000\n",
      ">119 f([0.00128373]) = 0.00000\n",
      ">120 f([-0.00040911]) = 0.00000\n",
      ">314 f([-0.00017051]) = 0.00000\n",
      "Done!\n",
      "f([-0.00017051]) = 0.000000\n"
     ]
    },
    {
     "data": {
      "image/png": "[encoded data removed]",
      "text/plain": [
       "<Figure size 640x480 with 1 Axes>"
      ]
     },
     "metadata": {},
     "output_type": "display_data"
    }
   ],
   "source": [
    "# hill climbing search of a one-dimensional objective function\n",
    "from numpy import asarray\n",
    "from numpy.random import randn\n",
    "from numpy.random import rand\n",
    "from numpy.random import seed\n",
    "from matplotlib import pyplot\n",
    "\n",
    "# objective function\n",
    "def objective(x):\n",
    "\treturn x[0]**2.0\n",
    "\n",
    "# hill climbing local search algorithm\n",
    "def hillclimbing(objective, bounds, n_iterations, step_size):\n",
    "\t# generate an initial point\n",
    "\tsolution = bounds[:, 0] + rand(len(bounds)) * (bounds[:, 1] - bounds[:, 0])\n",
    "\t# evaluate the initial point\n",
    "\tsolution_eval = objective(solution)\n",
    "\t# run the hill climb\n",
    "\tscores = list()\n",
    "\tscores.append(solution_eval)\n",
    "\tfor i in range(n_iterations):\n",
    "\t\t# take a step\n",
    "\t\tcandidate = solution + randn(len(bounds)) * step_size\n",
    "\t\t# evaluate candidate point\n",
    "\t\tcandidte_eval = objective(candidate)\n",
    "\t\t# check if we should keep the new point\n",
    "\t\tif candidte_eval <= solution_eval:\n",
    "\t\t\t# store the new point\n",
    "\t\t\tsolution, solution_eval = candidate, candidte_eval\n",
    "\t\t\t# keep track of scores\n",
    "\t\t\tscores.append(solution_eval)\n",
    "\t\t\t# report progress\n",
    "\t\t\tprint('>%d f(%s) = %.5f' % (i, solution, solution_eval))\n",
    "\treturn [solution, solution_eval, scores]\n",
    "\n",
    "# seed the pseudorandom number generator\n",
    "seed(5)\n",
    "# define range for input\n",
    "bounds = asarray([[-5.0, 5.0]])\n",
    "# define the total iterations\n",
    "n_iterations = 1000\n",
    "# define the maximum step size\n",
    "step_size = 0.1\n",
    "# perform the hill climbing search\n",
    "best, score, scores = hillclimbing(objective, bounds, n_iterations, step_size)\n",
    "print('Done!')\n",
    "print('f(%s) = %f' % (best, score))\n",
    "# line plot of best scores\n",
    "pyplot.plot(scores, '.-')\n",
    "pyplot.xlabel('Improvement Number')\n",
    "pyplot.ylabel('Evaluation f(x)')\n",
    "pyplot.show()"
   ]
  },
  {
   "cell_type": "code",
   "execution_count": 18,
   "id": "1073aff5-166a-4363-96b1-37436f660808",
   "metadata": {},
   "outputs": [
    {
     "name": "stdout",
     "output_type": "stream",
     "text": [
      ">1 f([-2.74290923]) = 7.52355\n",
      ">3 f([-2.65873147]) = 7.06885\n",
      ">4 f([-2.52197291]) = 6.36035\n",
      ">5 f([-2.46450214]) = 6.07377\n",
      ">7 f([-2.44740961]) = 5.98981\n",
      ">9 f([-2.28364676]) = 5.21504\n",
      ">12 f([-2.19245939]) = 4.80688\n",
      ">14 f([-2.01001538]) = 4.04016\n",
      ">15 f([-1.86425287]) = 3.47544\n",
      ">22 f([-1.79913002]) = 3.23687\n",
      ">24 f([-1.57525573]) = 2.48143\n",
      ">25 f([-1.55047719]) = 2.40398\n",
      ">26 f([-1.51783757]) = 2.30383\n",
      ">27 f([-1.49118756]) = 2.22364\n",
      ">28 f([-1.45344116]) = 2.11249\n",
      ">30 f([-1.33055275]) = 1.77037\n",
      ">32 f([-1.17805016]) = 1.38780\n",
      ">33 f([-1.15189314]) = 1.32686\n",
      ">36 f([-1.03852644]) = 1.07854\n",
      ">37 f([-0.99135322]) = 0.98278\n",
      ">38 f([-0.79448984]) = 0.63121\n",
      ">39 f([-0.69837955]) = 0.48773\n",
      ">42 f([-0.69317313]) = 0.48049\n",
      ">46 f([-0.61801423]) = 0.38194\n",
      ">48 f([-0.48799625]) = 0.23814\n",
      ">50 f([-0.22149135]) = 0.04906\n",
      ">54 f([-0.20017144]) = 0.04007\n",
      ">57 f([-0.15994446]) = 0.02558\n",
      ">60 f([-0.15492485]) = 0.02400\n",
      ">61 f([-0.03572481]) = 0.00128\n",
      ">64 f([-0.03051261]) = 0.00093\n",
      ">66 f([-0.0074283]) = 0.00006\n",
      ">78 f([-0.00202357]) = 0.00000\n",
      ">119 f([0.00128373]) = 0.00000\n",
      ">120 f([-0.00040911]) = 0.00000\n",
      ">314 f([-0.00017051]) = 0.00000\n",
      "Done!\n",
      "f([-0.00017051]) = 0.000000\n"
     ]
    },
    {
     "data": {
      "image/png": "[encoded data removed]",
      "text/plain": [
       "<Figure size 640x480 with 1 Axes>"
      ]
     },
     "metadata": {},
     "output_type": "display_data"
    }
   ],
   "source": [
    "# hill climbing search of a one-dimensional objective function\n",
    "from numpy import asarray\n",
    "from numpy import arange\n",
    "from numpy.random import randn\n",
    "from numpy.random import rand\n",
    "from numpy.random import seed\n",
    "from matplotlib import pyplot\n",
    "\n",
    "# objective function\n",
    "def objective(x):\n",
    "\treturn x[0]**2.0\n",
    "\n",
    "# hill climbing local search algorithm\n",
    "def hillclimbing(objective, bounds, n_iterations, step_size):\n",
    "\t# generate an initial point\n",
    "\tsolution = bounds[:, 0] + rand(len(bounds)) * (bounds[:, 1] - bounds[:, 0])\n",
    "\t# evaluate the initial point\n",
    "\tsolution_eval = objective(solution)\n",
    "\t# run the hill climb\n",
    "\tsolutions = list()\n",
    "\tsolutions.append(solution)\n",
    "\tfor i in range(n_iterations):\n",
    "\t\t# take a step\n",
    "\t\tcandidate = solution + randn(len(bounds)) * step_size\n",
    "\t\t# evaluate candidate point\n",
    "\t\tcandidte_eval = objective(candidate)\n",
    "\t\t# check if we should keep the new point\n",
    "\t\tif candidte_eval <= solution_eval:\n",
    "\t\t\t# store the new point\n",
    "\t\t\tsolution, solution_eval = candidate, candidte_eval\n",
    "\t\t\t# keep track of solutions\n",
    "\t\t\tsolutions.append(solution)\n",
    "\t\t\t# report progress\n",
    "\t\t\tprint('>%d f(%s) = %.5f' % (i, solution, solution_eval))\n",
    "\treturn [solution, solution_eval, solutions]\n",
    "\n",
    "# seed the pseudorandom number generator\n",
    "seed(5)\n",
    "# define range for input\n",
    "bounds = asarray([[-5.0, 5.0]])\n",
    "# define the total iterations\n",
    "n_iterations = 1000\n",
    "# define the maximum step size\n",
    "step_size = 0.1\n",
    "# perform the hill climbing search\n",
    "best, score, solutions = hillclimbing(objective, bounds, n_iterations, step_size)\n",
    "print('Done!')\n",
    "print('f(%s) = %f' % (best, score))\n",
    "# sample input range uniformly at 0.1 increments\n",
    "inputs = arange(bounds[0,0], bounds[0,1], 0.1)\n",
    "# create a line plot of input vs result\n",
    "pyplot.plot(inputs, [objective([x]) for x in inputs], '--')\n",
    "# draw a vertical line at the optimal input\n",
    "pyplot.axvline(x=[0.0], ls='--', color='red')\n",
    "# plot the sample as black circles\n",
    "pyplot.plot(solutions, [objective(x) for x in solutions], 'o', color='black')\n",
    "pyplot.show()"
   ]
  },
  {
   "cell_type": "code",
   "execution_count": null,
   "id": "592f1607-bed5-4092-824a-770d961d4843",
   "metadata": {},
   "outputs": [],
   "source": []
  }
 ],
 "metadata": {
  "kernelspec": {
   "display_name": "Python 3 (ipykernel)",
   "language": "python",
   "name": "python3"
  },
  "language_info": {
   "codemirror_mode": {
    "name": "ipython",
    "version": 3
   },
   "file_extension": ".py",
   "mimetype": "text/x-python",
   "name": "python",
   "nbconvert_exporter": "python",
   "pygments_lexer": "ipython3",
   "version": "3.13.0"
  }
 },
 "nbformat": 4,
 "nbformat_minor": 5
}
