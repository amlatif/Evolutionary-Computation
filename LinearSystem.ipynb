{
 "cells": [
  {
   "cell_type": "code",
   "execution_count": 1,
   "id": "88169667-971d-43b2-86a1-bded524b9b7d",
   "metadata": {},
   "outputs": [],
   "source": [
    "import random\n",
    "import numpy as np"
   ]
  },
  {
   "cell_type": "code",
   "execution_count": 2,
   "id": "ea25210a-76fe-4c77-8913-dbd270e6ca4d",
   "metadata": {},
   "outputs": [],
   "source": [
    "# Define the system of linear equations: Ax = b\n",
    "A = np.array([[3, 2], [1, -1]])  # Coefficient matrix\n",
    "b = np.array([12, 1])            # Right-hand side vector"
   ]
  },
  {
   "cell_type": "code",
   "execution_count": 3,
   "id": "0818508d-020b-4a7d-b6db-e12ba20726ec",
   "metadata": {},
   "outputs": [
    {
     "data": {
      "text/plain": [
       "(array([[ 3,  2],\n",
       "        [ 1, -1]]),\n",
       " array([12,  1]))"
      ]
     },
     "execution_count": 3,
     "metadata": {},
     "output_type": "execute_result"
    }
   ],
   "source": [
    "A, b"
   ]
  },
  {
   "cell_type": "code",
   "execution_count": 4,
   "id": "63e1cebe-941c-4785-8b07-e622d9c9d695",
   "metadata": {},
   "outputs": [],
   "source": [
    "# Parameters\n",
    "population_size = 50\n",
    "num_generations = 200\n",
    "mutation_rate = 0.1\n",
    "elitism_count = 2  # Number of best individuals to carry over to the next generation\n",
    "variable_range = (-10, 10)  # Range for initial values of x"
   ]
  },
  {
   "cell_type": "code",
   "execution_count": 5,
   "id": "97e19a07-0552-4819-9856-e0d4fc1bcd62",
   "metadata": {},
   "outputs": [],
   "source": [
    "# Fitness function\n",
    "def fitness(individual):\n",
    "    x = np.array(individual)\n",
    "    error = np.sum((np.dot(A, x) - b) ** 2)  # Sum of squared errors\n",
    "    return error"
   ]
  },
  {
   "cell_type": "code",
   "execution_count": 6,
   "id": "4ecffc76-2989-468b-9dd0-dc761cb93a10",
   "metadata": {},
   "outputs": [
    {
     "data": {
      "text/plain": [
       "np.int64(4)"
      ]
     },
     "execution_count": 6,
     "metadata": {},
     "output_type": "execute_result"
    }
   ],
   "source": [
    "fitness(np.array([2,3]))"
   ]
  },
  {
   "cell_type": "code",
   "execution_count": 7,
   "id": "b120e9fc-084e-4de8-8344-f8134fdbe914",
   "metadata": {},
   "outputs": [],
   "source": [
    "# Initialize population\n",
    "def create_individual():\n",
    "    return [random.uniform(variable_range[0], variable_range[1]) for _ in range(len(b))]"
   ]
  },
  {
   "cell_type": "code",
   "execution_count": 8,
   "id": "8df5b882-37bd-4904-a450-6890cc83c014",
   "metadata": {},
   "outputs": [
    {
     "data": {
      "text/plain": [
       "[-5.0956396040418195, -2.7492979677946616]"
      ]
     },
     "execution_count": 8,
     "metadata": {},
     "output_type": "execute_result"
    }
   ],
   "source": [
    "create_individual()"
   ]
  },
  {
   "cell_type": "code",
   "execution_count": 9,
   "id": "235137d6-4dd7-41f8-b8c6-0ab9bb0c3940",
   "metadata": {},
   "outputs": [
    {
     "data": {
      "text/plain": [
       "np.float64(37.95454298606618)"
      ]
     },
     "execution_count": 9,
     "metadata": {},
     "output_type": "execute_result"
    }
   ],
   "source": [
    "fitness(create_individual())"
   ]
  },
  {
   "cell_type": "code",
   "execution_count": 10,
   "id": "3dadafcf-c6e7-474e-83ce-72b9fc18d53a",
   "metadata": {},
   "outputs": [],
   "source": [
    "population = [create_individual() for _ in range(population_size)]"
   ]
  },
  {
   "cell_type": "code",
   "execution_count": 11,
   "id": "05668e2f-c087-4b07-a8f0-ad3c43d861b2",
   "metadata": {},
   "outputs": [
    {
     "data": {
      "text/plain": [
       "[[-6.800760425886536, -7.801290604992626],\n",
       " [-6.325399568898429, -9.796744449919244],\n",
       " [-8.499298507778416, -7.695957913299831],\n",
       " [-0.36650279589451173, -6.809807428577567],\n",
       " [8.958684006243828, 7.795228899698177],\n",
       " [5.985007367098444, 1.3928921689882685],\n",
       " [8.538452591988609, -3.125831714551042],\n",
       " [-3.1917052026995503, -7.864280447818315],\n",
       " [-2.656169156843074, -1.9780595737124997],\n",
       " [-2.8651742908951423, -4.791704843924041],\n",
       " [-0.5638769354008808, -5.282853049253225],\n",
       " [-8.351813310098448, -1.457810857729033],\n",
       " [3.337682037600999, -1.0265923385344973],\n",
       " [4.468031706169985, 5.777790388903849],\n",
       " [7.094305074070245, -8.623800951772221],\n",
       " [1.828718304250355, -1.9689778727661178],\n",
       " [-9.611346594785907, 7.6583588427306175],\n",
       " [-6.218314572948842, -4.756685609536227],\n",
       " [-0.41399043666481994, 2.09547373746231],\n",
       " [-2.387235107657178, 7.057327408441374],\n",
       " [-8.366899956825659, -6.095390752296989],\n",
       " [-1.7331661350714338, 5.039577612738311],\n",
       " [4.133688407931116, -5.068362592939799],\n",
       " [9.140057950644007, -0.4986520127463745],\n",
       " [5.270319316213524, -9.125849658868894],\n",
       " [-0.1795954770893502, -5.765245916453241],\n",
       " [8.822410705891624, 0.13491054641507105],\n",
       " [-1.8693793555558607, -7.25912906866456],\n",
       " [1.0397465621909774, -0.5726115160719569],\n",
       " [-8.952656989836287, -6.355977638548116],\n",
       " [9.561567303040626, 2.9092338540808242],\n",
       " [-7.423461640247777, -0.9180854071373634],\n",
       " [5.103066427409182, -1.0388800621754246],\n",
       " [0.812708587025412, -3.3048610630079223],\n",
       " [9.060601866464495, 5.584650713546802],\n",
       " [4.644674914788919, 0.7587871842463283],\n",
       " [-3.433482855297214, 4.228945537998143],\n",
       " [6.010992806331988, 7.626922195397835],\n",
       " [0.10254497290520526, 9.421376116590704],\n",
       " [-2.948381438335497, -2.958065182988152],\n",
       " [-8.118485833486247, 2.128531149554929],\n",
       " [-0.5034709000552482, 3.145426767230804],\n",
       " [3.0852126882949094, -9.036488178755862],\n",
       " [5.133338602521771, -4.076001533576292],\n",
       " [-9.44800752826, 9.37078920751651],\n",
       " [5.265068805909918, -4.434315431398819],\n",
       " [-2.0831357909769244, -9.857572411986784],\n",
       " [-3.878590222317797, 0.8828511035947884],\n",
       " [6.837107364098021, -5.16514140033582],\n",
       " [-5.556743411542151, 2.915901343025279]]"
      ]
     },
     "execution_count": 11,
     "metadata": {},
     "output_type": "execute_result"
    }
   ],
   "source": [
    "population"
   ]
  },
  {
   "cell_type": "code",
   "execution_count": 12,
   "id": "5513fa40-f716-42c0-a80e-b1b803808575",
   "metadata": {},
   "outputs": [],
   "source": [
    "# Genetic operators\n",
    "def crossover(parent1, parent2):\n",
    "    # Blend crossover (alpha determines the blending factor)\n",
    "    alpha = random.random()\n",
    "    child = [alpha * parent1[i] + (1 - alpha) * parent2[i] for i in range(len(parent1))]\n",
    "    return child"
   ]
  },
  {
   "cell_type": "code",
   "execution_count": 13,
   "id": "6aa97c00-7f0c-4917-a700-05d91a33e856",
   "metadata": {},
   "outputs": [],
   "source": [
    "p1 = np.array([1,2])\n",
    "p2 = np.array([3,4])"
   ]
  },
  {
   "cell_type": "code",
   "execution_count": 14,
   "id": "e450428f-d509-4251-a6de-bfad0be69729",
   "metadata": {},
   "outputs": [
    {
     "data": {
      "text/plain": [
       "[np.float64(1.1646887027463835), np.float64(2.1646887027463837)]"
      ]
     },
     "execution_count": 14,
     "metadata": {},
     "output_type": "execute_result"
    }
   ],
   "source": [
    "crossover(p1, p2)"
   ]
  },
  {
   "cell_type": "code",
   "execution_count": 15,
   "id": "e863abcc-f054-457f-bfa5-87135357ea33",
   "metadata": {},
   "outputs": [
    {
     "data": {
      "text/plain": [
       "array([0, 1])"
      ]
     },
     "execution_count": 15,
     "metadata": {},
     "output_type": "execute_result"
    }
   ],
   "source": [
    "def mutate(individual):\n",
    "    for i in range(len(individual)):\n",
    "        if random.random() < 0.9: \n",
    "            individual[i] += random.gauss(0, 0.5)  # Gaussian mutation\n",
    "    return individual\n",
    "mutate(p1)"
   ]
  },
  {
   "cell_type": "code",
   "execution_count": 16,
   "id": "f3b9e892-2750-45bb-b766-734f6db629a1",
   "metadata": {},
   "outputs": [],
   "source": [
    "def mutate(individual):\n",
    "    # Adaptive mutation: mutation rate decreases over generations\n",
    "    adaptive_mutation_rate = mutation_rate * (1 - (generation / num_generations))\n",
    "    for i in range(len(individual)):\n",
    "        if random.random() < adaptive_mutation_rate:\n",
    "            individual[i] += random.gauss(0, 0.5)  # Gaussian mutation\n",
    "    return individual"
   ]
  },
  {
   "cell_type": "code",
   "execution_count": 17,
   "id": "ea6e6423-8dcf-496f-a75c-57308811eb0e",
   "metadata": {},
   "outputs": [
    {
     "name": "stdout",
     "output_type": "stream",
     "text": [
      "Generation 1: Best solution = [2.8346965876691366, 2.2437894686085977], Fitness = 1.1507637962405042\n",
      "Generation 2: Best solution = [2.9479177338257037, 1.507632236576368], Fitness = 0.21372733515487058\n",
      "Generation 3: Best solution = [2.8431565825054395, 1.736759151131773], Fitness = 0.011329341844401\n",
      "Generation 4: Best solution = [2.8431565825054395, 1.736759151131773], Fitness = 0.011329341844401\n",
      "Generation 5: Best solution = [2.8431565825054395, 1.736759151131773], Fitness = 0.011329341844401\n",
      "Generation 6: Best solution = [2.825335627711212, 1.8060906830040113], Fitness = 0.008147535183454527\n",
      "Generation 7: Best solution = [2.8048239529650356, 1.7820165430728325], Fitness = 0.0009822153336912\n",
      "Generation 8: Best solution = [2.7968739295135574, 1.7911222026519733], Fitness = 0.0007693257983680942\n",
      "Generation 9: Best solution = [2.80413096594609, 1.7857390010997414], Fitness = 0.0005984122365015013\n",
      "Generation 10: Best solution = [2.8063407168837142, 1.7931093131560651], Fitness = 0.00020253578778281863\n",
      "Generation 11: Best solution = [2.80319471130616, 1.7919746996411365], Fitness = 0.00016770385462901703\n",
      "Generation 12: Best solution = [2.8047832405043125, 1.7927743830731964], Fitness = 0.0001442229615561814\n",
      "Generation 13: Best solution = [2.8042720194284043, 1.7924741344534332], Fitness = 0.0001441883227867238\n",
      "Generation 14: Best solution = [2.8038125036158377, 1.7924745005353626], Fitness = 0.00014160760996989296\n",
      "Generation 15: Best solution = [2.804220786887744, 1.7925933019020053], Fitness = 0.0001398253609567643\n",
      "Generation 16: Best solution = [2.804220786887744, 1.7925933019020053], Fitness = 0.0001398253609567643\n",
      "Generation 17: Best solution = [2.8041653710307624, 1.7925771771180719], Fitness = 0.00013980654193289057\n",
      "Generation 18: Best solution = [2.8041653710307624, 1.7925771771180719], Fitness = 0.00013980654193289057\n",
      "Generation 19: Best solution = [2.8041653710307624, 1.7925771771180719], Fitness = 0.00013980654193289057\n",
      "Generation 20: Best solution = [2.8041844269469727, 1.7925827219665733], Fitness = 0.00013980377510869384\n",
      "Generation 21: Best solution = [2.8041844269469727, 1.7925827219665733], Fitness = 0.00013980377510869384\n",
      "Generation 22: Best solution = [2.8041844269469727, 1.7925827219665733], Fitness = 0.00013980377510869384\n",
      "Generation 23: Best solution = [2.8041844269469727, 1.7925827219665733], Fitness = 0.00013980377510869384\n",
      "Generation 24: Best solution = [2.8041844269469727, 1.7925827219665733], Fitness = 0.00013980377510869384\n",
      "Generation 25: Best solution = [2.8041828613978352, 1.7925822664265356], Fitness = 0.00013980363733080296\n",
      "Generation 26: Best solution = [2.8041828613978352, 1.7925822664265356], Fitness = 0.00013980363733080296\n",
      "Generation 27: Best solution = [2.8041828613978352, 1.7925822664265356], Fitness = 0.00013980363733080296\n",
      "Generation 28: Best solution = [2.8041816266694886, 1.7925819061654842], Fitness = 0.0001398036065663918\n",
      "Generation 29: Best solution = [2.8041796701019024, 1.792581337047531], Fitness = 0.0001398035842337884\n",
      "Generation 30: Best solution = [2.8041796701019024, 1.792581337047531], Fitness = 0.0001398035842337884\n",
      "Generation 31: Best solution = [2.8041796701019024, 1.792581337047531], Fitness = 0.0001398035842337884\n",
      "Generation 32: Best solution = [2.804179742887319, 1.7925813581899614], Fitness = 0.00013980358417844003\n",
      "Generation 33: Best solution = [2.8041801554217463, 1.7925814781996179], Fitness = 0.0001398035807611647\n",
      "Generation 34: Best solution = [2.8041806777411367, 1.7925816302480813], Fitness = 0.00013980357965958618\n",
      "Generation 35: Best solution = [2.8041801790916057, 1.7959301055820587], Fitness = 8.743029973571197e-05\n",
      "Generation 36: Best solution = [2.804180187185912, 1.7958682265714017], Fitness = 8.73815440058061e-05\n",
      "Generation 37: Best solution = [2.804180192271623, 1.795834271543286], Fitness = 8.737108314839588e-05\n",
      "Generation 38: Best solution = [2.804180192271623, 1.795834271543286], Fitness = 8.737108314839588e-05\n",
      "Generation 39: Best solution = [2.804180192271623, 1.795834271543286], Fitness = 8.737108314839588e-05\n",
      "Generation 40: Best solution = [2.8041801928256564, 1.7958220666039832], Fitness = 8.737008582345595e-05\n",
      "Generation 41: Best solution = [2.804180192006931, 1.7958174551875703], Fitness = 8.737005375251418e-05\n",
      "Generation 42: Best solution = [2.8041801904073225, 1.795820474743997], Fitness = 8.736996141948539e-05\n",
      "Generation 43: Best solution = [2.8041801904073225, 1.795820474743997], Fitness = 8.736996141948539e-05\n",
      "Generation 44: Best solution = [2.8041801904073225, 1.795820474743997], Fitness = 8.736996141948539e-05\n",
      "Generation 45: Best solution = [2.8041801904073225, 1.795820474743997], Fitness = 8.736996141948539e-05\n",
      "Generation 46: Best solution = [2.8041801904073225, 1.795820474743997], Fitness = 8.736996141948539e-05\n",
      "Generation 47: Best solution = [2.8041801904073225, 1.795820474743997], Fitness = 8.736996141948539e-05\n",
      "Generation 48: Best solution = [2.8041801904073225, 1.795820474743997], Fitness = 8.736996141948539e-05\n",
      "Generation 49: Best solution = [2.8041801904073225, 1.795820474743997], Fitness = 8.736996141948539e-05\n",
      "Generation 50: Best solution = [2.8041801904073225, 1.795820474743997], Fitness = 8.736996141948539e-05\n",
      "Generation 51: Best solution = [2.8041801904073225, 1.795820474743997], Fitness = 8.736996141948539e-05\n",
      "Generation 52: Best solution = [2.8041801904073225, 1.795820474743997], Fitness = 8.736996141948539e-05\n",
      "Generation 53: Best solution = [2.8041801904073225, 1.795820474743997], Fitness = 8.736996141948539e-05\n",
      "Generation 54: Best solution = [2.8041801904073225, 1.795820474743997], Fitness = 8.736996141948539e-05\n",
      "Generation 55: Best solution = [2.8041801904073225, 1.795820474743997], Fitness = 8.736996141948539e-05\n",
      "Generation 56: Best solution = [2.8041801904073225, 1.795820474743997], Fitness = 8.736996141948539e-05\n",
      "Generation 57: Best solution = [2.8041801904073225, 1.795820474743997], Fitness = 8.736996141948539e-05\n",
      "Generation 58: Best solution = [2.8041801904073225, 1.795820474743997], Fitness = 8.736996141948539e-05\n",
      "Generation 59: Best solution = [2.8041801904073225, 1.7958204747432878], Fitness = 8.736996141947326e-05\n",
      "Generation 60: Best solution = [2.8041801904073225, 1.7958204747426578], Fitness = 8.736996141947277e-05\n",
      "Generation 61: Best solution = [2.8041801904073225, 1.7958204747426145], Fitness = 8.736996141946877e-05\n",
      "Generation 62: Best solution = [2.8041801904073225, 1.7958204747426145], Fitness = 8.736996141946877e-05\n",
      "Generation 63: Best solution = [2.8041801904073225, 1.7958204747416056], Fitness = 8.736996141946206e-05\n",
      "Generation 64: Best solution = [2.8041801904073225, 1.7958204747416056], Fitness = 8.736996141946206e-05\n",
      "Generation 65: Best solution = [2.8041801904073225, 1.7958204747416056], Fitness = 8.736996141946206e-05\n",
      "Generation 66: Best solution = [2.8041801904073225, 1.7958204747416056], Fitness = 8.736996141946206e-05\n",
      "Generation 67: Best solution = [2.8041801904073225, 1.7958204747416056], Fitness = 8.736996141946206e-05\n",
      "Generation 68: Best solution = [2.8041801904073225, 1.7958204747416056], Fitness = 8.736996141946206e-05\n",
      "Generation 69: Best solution = [2.8041801904073225, 1.7958204747416056], Fitness = 8.736996141946206e-05\n",
      "Generation 70: Best solution = [2.8041801904073225, 1.7958204747416056], Fitness = 8.736996141946206e-05\n",
      "Generation 71: Best solution = [2.8041801904073225, 1.7958204747416056], Fitness = 8.736996141946206e-05\n",
      "Generation 72: Best solution = [2.8041801904073225, 1.7958204747416056], Fitness = 8.736996141946206e-05\n",
      "Generation 73: Best solution = [2.8041801904073225, 1.7958204747416056], Fitness = 8.736996141946206e-05\n",
      "Generation 74: Best solution = [2.8041801904073225, 1.7958204747416056], Fitness = 8.736996141946206e-05\n",
      "Generation 75: Best solution = [2.8041801904073225, 1.7958204747416056], Fitness = 8.736996141946206e-05\n",
      "Generation 76: Best solution = [2.8041801904073225, 1.7958204747416056], Fitness = 8.736996141946206e-05\n",
      "Generation 77: Best solution = [2.8041801904073225, 1.7958204747416056], Fitness = 8.736996141946206e-05\n",
      "Generation 78: Best solution = [2.8041801904073225, 1.7958204747416056], Fitness = 8.736996141946206e-05\n",
      "Generation 79: Best solution = [2.8041801904073225, 1.7958204747416056], Fitness = 8.736996141946206e-05\n",
      "Generation 80: Best solution = [2.8041801904073225, 1.7958204747416056], Fitness = 8.736996141946206e-05\n",
      "Generation 81: Best solution = [2.8041801904073225, 1.7958204747416056], Fitness = 8.736996141946206e-05\n",
      "Generation 82: Best solution = [2.8041801904073225, 1.7958204747416056], Fitness = 8.736996141946206e-05\n",
      "Generation 83: Best solution = [2.8041801904073225, 1.7958204747416056], Fitness = 8.736996141946206e-05\n",
      "Generation 84: Best solution = [2.8041801904073225, 1.7958204747416056], Fitness = 8.736996141946206e-05\n",
      "Generation 85: Best solution = [2.8041801904073225, 1.7958204747416056], Fitness = 8.736996141946206e-05\n",
      "Generation 86: Best solution = [2.8041801904073225, 1.7958204747416056], Fitness = 8.736996141946206e-05\n",
      "Generation 87: Best solution = [2.8041801904073225, 1.7958204747416056], Fitness = 8.736996141946206e-05\n",
      "Generation 88: Best solution = [2.8041801904073225, 1.7958204747416056], Fitness = 8.736996141946206e-05\n",
      "Generation 89: Best solution = [2.8041801904073225, 1.7958204747416056], Fitness = 8.736996141946206e-05\n",
      "Generation 90: Best solution = [2.8041801904073225, 1.7958204747416056], Fitness = 8.736996141946206e-05\n",
      "Generation 91: Best solution = [2.8041801904073225, 1.7958204747416056], Fitness = 8.736996141946206e-05\n",
      "Generation 92: Best solution = [2.8041801904073225, 1.7958204747416056], Fitness = 8.736996141946206e-05\n",
      "Generation 93: Best solution = [2.8041801904073225, 1.7958204747416056], Fitness = 8.736996141946206e-05\n",
      "Generation 94: Best solution = [2.8041801904073225, 1.7958204747416056], Fitness = 8.736996141946206e-05\n",
      "Generation 95: Best solution = [2.8041801904073225, 1.7958204747416056], Fitness = 8.736996141946206e-05\n",
      "Generation 96: Best solution = [2.8041801904073225, 1.7958204747416056], Fitness = 8.736996141946206e-05\n",
      "Generation 97: Best solution = [2.8041801904073225, 1.7958204747416056], Fitness = 8.736996141946206e-05\n",
      "Generation 98: Best solution = [2.8041801904073225, 1.7958204747416056], Fitness = 8.736996141946206e-05\n",
      "Generation 99: Best solution = [2.8041801904073225, 1.7958204747416056], Fitness = 8.736996141946206e-05\n",
      "Generation 100: Best solution = [2.8041801904073225, 1.7958204747416056], Fitness = 8.736996141946206e-05\n",
      "Generation 101: Best solution = [2.8041801904073225, 1.7958204747416056], Fitness = 8.736996141946206e-05\n",
      "Generation 102: Best solution = [2.8041801904073225, 1.7958204747416056], Fitness = 8.736996141946206e-05\n",
      "Generation 103: Best solution = [2.8041801904073225, 1.7958204747416056], Fitness = 8.736996141946206e-05\n",
      "Generation 104: Best solution = [2.8041801904073225, 1.7958204747416056], Fitness = 8.736996141946206e-05\n",
      "Generation 105: Best solution = [2.8041801904073225, 1.7958204747416056], Fitness = 8.736996141946206e-05\n",
      "Generation 106: Best solution = [2.8041801904073225, 1.7958204747416056], Fitness = 8.736996141946206e-05\n",
      "Generation 107: Best solution = [2.8041801904073225, 1.7958204747416056], Fitness = 8.736996141946206e-05\n",
      "Generation 108: Best solution = [2.8041801904073225, 1.7958204747416056], Fitness = 8.736996141946206e-05\n",
      "Generation 109: Best solution = [2.8041801904073225, 1.7958204747416056], Fitness = 8.736996141946206e-05\n",
      "Generation 110: Best solution = [2.8041801904073225, 1.7958204747416056], Fitness = 8.736996141946206e-05\n",
      "Generation 111: Best solution = [2.8041801904073225, 1.7958204747416056], Fitness = 8.736996141946206e-05\n",
      "Generation 112: Best solution = [2.8041801904073225, 1.7958204747416056], Fitness = 8.736996141946206e-05\n",
      "Generation 113: Best solution = [2.8041801904073225, 1.7958204747416056], Fitness = 8.736996141946206e-05\n",
      "Generation 114: Best solution = [2.8041801904073225, 1.7958204747416056], Fitness = 8.736996141946206e-05\n",
      "Generation 115: Best solution = [2.8041801904073225, 1.7958204747416056], Fitness = 8.736996141946206e-05\n",
      "Generation 116: Best solution = [2.8041801904073225, 1.7958204747416056], Fitness = 8.736996141946206e-05\n",
      "Generation 117: Best solution = [2.8041801904073225, 1.7958204747416056], Fitness = 8.736996141946206e-05\n",
      "Generation 118: Best solution = [2.8041801904073225, 1.7958204747416056], Fitness = 8.736996141946206e-05\n",
      "Generation 119: Best solution = [2.8041801904073225, 1.7958204747416056], Fitness = 8.736996141946206e-05\n",
      "Generation 120: Best solution = [2.8041801904073225, 1.7958204747416056], Fitness = 8.736996141946206e-05\n",
      "Generation 121: Best solution = [2.8041801904073225, 1.7958204747416056], Fitness = 8.736996141946206e-05\n",
      "Generation 122: Best solution = [2.8041801904073225, 1.7958204747416056], Fitness = 8.736996141946206e-05\n",
      "Generation 123: Best solution = [2.8041801904073225, 1.7958204747416056], Fitness = 8.736996141946206e-05\n",
      "Generation 124: Best solution = [2.8041801904073225, 1.7958204747416056], Fitness = 8.736996141946206e-05\n",
      "Generation 125: Best solution = [2.8041801904073225, 1.7958204747416056], Fitness = 8.736996141946206e-05\n",
      "Generation 126: Best solution = [2.8041801904073225, 1.7958204747416056], Fitness = 8.736996141946206e-05\n",
      "Generation 127: Best solution = [2.8041801904073225, 1.7958204747416056], Fitness = 8.736996141946206e-05\n",
      "Generation 128: Best solution = [2.8041801904073225, 1.7958204747416056], Fitness = 8.736996141946206e-05\n",
      "Generation 129: Best solution = [2.8041801904073225, 1.7958204747416056], Fitness = 8.736996141946206e-05\n",
      "Generation 130: Best solution = [2.8041801904073225, 1.7958204747416056], Fitness = 8.736996141946206e-05\n",
      "Generation 131: Best solution = [2.8041801904073225, 1.7958204747416056], Fitness = 8.736996141946206e-05\n",
      "Generation 132: Best solution = [2.8041801904073225, 1.7958204747416056], Fitness = 8.736996141946206e-05\n",
      "Generation 133: Best solution = [2.8041801904073225, 1.7958204747416056], Fitness = 8.736996141946206e-05\n",
      "Generation 134: Best solution = [2.8041801904073225, 1.7958204747416056], Fitness = 8.736996141946206e-05\n",
      "Generation 135: Best solution = [2.8041801904073225, 1.7958204747416056], Fitness = 8.736996141946206e-05\n",
      "Generation 136: Best solution = [2.8041801904073225, 1.7958204747416056], Fitness = 8.736996141946206e-05\n",
      "Generation 137: Best solution = [2.8041801904073225, 1.7958204747416056], Fitness = 8.736996141946206e-05\n",
      "Generation 138: Best solution = [2.8041801904073225, 1.7958204747416056], Fitness = 8.736996141946206e-05\n",
      "Generation 139: Best solution = [2.8041801904073225, 1.7958204747416056], Fitness = 8.736996141946206e-05\n",
      "Generation 140: Best solution = [2.8041801904073225, 1.7958204747416056], Fitness = 8.736996141946206e-05\n",
      "Generation 141: Best solution = [2.8041801904073225, 1.7958204747416056], Fitness = 8.736996141946206e-05\n",
      "Generation 142: Best solution = [2.8041801904073225, 1.7958204747416056], Fitness = 8.736996141946206e-05\n",
      "Generation 143: Best solution = [2.8041801904073225, 1.7958204747416056], Fitness = 8.736996141946206e-05\n",
      "Generation 144: Best solution = [2.8041801904073225, 1.7958204747416056], Fitness = 8.736996141946206e-05\n",
      "Generation 145: Best solution = [2.8041801904073225, 1.7958204747416056], Fitness = 8.736996141946206e-05\n",
      "Generation 146: Best solution = [2.8041801904073225, 1.7958204747416056], Fitness = 8.736996141946206e-05\n",
      "Generation 147: Best solution = [2.8041801904073225, 1.7958204747416056], Fitness = 8.736996141946206e-05\n",
      "Generation 148: Best solution = [2.8041801904073225, 1.7958204747416056], Fitness = 8.736996141946206e-05\n",
      "Generation 149: Best solution = [2.8041801904073225, 1.7958204747416056], Fitness = 8.736996141946206e-05\n",
      "Generation 150: Best solution = [2.8041801904073225, 1.7958204747416056], Fitness = 8.736996141946206e-05\n",
      "Generation 151: Best solution = [2.8041801904073225, 1.7958204747416056], Fitness = 8.736996141946206e-05\n",
      "Generation 152: Best solution = [2.8041801904073225, 1.7958204747416056], Fitness = 8.736996141946206e-05\n",
      "Generation 153: Best solution = [2.8041801904073225, 1.7958204747416056], Fitness = 8.736996141946206e-05\n",
      "Generation 154: Best solution = [2.8041801904073225, 1.7958204747416056], Fitness = 8.736996141946206e-05\n",
      "Generation 155: Best solution = [2.8041801904073225, 1.7958204747416056], Fitness = 8.736996141946206e-05\n",
      "Generation 156: Best solution = [2.8041801904073225, 1.7958204747416056], Fitness = 8.736996141946206e-05\n",
      "Generation 157: Best solution = [2.8041801904073225, 1.7958204747416056], Fitness = 8.736996141946206e-05\n",
      "Generation 158: Best solution = [2.8041801904073225, 1.7958204747416056], Fitness = 8.736996141946206e-05\n",
      "Generation 159: Best solution = [2.8041801904073225, 1.7958204747416056], Fitness = 8.736996141946206e-05\n",
      "Generation 160: Best solution = [2.8041801904073225, 1.7958204747416056], Fitness = 8.736996141946206e-05\n",
      "Generation 161: Best solution = [2.8041801904073225, 1.7958204747416056], Fitness = 8.736996141946206e-05\n",
      "Generation 162: Best solution = [2.8041801904073225, 1.7958204747416056], Fitness = 8.736996141946206e-05\n",
      "Generation 163: Best solution = [2.8041801904073225, 1.7958204747416056], Fitness = 8.736996141946206e-05\n",
      "Generation 164: Best solution = [2.8041801904073225, 1.7958204747416056], Fitness = 8.736996141946206e-05\n",
      "Generation 165: Best solution = [2.8041801904073225, 1.7958204747416056], Fitness = 8.736996141946206e-05\n",
      "Generation 166: Best solution = [2.8041801904073225, 1.7958204747416056], Fitness = 8.736996141946206e-05\n",
      "Generation 167: Best solution = [2.8041801904073225, 1.7958204747416056], Fitness = 8.736996141946206e-05\n",
      "Generation 168: Best solution = [2.8041801904073225, 1.7958204747416056], Fitness = 8.736996141946206e-05\n",
      "Generation 169: Best solution = [2.8041801904073225, 1.7958204747416056], Fitness = 8.736996141946206e-05\n",
      "Generation 170: Best solution = [2.8041801904073225, 1.7958204747416056], Fitness = 8.736996141946206e-05\n",
      "Generation 171: Best solution = [2.8041801904073225, 1.7958204747416056], Fitness = 8.736996141946206e-05\n",
      "Generation 172: Best solution = [2.8041801904073225, 1.7958204747416056], Fitness = 8.736996141946206e-05\n",
      "Generation 173: Best solution = [2.8041801904073225, 1.7958204747416056], Fitness = 8.736996141946206e-05\n",
      "Generation 174: Best solution = [2.8041801904073225, 1.7958204747416056], Fitness = 8.736996141946206e-05\n",
      "Generation 175: Best solution = [2.8041801904073225, 1.7958204747416056], Fitness = 8.736996141946206e-05\n",
      "Generation 176: Best solution = [2.8041801904073225, 1.7958204747416056], Fitness = 8.736996141946206e-05\n",
      "Generation 177: Best solution = [2.8041801904073225, 1.7958204747416056], Fitness = 8.736996141946206e-05\n",
      "Generation 178: Best solution = [2.8041801904073225, 1.7958204747416056], Fitness = 8.736996141946206e-05\n",
      "Generation 179: Best solution = [2.8041801904073225, 1.7958204747416056], Fitness = 8.736996141946206e-05\n",
      "Generation 180: Best solution = [2.8041801904073225, 1.7958204747416056], Fitness = 8.736996141946206e-05\n",
      "Generation 181: Best solution = [2.8041801904073225, 1.7958204747416056], Fitness = 8.736996141946206e-05\n",
      "Generation 182: Best solution = [2.8041801904073225, 1.7958204747416056], Fitness = 8.736996141946206e-05\n",
      "Generation 183: Best solution = [2.8041801904073225, 1.7958204747416056], Fitness = 8.736996141946206e-05\n",
      "Generation 184: Best solution = [2.8041801904073225, 1.7958204747416056], Fitness = 8.736996141946206e-05\n",
      "Generation 185: Best solution = [2.8041801904073225, 1.7958204747416056], Fitness = 8.736996141946206e-05\n",
      "Generation 186: Best solution = [2.8041801904073225, 1.7958204747416056], Fitness = 8.736996141946206e-05\n",
      "Generation 187: Best solution = [2.8041801904073225, 1.7958204747416056], Fitness = 8.736996141946206e-05\n",
      "Generation 188: Best solution = [2.8041801904073225, 1.7958204747416056], Fitness = 8.736996141946206e-05\n",
      "Generation 189: Best solution = [2.8041801904073225, 1.7958204747416056], Fitness = 8.736996141946206e-05\n",
      "Generation 190: Best solution = [2.8041801904073225, 1.7958204747416056], Fitness = 8.736996141946206e-05\n",
      "Generation 191: Best solution = [2.8041801904073225, 1.7958204747416056], Fitness = 8.736996141946206e-05\n",
      "Generation 192: Best solution = [2.8041801904073225, 1.7958204747416056], Fitness = 8.736996141946206e-05\n",
      "Generation 193: Best solution = [2.8041801904073225, 1.7958204747416056], Fitness = 8.736996141946206e-05\n",
      "Generation 194: Best solution = [2.8041801904073225, 1.7958204747416056], Fitness = 8.736996141946206e-05\n",
      "Generation 195: Best solution = [2.8041801904073225, 1.7958204747416056], Fitness = 8.736996141946206e-05\n",
      "Generation 196: Best solution = [2.8041801904073225, 1.7958204747416056], Fitness = 8.736996141946206e-05\n",
      "Generation 197: Best solution = [2.8041801904073225, 1.7958204747416056], Fitness = 8.736996141946206e-05\n",
      "Generation 198: Best solution = [2.8041801904073225, 1.7958204747416056], Fitness = 8.736996141946206e-05\n",
      "Generation 199: Best solution = [2.8041801904073225, 1.7958204747416056], Fitness = 8.736996141946206e-05\n",
      "Generation 200: Best solution = [2.8041801904073225, 1.7958204747416056], Fitness = 8.736996141946206e-05\n"
     ]
    }
   ],
   "source": [
    "# Main GA loop\n",
    "for generation in range(num_generations):\n",
    "    # Evaluate fitness\n",
    "    fitness_scores = [fitness(individual) for individual in population]\n",
    "\n",
    "    # Select parents using tournament selection\n",
    "    def tournament_selection():\n",
    "        tournament_size = 3\n",
    "        tournament = random.sample(range(population_size), tournament_size)\n",
    "        winner = min(tournament, key=lambda x: fitness_scores[x])\n",
    "        return population[winner]\n",
    "\n",
    "    # Create next generation\n",
    "    new_population = []\n",
    "\n",
    "    # Elitism: Carry over the best individuals\n",
    "    elite_indices = np.argsort(fitness_scores)[:elitism_count]\n",
    "    for i in elite_indices:\n",
    "        new_population.append(population[i])\n",
    "         # Fill the rest of the population with crossover and mutation\n",
    "    \n",
    "    while len(new_population) < population_size:\n",
    "        parent1 = tournament_selection()\n",
    "        parent2 = tournament_selection()\n",
    "        child = crossover(parent1, parent2)\n",
    "        child = mutate(child)\n",
    "        new_population.append(child)\n",
    "\n",
    "    population = new_population\n",
    "\n",
    "    # Print best individual in this generation\n",
    "    best_individual = min(population, key=fitness)\n",
    "    best_fitness = fitness(best_individual)\n",
    "    print(f\"Generation {generation + 1}: Best solution = {best_individual}, Fitness = {best_fitness}\")"
   ]
  },
  {
   "cell_type": "code",
   "execution_count": 18,
   "id": "f13c5c41-16e1-4e0f-9127-42075583be40",
   "metadata": {},
   "outputs": [
    {
     "name": "stdout",
     "output_type": "stream",
     "text": [
      "\n",
      "Final Best Solution:\n",
      "x = [2.8041801904073225, 1.7958204747416056]\n",
      "Fitness (sum of squared errors) = 8.736996141946206e-05\n"
     ]
    }
   ],
   "source": [
    "# Final result\n",
    "best_individual = min(population, key=fitness)\n",
    "best_fitness = fitness(best_individual)\n",
    "print(\"\\nFinal Best Solution:\")\n",
    "print(f\"x = {best_individual}\")\n",
    "print(f\"Fitness (sum of squared errors) = {best_fitness}\")"
   ]
  },
  {
   "cell_type": "code",
   "execution_count": null,
   "id": "9b6e7846-9be1-4dab-a517-6d0e6d0b8aaf",
   "metadata": {},
   "outputs": [],
   "source": []
  },
  {
   "cell_type": "code",
   "execution_count": null,
   "id": "d17bc446-6d5b-42b6-995e-1c4ebd3464b7",
   "metadata": {},
   "outputs": [],
   "source": []
  }
 ],
 "metadata": {
  "kernelspec": {
   "display_name": "Python 3 (ipykernel)",
   "language": "python",
   "name": "python3"
  },
  "language_info": {
   "codemirror_mode": {
    "name": "ipython",
    "version": 3
   },
   "file_extension": ".py",
   "mimetype": "text/x-python",
   "name": "python",
   "nbconvert_exporter": "python",
   "pygments_lexer": "ipython3",
   "version": "3.13.0"
  }
 },
 "nbformat": 4,
 "nbformat_minor": 5
}
