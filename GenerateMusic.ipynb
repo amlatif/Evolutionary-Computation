{
 "cells": [
  {
   "cell_type": "code",
   "execution_count": 1,
   "id": "d001f3f1-9606-469a-9514-e81cc7aecc1b",
   "metadata": {},
   "outputs": [
    {
     "name": "stdout",
     "output_type": "stream",
     "text": [
      "pygame 2.6.1 (SDL 2.28.4, Python 3.13.0)\n",
      "Hello from the pygame community. https://www.pygame.org/contribute.html\n"
     ]
    }
   ],
   "source": [
    "import pygame\n",
    "import time\n",
    "import matplotlib.pyplot as plt\n",
    "import random"
   ]
  },
  {
   "cell_type": "code",
   "execution_count": 2,
   "id": "ed5a6bbb-f811-4022-a1d7-efb64982a2ce",
   "metadata": {},
   "outputs": [],
   "source": [
    "# فرکانس‌های نت‌های موسیقی (بر حسب هرتز)\n",
    "NOTE_FREQUENCIES = {\n",
    "    \"C\": 261.63,\n",
    "    \"D\": 293.66,\n",
    "    \"E\": 329.63,\n",
    "    \"F\": 349.23,\n",
    "    \"G\": 392.00,\n",
    "    \"A\": 440.00,\n",
    "    \"B\": 493.88,\n",
    "}"
   ]
  },
  {
   "cell_type": "code",
   "execution_count": 3,
   "id": "b4954d1f-9225-45fc-8b3b-35dded5959d4",
   "metadata": {},
   "outputs": [],
   "source": [
    "# طول هر نت (بر حسب ثانیه)\n",
    "NOTE_DURATION = 0.5  # هر نت نیم ثانیه پخش می‌شود"
   ]
  },
  {
   "cell_type": "code",
   "execution_count": 4,
   "id": "3f2d1231-9538-4f4d-bb94-d2ba06a2dfe1",
   "metadata": {},
   "outputs": [],
   "source": [
    "def generate_sine_wave(frequency, duration):\n",
    "    sample_rate = 44100  # نرخ نمونه‌برداری (بر حسب هرتز)\n",
    "    amplitude = 32767  # دامنه صدا\n",
    "    num_samples = int(sample_rate * duration)\n",
    "    sound_data = []\n",
    "    for i in range(num_samples):\n",
    "        # فرمول موج سینوسی\n",
    "        value = int(amplitude * (2 * 3.14159 * frequency * i / sample_rate))\n",
    "        sound_data.append(value)\n",
    "    return pygame.sndarray.array(sound_data)"
   ]
  },
  {
   "cell_type": "code",
   "execution_count": 5,
   "id": "1a2e526b-7d93-4220-ac9b-3495c00ab1fb",
   "metadata": {},
   "outputs": [],
   "source": [
    "# تابع پخش ملودی\n",
    "def play_melody(melody):\n",
    "    pygame.mixer.init()\n",
    "    for note in melody:\n",
    "        if note in NOTE_FREQUENCIES:\n",
    "            frequency = NOTE_FREQUENCIES[note]\n",
    "            # ایجاد صدای سینوسی برای نت\n",
    "            sound = pygame.mixer.Sound(buffer=generate_sine_wave(frequency, NOTE_DURATION))\n",
    "            sound.play()\n",
    "            time.sleep(NOTE_DURATION)  # منتظر ماندن تا نت تمام شود\n",
    "        else:\n",
    "            print(f\"Note {note} is not defined.\")\n",
    "    pygame.mixer.quit()"
   ]
  },
  {
   "cell_type": "code",
   "execution_count": 6,
   "id": "1b0248f7-90a9-4ade-bdc2-559a0a7afa9d",
   "metadata": {},
   "outputs": [],
   "source": [
    "play_melody(['A','B','C','D','E','F','G','G','G','G'])"
   ]
  },
  {
   "cell_type": "code",
   "execution_count": 7,
   "id": "d6be75a1-9f97-4762-b037-4dd6ee82861b",
   "metadata": {},
   "outputs": [],
   "source": [
    "# تعریف پارامترها\n",
    "NOTES = [\"C\", \"D\", \"E\", \"F\", \"G\", \"A\", \"B\"]  # مجموعه نت‌های ممکن\n",
    "MELODY_LENGTH = 10  # طول هر ملودی\n",
    "POPULATION_SIZE = 20  # اندازه جمعیت\n",
    "GENERATIONS = 50  # تعداد نسل‌ها\n",
    "MUTATION_RATE = 0.1  # نرخ جهش"
   ]
  },
  {
   "cell_type": "code",
   "execution_count": 8,
   "id": "c0157173-35d4-4d7a-9868-368437055ca3",
   "metadata": {},
   "outputs": [],
   "source": [
    "# ایجاد یک فرد (ملودی)\n",
    "def create_individual():\n",
    "    return [random.choice(NOTES) for _ in range(MELODY_LENGTH)]"
   ]
  },
  {
   "cell_type": "code",
   "execution_count": 9,
   "id": "37288fee-6ba2-4d7e-b20e-d513b5acbcf6",
   "metadata": {},
   "outputs": [
    {
     "data": {
      "text/plain": [
       "['D', 'E', 'C', 'F', 'F', 'A', 'C', 'E', 'B', 'F']"
      ]
     },
     "execution_count": 9,
     "metadata": {},
     "output_type": "execute_result"
    }
   ],
   "source": [
    "create_individual()"
   ]
  },
  {
   "cell_type": "code",
   "execution_count": 10,
   "id": "1268e8b8-1bd5-4749-8518-d7d6c6d9d1e2",
   "metadata": {},
   "outputs": [],
   "source": [
    "# ایجاد یک فرد (ملودی)\n",
    "def create_individual():\n",
    "    return [random.sample(NOTES, k = 1) for _ in range(MELODY_LENGTH)]"
   ]
  },
  {
   "cell_type": "code",
   "execution_count": 11,
   "id": "8e212148-b216-4c58-89dd-f01f47e47a15",
   "metadata": {},
   "outputs": [
    {
     "data": {
      "text/plain": [
       "[['A'], ['G'], ['E'], ['D'], ['A'], ['E'], ['E'], ['D'], ['A'], ['A']]"
      ]
     },
     "execution_count": 11,
     "metadata": {},
     "output_type": "execute_result"
    }
   ],
   "source": [
    "create_individual()"
   ]
  },
  {
   "cell_type": "code",
   "execution_count": 12,
   "id": "a479d0cd-68bf-4da9-b28d-1980fa7fcefc",
   "metadata": {},
   "outputs": [],
   "source": [
    "# ایجاد یک فرد (ملودی)\n",
    "def create_individual():\n",
    "    return random.sample(NOTES, k = MELODY_LENGTH)"
   ]
  },
  {
   "cell_type": "code",
   "execution_count": 13,
   "id": "faad5b1e-223e-4cfe-ab8f-6eada3663281",
   "metadata": {},
   "outputs": [
    {
     "ename": "ValueError",
     "evalue": "Sample larger than population or is negative",
     "output_type": "error",
     "traceback": [
      "\u001b[1;31m---------------------------------------------------------------------------\u001b[0m",
      "\u001b[1;31mValueError\u001b[0m                                Traceback (most recent call last)",
      "Cell \u001b[1;32mIn[13], line 1\u001b[0m\n\u001b[1;32m----> 1\u001b[0m \u001b[43mcreate_individual\u001b[49m\u001b[43m(\u001b[49m\u001b[43m)\u001b[49m\n",
      "Cell \u001b[1;32mIn[12], line 3\u001b[0m, in \u001b[0;36mcreate_individual\u001b[1;34m()\u001b[0m\n\u001b[0;32m      2\u001b[0m \u001b[38;5;28;01mdef\u001b[39;00m \u001b[38;5;21mcreate_individual\u001b[39m():\n\u001b[1;32m----> 3\u001b[0m     \u001b[38;5;28;01mreturn\u001b[39;00m \u001b[43mrandom\u001b[49m\u001b[38;5;241;43m.\u001b[39;49m\u001b[43msample\u001b[49m\u001b[43m(\u001b[49m\u001b[43mNOTES\u001b[49m\u001b[43m,\u001b[49m\u001b[43m \u001b[49m\u001b[43mk\u001b[49m\u001b[43m \u001b[49m\u001b[38;5;241;43m=\u001b[39;49m\u001b[43m \u001b[49m\u001b[43mMELODY_LENGTH\u001b[49m\u001b[43m)\u001b[49m\n",
      "File \u001b[1;32m~\\AppData\\Local\\Programs\\Python\\Python313\\Lib\\random.py:434\u001b[0m, in \u001b[0;36mRandom.sample\u001b[1;34m(self, population, k, counts)\u001b[0m\n\u001b[0;32m    432\u001b[0m randbelow \u001b[38;5;241m=\u001b[39m \u001b[38;5;28mself\u001b[39m\u001b[38;5;241m.\u001b[39m_randbelow\n\u001b[0;32m    433\u001b[0m \u001b[38;5;28;01mif\u001b[39;00m \u001b[38;5;129;01mnot\u001b[39;00m \u001b[38;5;241m0\u001b[39m \u001b[38;5;241m<\u001b[39m\u001b[38;5;241m=\u001b[39m k \u001b[38;5;241m<\u001b[39m\u001b[38;5;241m=\u001b[39m n:\n\u001b[1;32m--> 434\u001b[0m     \u001b[38;5;28;01mraise\u001b[39;00m \u001b[38;5;167;01mValueError\u001b[39;00m(\u001b[38;5;124m\"\u001b[39m\u001b[38;5;124mSample larger than population or is negative\u001b[39m\u001b[38;5;124m\"\u001b[39m)\n\u001b[0;32m    435\u001b[0m result \u001b[38;5;241m=\u001b[39m [\u001b[38;5;28;01mNone\u001b[39;00m] \u001b[38;5;241m*\u001b[39m k\n\u001b[0;32m    436\u001b[0m setsize \u001b[38;5;241m=\u001b[39m \u001b[38;5;241m21\u001b[39m        \u001b[38;5;66;03m# size of a small set minus size of an empty list\u001b[39;00m\n",
      "\u001b[1;31mValueError\u001b[0m: Sample larger than population or is negative"
     ]
    }
   ],
   "source": [
    "create_individual()"
   ]
  },
  {
   "cell_type": "code",
   "execution_count": 14,
   "id": "3ce46c92-075c-4979-98ee-54783de42d61",
   "metadata": {},
   "outputs": [],
   "source": [
    "# ایجاد یک فرد (ملودی)\n",
    "def create_individual():\n",
    "    return random.sample(NOTES, k = 4)#MELODY_LENGTH)"
   ]
  },
  {
   "cell_type": "code",
   "execution_count": 15,
   "id": "b617420b-b31a-46a4-a5b1-c6d03545dad6",
   "metadata": {},
   "outputs": [
    {
     "data": {
      "text/plain": [
       "['A', 'B', 'G', 'C']"
      ]
     },
     "execution_count": 15,
     "metadata": {},
     "output_type": "execute_result"
    }
   ],
   "source": [
    "create_individual()"
   ]
  },
  {
   "cell_type": "code",
   "execution_count": 16,
   "id": "bcc2d182-c4ec-4de0-bbdc-d998a116788c",
   "metadata": {},
   "outputs": [],
   "source": [
    "# ایجاد یک فرد (ملودی)\n",
    "def create_individual():\n",
    "    return [random.choice(NOTES) for _ in range(MELODY_LENGTH)]"
   ]
  },
  {
   "cell_type": "code",
   "execution_count": 17,
   "id": "cda1f495-2fd5-482f-a84f-41525b0e41e4",
   "metadata": {},
   "outputs": [
    {
     "data": {
      "text/plain": [
       "['F', 'F', 'F', 'C', 'F', 'F', 'F', 'E', 'E', 'E']"
      ]
     },
     "execution_count": 17,
     "metadata": {},
     "output_type": "execute_result"
    }
   ],
   "source": [
    "create_individual()"
   ]
  },
  {
   "cell_type": "code",
   "execution_count": 18,
   "id": "d3631320-9687-4b3d-bd82-2dea6e3f012d",
   "metadata": {},
   "outputs": [],
   "source": [
    "# ایجاد جمعیت اولیه\n",
    "def create_population():\n",
    "    return [create_individual() for _ in range(POPULATION_SIZE)]"
   ]
  },
  {
   "cell_type": "code",
   "execution_count": 19,
   "id": "47eee1f2-50c5-43f8-8db8-9b00a7f9aa25",
   "metadata": {},
   "outputs": [
    {
     "data": {
      "text/plain": [
       "[['A', 'C', 'G', 'D', 'E', 'B', 'D', 'D', 'D', 'B'],\n",
       " ['F', 'D', 'A', 'G', 'A', 'D', 'E', 'A', 'C', 'A'],\n",
       " ['F', 'E', 'G', 'A', 'F', 'C', 'E', 'F', 'D', 'B'],\n",
       " ['B', 'E', 'A', 'C', 'A', 'C', 'B', 'A', 'B', 'D'],\n",
       " ['D', 'E', 'G', 'E', 'E', 'F', 'B', 'F', 'B', 'E'],\n",
       " ['G', 'F', 'B', 'B', 'C', 'E', 'F', 'A', 'G', 'C'],\n",
       " ['F', 'G', 'B', 'F', 'F', 'G', 'G', 'E', 'B', 'A'],\n",
       " ['A', 'B', 'G', 'D', 'G', 'F', 'D', 'G', 'E', 'A'],\n",
       " ['F', 'G', 'A', 'A', 'A', 'F', 'G', 'G', 'D', 'B'],\n",
       " ['B', 'A', 'B', 'C', 'D', 'F', 'C', 'G', 'G', 'C'],\n",
       " ['C', 'E', 'A', 'E', 'C', 'G', 'D', 'A', 'E', 'E'],\n",
       " ['G', 'E', 'E', 'B', 'G', 'B', 'D', 'E', 'B', 'C'],\n",
       " ['B', 'F', 'C', 'B', 'F', 'C', 'A', 'E', 'G', 'G'],\n",
       " ['A', 'C', 'A', 'B', 'D', 'D', 'C', 'F', 'C', 'F'],\n",
       " ['G', 'A', 'D', 'A', 'E', 'G', 'A', 'D', 'D', 'E'],\n",
       " ['E', 'D', 'E', 'D', 'F', 'D', 'F', 'D', 'D', 'E'],\n",
       " ['G', 'F', 'E', 'F', 'G', 'D', 'B', 'C', 'B', 'F'],\n",
       " ['A', 'E', 'D', 'F', 'A', 'F', 'A', 'A', 'B', 'A'],\n",
       " ['B', 'B', 'F', 'E', 'B', 'G', 'C', 'F', 'B', 'G'],\n",
       " ['C', 'A', 'A', 'F', 'F', 'G', 'A', 'D', 'G', 'C']]"
      ]
     },
     "execution_count": 19,
     "metadata": {},
     "output_type": "execute_result"
    }
   ],
   "source": [
    "create_population()"
   ]
  },
  {
   "cell_type": "code",
   "execution_count": 20,
   "id": "2c5706d1-5b2f-4a84-987f-ae51372fa1d7",
   "metadata": {},
   "outputs": [],
   "source": [
    "# تابع برازندگی (ارزیابی کیفیت ملودی)\n",
    "def fitness(melody):\n",
    "    score = 0\n",
    "    # تنوع نت‌ها (هرچه تنوع بیشتر، بهتر)\n",
    "    unique_notes = set(melody)\n",
    "    score += len(unique_notes)\n",
    "    \n",
    "    # هارمونی (عدم تکرار نت‌های مشابه پشت سر هم)\n",
    "    for i in range(len(melody) - 1):\n",
    "        if melody[i] != melody[i + 1]:\n",
    "            score += 1\n",
    "    return score"
   ]
  },
  {
   "cell_type": "markdown",
   "id": "41e15a09-e02b-40d0-b54f-42ce235ac741",
   "metadata": {},
   "source": [
    "Note Diversity\n",
    "\n",
    "یک ملودی جذاب معمولاً از تنوع نت‌های مختلف استفاده می‌کند. تکرار بیش از حد یک نت می‌تواند ملودی را خسته‌کننده کند."
   ]
  },
  {
   "cell_type": "code",
   "execution_count": 21,
   "id": "0098c339-92af-4166-8a00-e53dfc3341d7",
   "metadata": {},
   "outputs": [],
   "source": [
    "play_melody(['A','A','A','A','A','A','A','A','A','A'])"
   ]
  },
  {
   "cell_type": "code",
   "execution_count": null,
   "id": "cc6a98fa-7d79-4e00-9fcc-1dfa61d94200",
   "metadata": {},
   "outputs": [],
   "source": [
    "play_melody(['A','A','A','A','A','G','G','G','G','G'])"
   ]
  },
  {
   "cell_type": "markdown",
   "id": "987acdc1-8605-42dc-af45-b456a5074827",
   "metadata": {},
   "source": [
    "تعداد نت‌های منحصر به فرد در ملودی را شمارش کنید.\n",
    "\n",
    "هرچه تعداد نت‌های منحصر به فرد بیشتر باشد، امتیاز بالاتری به ملودی داده می‌شود"
   ]
  },
  {
   "cell_type": "code",
   "execution_count": 22,
   "id": "fabe5804-13e4-465e-b3a7-055fdee9d805",
   "metadata": {},
   "outputs": [
    {
     "data": {
      "text/plain": [
       "1"
      ]
     },
     "execution_count": 22,
     "metadata": {},
     "output_type": "execute_result"
    }
   ],
   "source": [
    "melody = ['A','A','A','A','A','A','A','A','A','A']\n",
    "unique_notes = set(melody)\n",
    "diversity_score = len(unique_notes)\n",
    "diversity_score"
   ]
  },
  {
   "cell_type": "markdown",
   "id": "73477fa6-88be-4780-9c9e-d290f942c7d6",
   "metadata": {},
   "source": [
    "Harmony\n",
    "\n",
    "هارمونی به معنای هماهنگی بین نت‌هاست. یک ملودی خوب باید از تکرار نت‌های مشابه پشت سر هم اجتناب کند و فواصل موسیقایی مناسبی بین نت‌ها وجود داشته باشد."
   ]
  },
  {
   "cell_type": "code",
   "execution_count": 23,
   "id": "43af357d-de5a-46a2-852f-53fe748d78ed",
   "metadata": {},
   "outputs": [
    {
     "data": {
      "text/plain": [
       "0"
      ]
     },
     "execution_count": 23,
     "metadata": {},
     "output_type": "execute_result"
    }
   ],
   "source": [
    "harmony_score = 0\n",
    "for i in range(len(melody) - 1):\n",
    "    if melody[i] != melody[i + 1]:\n",
    "        harmony_score += 1\n",
    "\n",
    "harmony_score"
   ]
  },
  {
   "cell_type": "markdown",
   "id": "815ba782-8aa9-4ad4-90db-254278795e41",
   "metadata": {},
   "source": [
    "Scale گام\n",
    "\n",
    "بررسی کنید که هر نت در ملودی متعلق به گام مورد نظر است یا خیر\n",
    "\n",
    "هرچه تعداد نت‌های خارج از گام کمتر باشد، امتیاز بالاتری به ملودی داده می‌شود"
   ]
  },
  {
   "cell_type": "code",
   "execution_count": 24,
   "id": "6b2fc50c-5d7f-4c48-a2ed-19b929840db6",
   "metadata": {},
   "outputs": [],
   "source": [
    "scale = [\"C\", \"D\", \"E\", \"F\", \"G\", \"A\", \"B\"]  # گام C ماژور\n",
    "scale_score = 0\n",
    "for note in melody:\n",
    "    if note in scale:\n",
    "        scale_score += 1"
   ]
  },
  {
   "cell_type": "code",
   "execution_count": 25,
   "id": "e454b431-c43f-4e49-b88f-111902ade716",
   "metadata": {},
   "outputs": [
    {
     "data": {
      "text/plain": [
       "10"
      ]
     },
     "execution_count": 25,
     "metadata": {},
     "output_type": "execute_result"
    }
   ],
   "source": [
    "scale_score"
   ]
  },
  {
   "cell_type": "markdown",
   "id": "4a330005-632f-4556-bcf0-4893861d0acb",
   "metadata": {},
   "source": [
    "Intervals\n",
    "\n",
    "فواصل موسیقایی به فاصله‌ی بین دو نت متوالی اشاره دارد. فواصل خاص (مانند سوم، پنجم یا اکتاو) می‌توانند ملودی را جذاب‌تر کنند.\n",
    "\n",
    "فواصل بین نت‌های متوالی را محاسبه کنید.\n",
    "\n",
    "فواصل مطلوب (مانند سوم یا پنجم) را شناسایی کرده و به آن‌ها امتیاز دهید"
   ]
  },
  {
   "cell_type": "code",
   "execution_count": 26,
   "id": "55d5f79c-a177-452b-92a8-d508dd713763",
   "metadata": {},
   "outputs": [
    {
     "data": {
      "text/plain": [
       "0"
      ]
     },
     "execution_count": 26,
     "metadata": {},
     "output_type": "execute_result"
    }
   ],
   "source": [
    "intervals = []\n",
    "for i in range(len(melody) - 1):\n",
    "    interval = abs(ord(melody[i + 1]) - ord(melody[i]))  # فاصله بین دو نت\n",
    "    intervals.append(interval)\n",
    "interval_score = sum(1 for i in intervals if i in [3, 5, 7])  # فواصل مطلوب\n",
    "interval_score"
   ]
  },
  {
   "cell_type": "code",
   "execution_count": 27,
   "id": "5f29a9eb-f312-411a-911c-b4af27f2bd84",
   "metadata": {},
   "outputs": [
    {
     "data": {
      "text/plain": [
       "65"
      ]
     },
     "execution_count": 27,
     "metadata": {},
     "output_type": "execute_result"
    }
   ],
   "source": [
    "ord(\"A\")"
   ]
  },
  {
   "cell_type": "markdown",
   "id": "3df6bacd-9c57-4747-abdb-1992d7988bba",
   "metadata": {},
   "source": [
    "Pattern Repetition\n",
    "\n",
    "تکرار الگوهای کوچک در ملودی می‌تواند آن را به یاد ماندنی‌تر کند. با این حال، تکرار بیش از حد می‌تواند ملودی را خسته‌کننده کند."
   ]
  },
  {
   "cell_type": "markdown",
   "id": "05112e37-2271-4431-91ba-88e6eefa1283",
   "metadata": {},
   "source": [
    "الگوهای تکراری در ملودی را شناسایی کنید.\n",
    "\n",
    "به ملودی‌هایی که الگوهای متعادل و جذاب دارند، امتیاز دهید"
   ]
  },
  {
   "cell_type": "code",
   "execution_count": 28,
   "id": "d28f796c-fb89-4e58-a3c6-a48fd2bf8fcf",
   "metadata": {},
   "outputs": [
    {
     "data": {
      "text/plain": [
       "8"
      ]
     },
     "execution_count": 28,
     "metadata": {},
     "output_type": "execute_result"
    }
   ],
   "source": [
    "pattern_score = 0\n",
    "for i in range(len(melody) - 2):\n",
    "    if melody[i] == melody[i + 2]:  # شناسایی الگوهای تکراری\n",
    "        pattern_score += 1\n",
    "\n",
    "pattern_score"
   ]
  },
  {
   "cell_type": "markdown",
   "id": "14ba30ef-3fb1-4704-833a-d3c80d999d44",
   "metadata": {},
   "source": [
    "Cadence\n",
    "\n",
    "شروع و پایان مناسب\n",
    "\n",
    "شروع و پایان ملودی باید با قواعد موسیقی هماهنگ باشد. به عنوان مثال، پایان ملودی معمولاً روی نت پایه گام قرار می‌گیرد"
   ]
  },
  {
   "cell_type": "markdown",
   "id": "3b6e416b-4bfd-4a2a-9221-eb9811b4f656",
   "metadata": {},
   "source": [
    "بررسی کنید که ملودی با نت پایه گام شروع یا پایان می‌یابد.\n",
    "\n",
    "به ملودی‌هایی که شروع و پایان مناسبی دارند، امتیاز دهید"
   ]
  },
  {
   "cell_type": "code",
   "execution_count": 29,
   "id": "2d481ed9-58c8-4bb8-8cbc-7dab7707e369",
   "metadata": {},
   "outputs": [],
   "source": [
    "cadence_score = 0\n",
    "if melody[0] == \"C\":  # شروع با نت پایه گام C ماژور\n",
    "    cadence_score += 1\n",
    "if melody[-1] == \"C\":  # پایان با نت پایه گام C ماژور\n",
    "    cadence_score += 1"
   ]
  },
  {
   "cell_type": "markdown",
   "id": "43981be1-10f1-4fdc-8696-4bc23d64c4f2",
   "metadata": {},
   "source": [
    "Melodic Complexity\n",
    "\n",
    "یک ملودی جذاب معمولاً از پیچیدگی مناسبی برخوردار است. ملودی‌های خیلی ساده ممکن است خسته‌کننده باشند، در حالی که ملودی‌های خیلی پیچیده ممکن است گوش‌نواز نباشند.\n"
   ]
  },
  {
   "cell_type": "code",
   "execution_count": 30,
   "id": "70ee732b-37fa-4079-ac71-48d383d4344f",
   "metadata": {},
   "outputs": [
    {
     "data": {
      "text/plain": [
       "0"
      ]
     },
     "execution_count": 30,
     "metadata": {},
     "output_type": "execute_result"
    }
   ],
   "source": [
    "complexity_score = 0\n",
    "for i in range(len(melody) - 2):\n",
    "    if (melody[i] < melody[i + 1] and melody[i + 1] > melody[i + 2]) or \\\n",
    "       (melody[i] > melody[i + 1] and melody[i + 1] < melody[i + 2]):\n",
    "        complexity_score += 1\n",
    "\n",
    "complexity_score"
   ]
  },
  {
   "cell_type": "markdown",
   "id": "1886565e-b2dc-427e-8c5c-d21c7bd4c192",
   "metadata": {},
   "source": [
    "معیارهای فوق را می‌توان با وزن‌های مختلف ترکیب کرد تا تابع برازندگی نهایی ساخته شود"
   ]
  },
  {
   "cell_type": "code",
   "execution_count": 31,
   "id": "5512873f-0417-4957-b5fa-8699a456c6dd",
   "metadata": {},
   "outputs": [],
   "source": [
    "def fitness(melody):\n",
    "    diversity_score = len(set(melody))\n",
    "    harmony_score = sum(1 for i in range(len(melody) - 1) if melody[i] != melody[i + 1])\n",
    "    scale_score = sum(1 for note in melody if note in scale)\n",
    "    interval_score = sum(1 for i in range(len(melody) - 1) if abs(ord(melody[i + 1]) - ord(melody[i])) in [3, 5, 7])\n",
    "    cadence_score = (1 if melody[0] == \"C\" else 0) + (1 if melody[-1] == \"C\" else 0)\n",
    "    \n",
    "    # ترکیب معیارها با وزن‌های مختلف\n",
    "    total_score = (diversity_score * 2) + (harmony_score * 3) + (scale_score * 2) + (interval_score * 1.5) + (cadence_score * 2)\n",
    "    return total_score"
   ]
  },
  {
   "cell_type": "code",
   "execution_count": 32,
   "id": "4a68673d-e33e-48d3-834a-7f6da8bae879",
   "metadata": {},
   "outputs": [],
   "source": [
    "# تابع برازندگی (ارزیابی کیفیت ملودی)\n",
    "def fitness(melody):\n",
    "    score = 0\n",
    "    # تنوع نت‌ها (هرچه تنوع بیشتر، بهتر)\n",
    "    unique_notes = set(melody)\n",
    "    score += len(unique_notes)\n",
    "    \n",
    "    # هارمونی (عدم تکرار نت‌های مشابه پشت سر هم)\n",
    "    for i in range(len(melody) - 1):\n",
    "        if melody[i] != melody[i + 1]:\n",
    "            score += 1\n",
    "    return score"
   ]
  },
  {
   "cell_type": "code",
   "execution_count": 33,
   "id": "0b6fe4b6-5dbe-47fa-9b78-4f8f94dea950",
   "metadata": {},
   "outputs": [],
   "source": [
    "# انتخاب والدین (روش چرخ رولت)\n",
    "def select_parents(population, fitness_scores):\n",
    "    total_fitness = sum(fitness_scores)\n",
    "    probabilities = [score / total_fitness for score in fitness_scores]\n",
    "    parents = random.choices(population, weights=probabilities, k=2)\n",
    "    return parents"
   ]
  },
  {
   "cell_type": "code",
   "execution_count": 34,
   "id": "677b134c-3681-412d-923d-4bf34f8b62b9",
   "metadata": {},
   "outputs": [],
   "source": [
    "# تقاطع (Crossover)\n",
    "def crossover(parent1, parent2):\n",
    "    crossover_point = random.randint(1, MELODY_LENGTH - 1)\n",
    "    child1 = parent1[:crossover_point] + parent2[crossover_point:]\n",
    "    child2 = parent2[:crossover_point] + parent1[crossover_point:]\n",
    "    return child1, child2"
   ]
  },
  {
   "cell_type": "code",
   "execution_count": 35,
   "id": "bc34e5fe-b9d6-45ce-93f4-1232c96ee403",
   "metadata": {},
   "outputs": [],
   "source": [
    "# جهش (Mutation)\n",
    "def mutate(melody):\n",
    "    for i in range(len(melody)):\n",
    "        if random.random() < MUTATION_RATE:\n",
    "            melody[i] = random.choice(NOTES)\n",
    "    return melody"
   ]
  },
  {
   "cell_type": "code",
   "execution_count": 36,
   "id": "eb35b086-3d9a-4147-b965-f7c06a427a71",
   "metadata": {},
   "outputs": [],
   "source": [
    "# الگوریتم ژنتیک\n",
    "def genetic_algorithm():\n",
    "    population = create_population()\n",
    "    for generation in range(GENERATIONS):\n",
    "        fitness_scores = [fitness(melody) for melody in population]\n",
    "        new_population = []\n",
    "        for _ in range(POPULATION_SIZE // 2):\n",
    "            parent1, parent2 = select_parents(population, fitness_scores)\n",
    "            child1, child2 = crossover(parent1, parent2)\n",
    "            new_population.append(mutate(child1))\n",
    "            new_population.append(mutate(child2))\n",
    "        population = new_population\n",
    "        best_melody = max(population, key=fitness)\n",
    "        print(f\"Generation {generation + 1}: Best Fitness = {fitness(best_melody)}\")\n",
    "    return best_melody"
   ]
  },
  {
   "cell_type": "code",
   "execution_count": 37,
   "id": "be16174e-4ad0-42c1-ba2f-7eb39033775c",
   "metadata": {},
   "outputs": [
    {
     "name": "stdout",
     "output_type": "stream",
     "text": [
      "Generation 1: Best Fitness = 16\n",
      "Generation 2: Best Fitness = 15\n",
      "Generation 3: Best Fitness = 16\n",
      "Generation 4: Best Fitness = 15\n",
      "Generation 5: Best Fitness = 16\n",
      "Generation 6: Best Fitness = 16\n",
      "Generation 7: Best Fitness = 16\n",
      "Generation 8: Best Fitness = 16\n",
      "Generation 9: Best Fitness = 16\n",
      "Generation 10: Best Fitness = 15\n",
      "Generation 11: Best Fitness = 15\n",
      "Generation 12: Best Fitness = 15\n",
      "Generation 13: Best Fitness = 16\n",
      "Generation 14: Best Fitness = 16\n",
      "Generation 15: Best Fitness = 16\n",
      "Generation 16: Best Fitness = 15\n",
      "Generation 17: Best Fitness = 16\n",
      "Generation 18: Best Fitness = 16\n",
      "Generation 19: Best Fitness = 16\n",
      "Generation 20: Best Fitness = 16\n",
      "Generation 21: Best Fitness = 16\n",
      "Generation 22: Best Fitness = 15\n",
      "Generation 23: Best Fitness = 16\n",
      "Generation 24: Best Fitness = 15\n",
      "Generation 25: Best Fitness = 15\n",
      "Generation 26: Best Fitness = 16\n",
      "Generation 27: Best Fitness = 16\n",
      "Generation 28: Best Fitness = 16\n",
      "Generation 29: Best Fitness = 16\n",
      "Generation 30: Best Fitness = 16\n",
      "Generation 31: Best Fitness = 16\n",
      "Generation 32: Best Fitness = 16\n",
      "Generation 33: Best Fitness = 16\n",
      "Generation 34: Best Fitness = 16\n",
      "Generation 35: Best Fitness = 16\n",
      "Generation 36: Best Fitness = 16\n",
      "Generation 37: Best Fitness = 15\n",
      "Generation 38: Best Fitness = 16\n",
      "Generation 39: Best Fitness = 15\n",
      "Generation 40: Best Fitness = 15\n",
      "Generation 41: Best Fitness = 15\n",
      "Generation 42: Best Fitness = 15\n",
      "Generation 43: Best Fitness = 15\n",
      "Generation 44: Best Fitness = 16\n",
      "Generation 45: Best Fitness = 15\n",
      "Generation 46: Best Fitness = 16\n",
      "Generation 47: Best Fitness = 16\n",
      "Generation 48: Best Fitness = 16\n",
      "Generation 49: Best Fitness = 16\n",
      "Generation 50: Best Fitness = 15\n",
      "\n",
      "Best Melody:\n",
      "D B D F D C E F E G\n"
     ]
    }
   ],
   "source": [
    "# اجرای الگوریتم\n",
    "best_melody = genetic_algorithm()\n",
    "print(\"\\nBest Melody:\")\n",
    "print(\" \".join(best_melody))"
   ]
  },
  {
   "cell_type": "code",
   "execution_count": 38,
   "id": "0cf4556b-3e3f-46d9-b8c9-c17ee87bab00",
   "metadata": {},
   "outputs": [],
   "source": [
    "play_melody(best_melody)"
   ]
  },
  {
   "cell_type": "code",
   "execution_count": null,
   "id": "6cf34e8e-0776-4c8e-9346-d498315faeef",
   "metadata": {},
   "outputs": [],
   "source": []
  }
 ],
 "metadata": {
  "kernelspec": {
   "display_name": "Python 3 (ipykernel)",
   "language": "python",
   "name": "python3"
  },
  "language_info": {
   "codemirror_mode": {
    "name": "ipython",
    "version": 3
   },
   "file_extension": ".py",
   "mimetype": "text/x-python",
   "name": "python",
   "nbconvert_exporter": "python",
   "pygments_lexer": "ipython3",
   "version": "3.13.0"
  }
 },
 "nbformat": 4,
 "nbformat_minor": 5
}
